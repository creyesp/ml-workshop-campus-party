{
 "cells": [
  {
   "cell_type": "markdown",
   "id": "3dcb73cb",
   "metadata": {},
   "source": [
    "# Processing data\n",
    "\n",
    "[Documentation](https://scikit-learn.org/stable/modules/preprocessing.html#preprocessing-data)"
   ]
  },
  {
   "cell_type": "code",
   "execution_count": 11,
   "id": "deb55e8a",
   "metadata": {},
   "outputs": [],
   "source": [
    "from sklearn import preprocessing\n",
    "import pandas as pd"
   ]
  },
  {
   "cell_type": "code",
   "execution_count": 3,
   "id": "c3e4b583",
   "metadata": {},
   "outputs": [],
   "source": [
    "train_path = '../data/users_train.csv'\n",
    "train_data = pd.read_csv(train_path)"
   ]
  },
  {
   "cell_type": "markdown",
   "id": "e9975b0d",
   "metadata": {},
   "source": [
    "# Numeric Transformation\n",
    "\n",
    "$$f(x) = \\frac{x-\\bar x}{\\sigma}$$"
   ]
  },
  {
   "cell_type": "code",
   "execution_count": 19,
   "id": "cb8ecf6a",
   "metadata": {},
   "outputs": [
    {
     "data": {
      "text/html": [
       "<div>\n",
       "<style scoped>\n",
       "    .dataframe tbody tr th:only-of-type {\n",
       "        vertical-align: middle;\n",
       "    }\n",
       "\n",
       "    .dataframe tbody tr th {\n",
       "        vertical-align: top;\n",
       "    }\n",
       "\n",
       "    .dataframe thead th {\n",
       "        text-align: right;\n",
       "    }\n",
       "</style>\n",
       "<table border=\"1\" class=\"dataframe\">\n",
       "  <thead>\n",
       "    <tr style=\"text-align: right;\">\n",
       "      <th></th>\n",
       "      <th>cnt_user_engagement</th>\n",
       "    </tr>\n",
       "  </thead>\n",
       "  <tbody>\n",
       "    <tr>\n",
       "      <th>0</th>\n",
       "      <td>1</td>\n",
       "    </tr>\n",
       "    <tr>\n",
       "      <th>1</th>\n",
       "      <td>172</td>\n",
       "    </tr>\n",
       "    <tr>\n",
       "      <th>2</th>\n",
       "      <td>74</td>\n",
       "    </tr>\n",
       "    <tr>\n",
       "      <th>3</th>\n",
       "      <td>30</td>\n",
       "    </tr>\n",
       "    <tr>\n",
       "      <th>4</th>\n",
       "      <td>20</td>\n",
       "    </tr>\n",
       "    <tr>\n",
       "      <th>...</th>\n",
       "      <td>...</td>\n",
       "    </tr>\n",
       "    <tr>\n",
       "      <th>7185</th>\n",
       "      <td>13</td>\n",
       "    </tr>\n",
       "    <tr>\n",
       "      <th>7186</th>\n",
       "      <td>6</td>\n",
       "    </tr>\n",
       "    <tr>\n",
       "      <th>7187</th>\n",
       "      <td>39</td>\n",
       "    </tr>\n",
       "    <tr>\n",
       "      <th>7188</th>\n",
       "      <td>9</td>\n",
       "    </tr>\n",
       "    <tr>\n",
       "      <th>7189</th>\n",
       "      <td>24</td>\n",
       "    </tr>\n",
       "  </tbody>\n",
       "</table>\n",
       "<p>7190 rows × 1 columns</p>\n",
       "</div>"
      ],
      "text/plain": [
       "      cnt_user_engagement\n",
       "0                       1\n",
       "1                     172\n",
       "2                      74\n",
       "3                      30\n",
       "4                      20\n",
       "...                   ...\n",
       "7185                   13\n",
       "7186                    6\n",
       "7187                   39\n",
       "7188                    9\n",
       "7189                   24\n",
       "\n",
       "[7190 rows x 1 columns]"
      ]
     },
     "execution_count": 19,
     "metadata": {},
     "output_type": "execute_result"
    }
   ],
   "source": [
    "x_numeric = train_data[['cnt_user_engagement']]\n",
    "x_numeric"
   ]
  },
  {
   "cell_type": "code",
   "execution_count": 12,
   "id": "8fe63af5",
   "metadata": {},
   "outputs": [
    {
     "data": {
      "text/plain": [
       "StandardScaler()"
      ]
     },
     "execution_count": 12,
     "metadata": {},
     "output_type": "execute_result"
    }
   ],
   "source": [
    "scaler = preprocessing.StandardScaler()"
   ]
  },
  {
   "cell_type": "code",
   "execution_count": 15,
   "id": "1839eb1c",
   "metadata": {},
   "outputs": [
    {
     "data": {
      "text/plain": [
       "StandardScaler()"
      ]
     },
     "execution_count": 15,
     "metadata": {},
     "output_type": "execute_result"
    }
   ],
   "source": [
    "scaler.fit(x_numeric)"
   ]
  },
  {
   "cell_type": "code",
   "execution_count": 16,
   "id": "6c3a3164",
   "metadata": {},
   "outputs": [
    {
     "data": {
      "text/plain": [
       "array([[-0.55610442],\n",
       "       [ 2.60049074],\n",
       "       [ 0.7914479 ],\n",
       "       ...,\n",
       "       [ 0.14536117],\n",
       "       [-0.40842746],\n",
       "       [-0.13153314]])"
      ]
     },
     "execution_count": 16,
     "metadata": {},
     "output_type": "execute_result"
    }
   ],
   "source": [
    "scaler.transform(x_numeric)"
   ]
  },
  {
   "cell_type": "code",
   "execution_count": 18,
   "id": "ebd21856",
   "metadata": {},
   "outputs": [
    {
     "data": {
      "text/plain": [
       "(array([31.12545202]), array([2934.63739114]))"
      ]
     },
     "execution_count": 18,
     "metadata": {},
     "output_type": "execute_result"
    }
   ],
   "source": [
    "scaler.mean_, scaler.var_"
   ]
  },
  {
   "cell_type": "code",
   "execution_count": null,
   "id": "dff033bb",
   "metadata": {},
   "outputs": [],
   "source": []
  },
  {
   "cell_type": "code",
   "execution_count": null,
   "id": "d104a67d",
   "metadata": {},
   "outputs": [],
   "source": [
    "numeric_transformer = Pipeline(\n",
    "    steps=[\n",
    "        (\"imputer\", SimpleImputer(strategy=\"constant\", fill_value=0)),\n",
    "        (\"scaler\", StandardScaler()),\n",
    "    ]\n",
    ")\n",
    "\n",
    "\n",
    "categorical_steps = [(\"imputer\",SimpleImputer(strategy=\"most_frequent\"))] \n",
    "if most_common:\n",
    "    categorical_steps += [(\"most_common\", MostCommonCategories(thr=most_common))]\n",
    "categorical_steps += [(\"onehot\", OneHotEncoder(categories=\"auto\", handle_unknown=\"ignore\"))]\n",
    "\n",
    "categorical_transformer = Pipeline(steps=categorical_steps)\n",
    "\n",
    "preprocessor = ColumnTransformer(\n",
    "    transformers=[\n",
    "        (\n",
    "            \"numeric_features\",\n",
    "            numeric_transformer if numeric else \"drop\",\n",
    "            NUMERICAL_COLUMNS,\n",
    "        ),\n",
    "        (\n",
    "            \"categorical_features\",\n",
    "            categorical_transformer if categical else \"drop\",\n",
    "            CATEGORICAL_COLUMNS,\n",
    "        ),\n",
    "        (\n",
    "            \"ignore_features\",\n",
    "            \"drop\",\n",
    "            IGNORE_COLUMNS,\n",
    "        ),\n",
    "    ],\n",
    "    # n_jobs=-1,\n",
    ")"
   ]
  }
 ],
 "metadata": {
  "kernelspec": {
   "display_name": "Python 3",
   "language": "python",
   "name": "python3"
  },
  "language_info": {
   "codemirror_mode": {
    "name": "ipython",
    "version": 3
   },
   "file_extension": ".py",
   "mimetype": "text/x-python",
   "name": "python",
   "nbconvert_exporter": "python",
   "pygments_lexer": "ipython3",
   "version": "3.8.10"
  },
  "toc": {
   "base_numbering": 1,
   "nav_menu": {},
   "number_sections": true,
   "sideBar": true,
   "skip_h1_title": false,
   "title_cell": "Table of Contents",
   "title_sidebar": "Contents",
   "toc_cell": false,
   "toc_position": {},
   "toc_section_display": true,
   "toc_window_display": false
  },
  "varInspector": {
   "cols": {
    "lenName": 16,
    "lenType": 16,
    "lenVar": 40
   },
   "kernels_config": {
    "python": {
     "delete_cmd_postfix": "",
     "delete_cmd_prefix": "del ",
     "library": "var_list.py",
     "varRefreshCmd": "print(var_dic_list())"
    },
    "r": {
     "delete_cmd_postfix": ") ",
     "delete_cmd_prefix": "rm(",
     "library": "var_list.r",
     "varRefreshCmd": "cat(var_dic_list()) "
    }
   },
   "types_to_exclude": [
    "module",
    "function",
    "builtin_function_or_method",
    "instance",
    "_Feature"
   ],
   "window_display": false
  }
 },
 "nbformat": 4,
 "nbformat_minor": 5
}
