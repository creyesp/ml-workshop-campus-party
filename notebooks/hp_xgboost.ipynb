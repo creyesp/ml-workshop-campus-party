{
 "cells": [
  {
   "cell_type": "markdown",
   "id": "56a6abd2",
   "metadata": {},
   "source": [
    "* https://colab.research.google.com/github/optuna/optuna-examples/blob/main/visualization/plot_study.ipynb#scrollTo=W8MhH9ZXKraV\n",
    "* https://neptune.ai/blog/hyperparameter-tuning-in-python-a-complete-guide-2020\n",
    "* https://www.kaggle.com/alexandrnikitin/xgboost-hyperparameter-optimization\n",
    "* https://www.kaggle.com/corochann/optuna-tutorial-for-hyperparameter-optimization\n"
   ]
  },
  {
   "cell_type": "markdown",
   "id": "e6aee37a",
   "metadata": {},
   "source": [
    "What is the difference between parameter and hyperparameter?\n",
    "First, let’s understand the differences between a hyperparameter and a parameter in machine learning.\n",
    "\n",
    "Model parameters: These are the parameters that are estimated by the model from the given data. For example the weights of a deep neural network. \n",
    "Model hyperparameters: These are the parameters that cannot be estimated by the model from the given data. These parameters are used to estimate the model parameters. For example, the learning rate in deep neural networks.\n",
    "\n",
    "What is hyperparameter tuning and why it is important?\n",
    "Hyperparameter tuning is the process of determining the right combination of hyperparameters that allows the model to maximize model performance. Setting the correct combination of hyperparameters is the only way to extract the maximum performance out of models."
   ]
  },
  {
   "cell_type": "markdown",
   "id": "39ee588b",
   "metadata": {},
   "source": [
    "How do I choose good hyperparameters?\n",
    "Choosing the right combination of hyperparameters is not an easy task. There are two ways to set them.\n",
    "\n",
    "Manual hyperparameter tuning: In this method, different combinations of hyperparameters are set (and experimented with) manually. This is a tedious process and cannot be practical in cases where there are many hyperparameters to try.\n",
    "**Automated hyperparameter tuning**: In this method, optimal hyperparameters are found using an algorithm that automates and optimizes the process.\n",
    "* Grid Search\n",
    "* Random Search\n",
    "* Bayesian Optimization\n"
   ]
  },
  {
   "cell_type": "code",
   "execution_count": 48,
   "id": "09ff5d2d",
   "metadata": {},
   "outputs": [],
   "source": [
    "import os\n",
    "\n",
    "import joblib\n",
    "from optuna import create_study\n",
    "from optuna import Trial\n",
    "from optuna.visualization import plot_optimization_history\n",
    "from optuna.visualization import plot_parallel_coordinate\n",
    "import pandas as pd\n",
    "from sklearn import metrics\n",
    "from sklearn.pipeline import Pipeline\n",
    "from sklearn.model_selection import KFold\n",
    "from xgboost import XGBClassifier\n",
    "\n",
    "from src.config import CATEGORICAL_COL, NUMERICAL_COL, LABEL_COL\n",
    "from src.utils import plot_metric_curves\n",
    "from src.transformer import preprocessor_numeric, preprocessor_full"
   ]
  },
  {
   "cell_type": "code",
   "execution_count": 57,
   "id": "04fb1cd6",
   "metadata": {},
   "outputs": [],
   "source": [
    "def objective(trial):\n",
    "    train = pd.read_csv(\"../data/users_train.csv\")\n",
    "\n",
    "    train.drop(columns=[\"user_first_engagement\", \"user_pseudo_id\"], inplace=True)\n",
    "\n",
    "    x_train, y_train = train.drop(columns=[LABEL_COL]), train[LABEL_COL]\n",
    "    scale_pos_weight = 1 / y_train.mean()\n",
    "\n",
    "    folds = 5\n",
    "    shuffle = True\n",
    "    seed = 42\n",
    "    kf = KFold(n_splits=folds, shuffle=shuffle, random_state=seed)\n",
    "\n",
    "    param = {\n",
    "        \"scale_pos_weight\": scale_pos_weight,\n",
    "        \"use_label_encoder\": False,\n",
    "        \"eval_metric\": \"logloss\",\n",
    "        \"verbosity\": 0,\n",
    "        \"objective\": \"binary:logistic\",\n",
    "        \"tree_method\": \"exact\",  # use exact for small dataset.\n",
    "        \"booster\": trial.suggest_categorical(\"booster\", [\"gbtree\", \"gblinear\", \"dart\"]),\n",
    "        \"lambda\": trial.suggest_float(\"lambda\", 1e-8, 1.0, log=True),\n",
    "        \"alpha\": trial.suggest_float(\"alpha\", 1e-8, 1.0, log=True),\n",
    "        \"subsample\": trial.suggest_float(\"subsample\", 0.2, 1.0),\n",
    "        \"colsample_bytree\": trial.suggest_float(\"colsample_bytree\", 0.2, 1.0),\n",
    "    }\n",
    "\n",
    "    if param[\"booster\"] in [\"gbtree\", \"dart\"]:\n",
    "        param[\"max_depth\"] = trial.suggest_int(\"max_depth\", 3, 11, step=1)\n",
    "        param[\"min_child_weight\"] = trial.suggest_int(\"min_child_weight\", 2, 10)\n",
    "        param[\"eta\"] = trial.suggest_float(\"eta\", 1e-8, 1.0, log=True)\n",
    "        param[\"gamma\"] = trial.suggest_float(\"gamma\", 1e-8, 1.0, log=True)\n",
    "        param[\"grow_policy\"] = trial.suggest_categorical(\n",
    "            \"grow_policy\", [\"depthwise\", \"lossguide\"]\n",
    "        )\n",
    "\n",
    "    if param[\"booster\"] == \"dart\":\n",
    "        param[\"sample_type\"] = trial.suggest_categorical(\n",
    "            \"sample_type\", [\"uniform\", \"weighted\"]\n",
    "        )\n",
    "        param[\"normalize_type\"] = trial.suggest_categorical(\n",
    "            \"normalize_type\", [\"tree\", \"forest\"]\n",
    "        )\n",
    "        param[\"rate_drop\"] = trial.suggest_float(\"rate_drop\", 1e-8, 1.0, log=True)\n",
    "        param[\"skip_drop\"] = trial.suggest_float(\"skip_drop\", 1e-8, 1.0, log=True)\n",
    "\n",
    "    score = []\n",
    "    for train_idx, valid_idx in kf.split(x_train, y_train):\n",
    "        train_data = x_train.iloc[train_idx,:], y_train[train_idx]\n",
    "        valid_data = x_train.iloc[valid_idx,:], y_train[valid_idx]\n",
    "        xgb_model = Pipeline(\n",
    "            steps=[\n",
    "                (\"preprocessor\", preprocessor_numeric()),\n",
    "                (\n",
    "                    \"xgboost\",\n",
    "                    XGBClassifier(**param),\n",
    "                ),\n",
    "            ]\n",
    "        )\n",
    "        xgb_model.fit(x_train, y_train)\n",
    "\n",
    "        y_pred = xgb_model.predict(x_val)\n",
    "        f1_score = metrics.f1_score(y_val, y_pred)\n",
    "        score.append(f1_score)\n",
    "\n",
    "    return sum(score)/folds"
   ]
  },
  {
   "cell_type": "code",
   "execution_count": 58,
   "id": "6f8876c7",
   "metadata": {},
   "outputs": [
    {
     "name": "stderr",
     "output_type": "stream",
     "text": [
      "\u001b[32m[I 2021-07-16 00:01:04,007]\u001b[0m A new study created in memory with name: no-name-5e2271b7-5f01-4caf-b162-8ee004e2f4c3\u001b[0m\n",
      "\u001b[32m[I 2021-07-16 00:01:13,107]\u001b[0m Trial 0 finished with value: 0.4868913857677903 and parameters: {'booster': 'dart', 'lambda': 3.9726446557390856e-05, 'alpha': 1.553324907528414e-08, 'subsample': 0.8145310443406415, 'colsample_bytree': 0.7074439398372714, 'max_depth': 9, 'min_child_weight': 3, 'eta': 0.0038800963185513728, 'gamma': 0.6453866915786873, 'grow_policy': 'depthwise', 'sample_type': 'uniform', 'normalize_type': 'forest', 'rate_drop': 0.12817395507684023, 'skip_drop': 0.0005199494080116552}. Best is trial 0 with value: 0.4868913857677903.\u001b[0m\n",
      "\u001b[32m[I 2021-07-16 00:01:13,553]\u001b[0m Trial 1 finished with value: 0.35469107551487417 and parameters: {'booster': 'gblinear', 'lambda': 0.364289547268627, 'alpha': 0.000880782816197024, 'subsample': 0.8224830473747724, 'colsample_bytree': 0.3356987638720009}. Best is trial 0 with value: 0.4868913857677903.\u001b[0m\n",
      "\u001b[32m[I 2021-07-16 00:01:14,712]\u001b[0m Trial 2 finished with value: 0.46460980036297644 and parameters: {'booster': 'gbtree', 'lambda': 1.1278067099868028e-08, 'alpha': 1.4226558979011433e-06, 'subsample': 0.2576283838288645, 'colsample_bytree': 0.9088175042425626, 'max_depth': 6, 'min_child_weight': 7, 'eta': 5.030763428250324e-06, 'gamma': 0.008906455682439142, 'grow_policy': 'depthwise'}. Best is trial 0 with value: 0.4868913857677903.\u001b[0m\n",
      "\u001b[32m[I 2021-07-16 00:01:15,084]\u001b[0m Trial 3 finished with value: 0.35402298850574715 and parameters: {'booster': 'gblinear', 'lambda': 0.0015863557372318225, 'alpha': 1.1861096939254503e-05, 'subsample': 0.7243357474400718, 'colsample_bytree': 0.4150978558756167}. Best is trial 0 with value: 0.4868913857677903.\u001b[0m\n",
      "\u001b[32m[I 2021-07-16 00:01:15,410]\u001b[0m Trial 4 finished with value: 0.35402298850574715 and parameters: {'booster': 'gblinear', 'lambda': 0.000310301406380342, 'alpha': 0.00021056715873137954, 'subsample': 0.9435764087572169, 'colsample_bytree': 0.6495138482003127}. Best is trial 0 with value: 0.4868913857677903.\u001b[0m\n",
      "\u001b[32m[I 2021-07-16 00:01:20,611]\u001b[0m Trial 5 finished with value: 0.44919786096256675 and parameters: {'booster': 'dart', 'lambda': 1.2174733138532771e-06, 'alpha': 0.2225461591116924, 'subsample': 0.23683882143390875, 'colsample_bytree': 0.38726517822516104, 'max_depth': 10, 'min_child_weight': 7, 'eta': 0.0001025891450266476, 'gamma': 9.15878420650949e-07, 'grow_policy': 'depthwise', 'sample_type': 'uniform', 'normalize_type': 'tree', 'rate_drop': 2.231719621976399e-05, 'skip_drop': 1.332460775073023e-07}. Best is trial 0 with value: 0.4868913857677903.\u001b[0m\n",
      "\u001b[32m[I 2021-07-16 00:01:21,078]\u001b[0m Trial 6 finished with value: 0.3536165327210103 and parameters: {'booster': 'gblinear', 'lambda': 9.756209050644335e-06, 'alpha': 0.006921592336042609, 'subsample': 0.8377580202488331, 'colsample_bytree': 0.5450736931952971}. Best is trial 0 with value: 0.4868913857677903.\u001b[0m\n",
      "\u001b[32m[I 2021-07-16 00:01:22,261]\u001b[0m Trial 7 finished with value: 0.4673684210526316 and parameters: {'booster': 'gbtree', 'lambda': 1.2281581976728166e-08, 'alpha': 0.7633541270331607, 'subsample': 0.3748124091209272, 'colsample_bytree': 0.9780856838192651, 'max_depth': 5, 'min_child_weight': 10, 'eta': 0.8890073235362412, 'gamma': 0.408957139909471, 'grow_policy': 'lossguide'}. Best is trial 0 with value: 0.4868913857677903.\u001b[0m\n",
      "\u001b[32m[I 2021-07-16 00:01:27,225]\u001b[0m Trial 8 finished with value: 0.5069306930693069 and parameters: {'booster': 'dart', 'lambda': 0.0004472795558497598, 'alpha': 0.00069811204044697, 'subsample': 0.375150173663155, 'colsample_bytree': 0.7001688254840981, 'max_depth': 5, 'min_child_weight': 2, 'eta': 0.2128000563636795, 'gamma': 0.6016081670311815, 'grow_policy': 'depthwise', 'sample_type': 'uniform', 'normalize_type': 'forest', 'rate_drop': 0.0004663636517479704, 'skip_drop': 0.008044762840572655}. Best is trial 8 with value: 0.5069306930693069.\u001b[0m\n",
      "\u001b[32m[I 2021-07-16 00:01:29,069]\u001b[0m Trial 9 finished with value: 0.4395973154362417 and parameters: {'booster': 'gbtree', 'lambda': 8.264609543251298e-06, 'alpha': 1.949187086277337e-06, 'subsample': 0.581200845465583, 'colsample_bytree': 0.34728228720092763, 'max_depth': 9, 'min_child_weight': 2, 'eta': 8.548241774768812e-07, 'gamma': 0.00041430247722597875, 'grow_policy': 'lossguide'}. Best is trial 8 with value: 0.5069306930693069.\u001b[0m\n",
      "\u001b[32m[I 2021-07-16 00:01:33,780]\u001b[0m Trial 10 finished with value: 0.4769230769230769 and parameters: {'booster': 'dart', 'lambda': 0.12228881343536692, 'alpha': 0.015332364500996055, 'subsample': 0.4573074412182344, 'colsample_bytree': 0.8228729070386176, 'max_depth': 3, 'min_child_weight': 4, 'eta': 0.9440872826603279, 'gamma': 2.1804397569719812e-07, 'grow_policy': 'depthwise', 'sample_type': 'weighted', 'normalize_type': 'forest', 'rate_drop': 0.019352524233849176, 'skip_drop': 0.4936833044473396}. Best is trial 8 with value: 0.5069306930693069.\u001b[0m\n",
      "\u001b[32m[I 2021-07-16 00:01:38,532]\u001b[0m Trial 11 finished with value: 0.485981308411215 and parameters: {'booster': 'dart', 'lambda': 0.006712896623459319, 'alpha': 7.052567508347736e-08, 'subsample': 0.6228372706728075, 'colsample_bytree': 0.693356647738602, 'max_depth': 8, 'min_child_weight': 2, 'eta': 0.003954129636177638, 'gamma': 0.9762035186592861, 'grow_policy': 'depthwise', 'sample_type': 'uniform', 'normalize_type': 'forest', 'rate_drop': 0.42407061530772017, 'skip_drop': 0.001917951625573484}. Best is trial 8 with value: 0.5069306930693069.\u001b[0m\n",
      "\u001b[32m[I 2021-07-16 00:01:42,823]\u001b[0m Trial 12 finished with value: 0.44328097731239086 and parameters: {'booster': 'dart', 'lambda': 5.2059496302511625e-05, 'alpha': 3.3240809308034154e-08, 'subsample': 0.9980975438109814, 'colsample_bytree': 0.7598106222889883, 'max_depth': 4, 'min_child_weight': 4, 'eta': 0.009978383655936634, 'gamma': 0.9184220538436532, 'grow_policy': 'depthwise', 'sample_type': 'uniform', 'normalize_type': 'forest', 'rate_drop': 0.002179361712551032, 'skip_drop': 0.0006674365808462287}. Best is trial 8 with value: 0.5069306930693069.\u001b[0m\n",
      "\u001b[32m[I 2021-07-16 00:01:49,883]\u001b[0m Trial 13 finished with value: 0.4884615384615384 and parameters: {'booster': 'dart', 'lambda': 3.3730526767978595e-07, 'alpha': 3.449216223418519e-05, 'subsample': 0.4159168583767665, 'colsample_bytree': 0.5641093360577615, 'max_depth': 11, 'min_child_weight': 4, 'eta': 0.016218799253326737, 'gamma': 0.015402835061502692, 'grow_policy': 'depthwise', 'sample_type': 'uniform', 'normalize_type': 'forest', 'rate_drop': 1.2585245748555665e-08, 'skip_drop': 0.1054828700580542}. Best is trial 8 with value: 0.5069306930693069.\u001b[0m\n",
      "\u001b[32m[I 2021-07-16 00:01:56,277]\u001b[0m Trial 14 finished with value: 0.5316455696202532 and parameters: {'booster': 'dart', 'lambda': 1.5631361033294424e-07, 'alpha': 5.034190049667364e-05, 'subsample': 0.35993218480246997, 'colsample_bytree': 0.5372705652973254, 'max_depth': 11, 'min_child_weight': 5, 'eta': 0.10215804630473295, 'gamma': 0.008021327951474455, 'grow_policy': 'depthwise', 'sample_type': 'uniform', 'normalize_type': 'forest', 'rate_drop': 1.0036637767040121e-08, 'skip_drop': 0.6642340943945254}. Best is trial 14 with value: 0.5316455696202532.\u001b[0m\n",
      "\u001b[32m[I 2021-07-16 00:02:01,430]\u001b[0m Trial 15 finished with value: 0.5061728395061729 and parameters: {'booster': 'dart', 'lambda': 2.3212544687835562e-07, 'alpha': 0.0015468670754415696, 'subsample': 0.31460812535736815, 'colsample_bytree': 0.4922143054410928, 'max_depth': 7, 'min_child_weight': 6, 'eta': 0.2680361989643166, 'gamma': 0.008405767034055989, 'grow_policy': 'depthwise', 'sample_type': 'uniform', 'normalize_type': 'forest', 'rate_drop': 3.692447366173347e-06, 'skip_drop': 0.8421816768038491}. Best is trial 14 with value: 0.5316455696202532.\u001b[0m\n",
      "\u001b[32m[I 2021-07-16 00:02:06,038]\u001b[0m Trial 16 finished with value: 0.4470989761092149 and parameters: {'booster': 'dart', 'lambda': 0.018448966329666597, 'alpha': 0.04600877269898702, 'subsample': 0.5221195983549641, 'colsample_bytree': 0.2341835360760368, 'max_depth': 5, 'min_child_weight': 9, 'eta': 0.0961067180273937, 'gamma': 6.729412523611245e-05, 'grow_policy': 'depthwise', 'sample_type': 'weighted', 'normalize_type': 'tree', 'rate_drop': 1.2132877024987406e-07, 'skip_drop': 0.023712639076801587}. Best is trial 14 with value: 0.5316455696202532.\u001b[0m\n"
     ]
    },
    {
     "name": "stderr",
     "output_type": "stream",
     "text": [
      "\u001b[32m[I 2021-07-16 00:02:10,335]\u001b[0m Trial 17 finished with value: 0.45090909090909087 and parameters: {'booster': 'dart', 'lambda': 0.000526503793058168, 'alpha': 0.00020279050248193738, 'subsample': 0.20156070505994578, 'colsample_bytree': 0.8698405593985821, 'max_depth': 3, 'min_child_weight': 5, 'eta': 1.621258968403371e-08, 'gamma': 0.04775477949842343, 'grow_policy': 'lossguide', 'sample_type': 'uniform', 'normalize_type': 'forest', 'rate_drop': 0.00033020526531826316, 'skip_drop': 4.644576894913496e-06}. Best is trial 14 with value: 0.5316455696202532.\u001b[0m\n",
      "\u001b[32m[I 2021-07-16 00:02:16,631]\u001b[0m Trial 18 finished with value: 0.4491228070175438 and parameters: {'booster': 'dart', 'lambda': 9.44478744871194e-08, 'alpha': 2.377182463807316e-06, 'subsample': 0.33823259160307817, 'colsample_bytree': 0.6159660933299752, 'max_depth': 6, 'min_child_weight': 8, 'eta': 0.000620040721794146, 'gamma': 5.470965557393542e-05, 'grow_policy': 'depthwise', 'sample_type': 'uniform', 'normalize_type': 'forest', 'rate_drop': 8.363398236645509e-07, 'skip_drop': 0.011836841867979056}. Best is trial 14 with value: 0.5316455696202532.\u001b[0m\n",
      "\u001b[32m[I 2021-07-16 00:02:23,715]\u001b[0m Trial 19 finished with value: 0.5617021276595745 and parameters: {'booster': 'dart', 'lambda': 3.4072624316382755e-06, 'alpha': 2.7639023005641904e-05, 'subsample': 0.4928977257259409, 'colsample_bytree': 0.4909613136622061, 'max_depth': 11, 'min_child_weight': 2, 'eta': 0.062479312424644246, 'gamma': 0.0008161023806105572, 'grow_policy': 'depthwise', 'sample_type': 'uniform', 'normalize_type': 'forest', 'rate_drop': 0.00018505969523426347, 'skip_drop': 1.9163062639065358e-05}. Best is trial 19 with value: 0.5617021276595745.\u001b[0m\n",
      "\u001b[32m[I 2021-07-16 00:02:25,899]\u001b[0m Trial 20 finished with value: 0.4971537001897534 and parameters: {'booster': 'gbtree', 'lambda': 2.576300926089037e-06, 'alpha': 2.7533372729708573e-07, 'subsample': 0.4872167514025374, 'colsample_bytree': 0.4770575744586593, 'max_depth': 11, 'min_child_weight': 5, 'eta': 0.04767148159175913, 'gamma': 0.0009315303427463404, 'grow_policy': 'depthwise'}. Best is trial 19 with value: 0.5617021276595745.\u001b[0m\n",
      "\u001b[32m[I 2021-07-16 00:02:33,683]\u001b[0m Trial 21 finished with value: 0.6838046272493572 and parameters: {'booster': 'dart', 'lambda': 4.4289271853133104e-08, 'alpha': 2.9716574331012132e-05, 'subsample': 0.5856482038902189, 'colsample_bytree': 0.49958528890048026, 'max_depth': 11, 'min_child_weight': 2, 'eta': 0.6258342198470411, 'gamma': 1.0393359272951562e-05, 'grow_policy': 'depthwise', 'sample_type': 'uniform', 'normalize_type': 'forest', 'rate_drop': 0.00033798052960202026, 'skip_drop': 1.2186176300823446e-05}. Best is trial 21 with value: 0.6838046272493572.\u001b[0m\n",
      "\u001b[32m[I 2021-07-16 00:02:40,367]\u001b[0m Trial 22 finished with value: 0.6513994910941475 and parameters: {'booster': 'dart', 'lambda': 6.108084584492318e-08, 'alpha': 1.3232481085432821e-05, 'subsample': 0.653831018105427, 'colsample_bytree': 0.4734358031871853, 'max_depth': 11, 'min_child_weight': 3, 'eta': 0.8794387190109587, 'gamma': 1.94338047029649e-06, 'grow_policy': 'depthwise', 'sample_type': 'uniform', 'normalize_type': 'forest', 'rate_drop': 4.6755790609223395e-05, 'skip_drop': 1.2912120710413952e-05}. Best is trial 21 with value: 0.6838046272493572.\u001b[0m\n",
      "\u001b[32m[I 2021-07-16 00:02:45,854]\u001b[0m Trial 23 finished with value: 0.5372460496613994 and parameters: {'booster': 'dart', 'lambda': 3.249353274618568e-08, 'alpha': 1.6977070696734623e-05, 'subsample': 0.6669235376757843, 'colsample_bytree': 0.24536647982051263, 'max_depth': 10, 'min_child_weight': 3, 'eta': 0.9457189490700619, 'gamma': 4.080753805291563e-06, 'grow_policy': 'depthwise', 'sample_type': 'uniform', 'normalize_type': 'forest', 'rate_drop': 2.867753616936285e-05, 'skip_drop': 1.1868435564548202e-05}. Best is trial 21 with value: 0.6838046272493572.\u001b[0m\n",
      "\u001b[32m[I 2021-07-16 00:02:53,641]\u001b[0m Trial 24 finished with value: 0.6407766990291262 and parameters: {'booster': 'dart', 'lambda': 1.150045706930451e-06, 'alpha': 6.069394128997894e-06, 'subsample': 0.5593185856624547, 'colsample_bytree': 0.4570230930001963, 'max_depth': 10, 'min_child_weight': 3, 'eta': 0.6619847365854113, 'gamma': 2.9213051086575418e-08, 'grow_policy': 'depthwise', 'sample_type': 'weighted', 'normalize_type': 'forest', 'rate_drop': 0.003437011592929306, 'skip_drop': 1.3816618282661015e-05}. Best is trial 21 with value: 0.6838046272493572.\u001b[0m\n",
      "\u001b[32m[I 2021-07-16 00:02:59,873]\u001b[0m Trial 25 finished with value: 0.6336633663366336 and parameters: {'booster': 'dart', 'lambda': 5.002858020819213e-08, 'alpha': 6.839708971870771e-07, 'subsample': 0.7165535130510401, 'colsample_bytree': 0.4408520931882983, 'max_depth': 10, 'min_child_weight': 2, 'eta': 0.8209777178778632, 'gamma': 1.2789311597003712e-08, 'grow_policy': 'depthwise', 'sample_type': 'weighted', 'normalize_type': 'tree', 'rate_drop': 0.00506628080195789, 'skip_drop': 2.9140405487432865e-07}. Best is trial 21 with value: 0.6838046272493572.\u001b[0m\n",
      "\u001b[32m[I 2021-07-16 00:03:06,508]\u001b[0m Trial 26 finished with value: 0.43327556325823224 and parameters: {'booster': 'dart', 'lambda': 5.624591636218078e-07, 'alpha': 4.502032873610534e-06, 'subsample': 0.5636045813171517, 'colsample_bytree': 0.30117423991716963, 'max_depth': 9, 'min_child_weight': 3, 'eta': 0.0012261678596352168, 'gamma': 1.0256700730499762e-08, 'grow_policy': 'lossguide', 'sample_type': 'weighted', 'normalize_type': 'forest', 'rate_drop': 0.014721860241579983, 'skip_drop': 1.2987374316320552e-06}. Best is trial 21 with value: 0.6838046272493572.\u001b[0m\n",
      "\u001b[32m[I 2021-07-16 00:03:14,072]\u001b[0m Trial 27 finished with value: 0.6736292428198434 and parameters: {'booster': 'dart', 'lambda': 1.8582048019151384e-08, 'alpha': 2.5343917638311856e-07, 'subsample': 0.6474369322819976, 'colsample_bytree': 0.5960838333600401, 'max_depth': 10, 'min_child_weight': 3, 'eta': 0.8955217034391015, 'gamma': 6.068366448063206e-06, 'grow_policy': 'depthwise', 'sample_type': 'weighted', 'normalize_type': 'forest', 'rate_drop': 0.001338072943064081, 'skip_drop': 1.7328982106802775e-08}. Best is trial 21 with value: 0.6838046272493572.\u001b[0m\n",
      "\u001b[32m[I 2021-07-16 00:03:20,873]\u001b[0m Trial 28 finished with value: 0.46715328467153283 and parameters: {'booster': 'dart', 'lambda': 1.0668105469673892e-08, 'alpha': 1.9943355421707886e-07, 'subsample': 0.6515302362975496, 'colsample_bytree': 0.6077935100129853, 'max_depth': 8, 'min_child_weight': 4, 'eta': 7.501421816853858e-06, 'gamma': 6.854408592143983e-06, 'grow_policy': 'depthwise', 'sample_type': 'weighted', 'normalize_type': 'forest', 'rate_drop': 3.0171599464069147e-05, 'skip_drop': 0.00010312803193142821}. Best is trial 21 with value: 0.6838046272493572.\u001b[0m\n",
      "\u001b[32m[I 2021-07-16 00:03:28,675]\u001b[0m Trial 29 finished with value: 0.5049701789264414 and parameters: {'booster': 'dart', 'lambda': 2.585075601962524e-08, 'alpha': 1.7395174097682116e-08, 'subsample': 0.7585127148533303, 'colsample_bytree': 0.6626014157617832, 'max_depth': 11, 'min_child_weight': 3, 'eta': 1.3617162513583119e-08, 'gamma': 1.1067603334453236e-05, 'grow_policy': 'depthwise', 'sample_type': 'weighted', 'normalize_type': 'forest', 'rate_drop': 0.0009977752369123394, 'skip_drop': 2.251534195350868e-08}. Best is trial 21 with value: 0.6838046272493572.\u001b[0m\n",
      "\u001b[32m[I 2021-07-16 00:03:36,731]\u001b[0m Trial 30 finished with value: 0.5279999999999999 and parameters: {'booster': 'dart', 'lambda': 1.1342397523111103e-07, 'alpha': 3.932701165721403e-07, 'subsample': 0.7697682740840553, 'colsample_bytree': 0.7583473409744018, 'max_depth': 10, 'min_child_weight': 3, 'eta': 0.027717089947002095, 'gamma': 2.32824997325995e-07, 'grow_policy': 'lossguide', 'sample_type': 'weighted', 'normalize_type': 'tree', 'rate_drop': 3.4062362692717056e-06, 'skip_drop': 1.2271219753910476e-08}. Best is trial 21 with value: 0.6838046272493572.\u001b[0m\n",
      "\u001b[32m[I 2021-07-16 00:03:43,662]\u001b[0m Trial 31 finished with value: 0.5938242280285035 and parameters: {'booster': 'dart', 'lambda': 8.135042166331901e-07, 'alpha': 3.786200816103741e-06, 'subsample': 0.5490479047973404, 'colsample_bytree': 0.4611489236303286, 'max_depth': 10, 'min_child_weight': 3, 'eta': 0.3037757697612403, 'gamma': 6.119649542048025e-08, 'grow_policy': 'depthwise', 'sample_type': 'weighted', 'normalize_type': 'forest', 'rate_drop': 0.004544931342562159, 'skip_drop': 8.388534762420198e-05}. Best is trial 21 with value: 0.6838046272493572.\u001b[0m\n"
     ]
    },
    {
     "name": "stderr",
     "output_type": "stream",
     "text": [
      "\u001b[32m[I 2021-07-16 00:03:50,919]\u001b[0m Trial 32 finished with value: 0.6649874055415617 and parameters: {'booster': 'dart', 'lambda': 3.916011788653445e-08, 'alpha': 7.754975298310968e-06, 'subsample': 0.6133485917752196, 'colsample_bytree': 0.5343690202610041, 'max_depth': 9, 'min_child_weight': 2, 'eta': 0.809800850133268, 'gamma': 1.7334966806486466e-06, 'grow_policy': 'depthwise', 'sample_type': 'weighted', 'normalize_type': 'forest', 'rate_drop': 9.2865345440658e-05, 'skip_drop': 2.124594410838549e-06}. Best is trial 21 with value: 0.6838046272493572.\u001b[0m\n",
      "\u001b[32m[I 2021-07-16 00:03:57,728]\u001b[0m Trial 33 finished with value: 0.6113744075829384 and parameters: {'booster': 'dart', 'lambda': 1.0956469899913262e-08, 'alpha': 0.0001516242076661113, 'subsample': 0.6776407686883408, 'colsample_bytree': 0.5732508872951623, 'max_depth': 9, 'min_child_weight': 2, 'eta': 0.16714057486395248, 'gamma': 1.4480480014094882e-06, 'grow_policy': 'depthwise', 'sample_type': 'weighted', 'normalize_type': 'forest', 'rate_drop': 8.13407090853719e-05, 'skip_drop': 1.4773788527563612e-06}. Best is trial 21 with value: 0.6838046272493572.\u001b[0m\n",
      "\u001b[32m[I 2021-07-16 00:03:58,280]\u001b[0m Trial 34 finished with value: 0.35402298850574715 and parameters: {'booster': 'gblinear', 'lambda': 5.1534180789394434e-08, 'alpha': 7.987188625175734e-08, 'subsample': 0.8604798022190169, 'colsample_bytree': 0.5272838287428068}. Best is trial 21 with value: 0.6838046272493572.\u001b[0m\n",
      "\u001b[32m[I 2021-07-16 00:04:06,135]\u001b[0m Trial 35 finished with value: 0.6139088729016786 and parameters: {'booster': 'dart', 'lambda': 2.316117290828229e-08, 'alpha': 1.0058819033529101e-05, 'subsample': 0.6288700475744496, 'colsample_bytree': 0.40800378412241955, 'max_depth': 9, 'min_child_weight': 2, 'eta': 0.8186027839640629, 'gamma': 2.107307349665461e-05, 'grow_policy': 'depthwise', 'sample_type': 'weighted', 'normalize_type': 'forest', 'rate_drop': 8.405353405723212e-05, 'skip_drop': 9.899191198617435e-08}. Best is trial 21 with value: 0.6838046272493572.\u001b[0m\n",
      "\u001b[32m[I 2021-07-16 00:04:08,029]\u001b[0m Trial 36 finished with value: 0.45309734513274347 and parameters: {'booster': 'gbtree', 'lambda': 1.0396264338547999e-08, 'alpha': 9.732336587275337e-07, 'subsample': 0.7038682163786911, 'colsample_bytree': 0.36704242502746875, 'max_depth': 8, 'min_child_weight': 4, 'eta': 0.004936394715381849, 'gamma': 1.5957732580836034e-06, 'grow_policy': 'depthwise'}. Best is trial 21 with value: 0.6838046272493572.\u001b[0m\n",
      "\u001b[32m[I 2021-07-16 00:04:08,509]\u001b[0m Trial 37 finished with value: 0.35402298850574715 and parameters: {'booster': 'gblinear', 'lambda': 6.550127458725951e-08, 'alpha': 7.571195922272236e-05, 'subsample': 0.6043606329339538, 'colsample_bytree': 0.29202546398319845}. Best is trial 21 with value: 0.6838046272493572.\u001b[0m\n",
      "\u001b[32m[I 2021-07-16 00:04:16,110]\u001b[0m Trial 38 finished with value: 0.6979166666666666 and parameters: {'booster': 'dart', 'lambda': 2.2656702320992912e-07, 'alpha': 0.000451368867660485, 'subsample': 0.7620452594155005, 'colsample_bytree': 0.640936409952955, 'max_depth': 11, 'min_child_weight': 2, 'eta': 0.2485430636273595, 'gamma': 3.0963555267474e-07, 'grow_policy': 'depthwise', 'sample_type': 'weighted', 'normalize_type': 'forest', 'rate_drop': 6.9801753332421336e-06, 'skip_drop': 1.0818923380925846e-06}. Best is trial 38 with value: 0.6979166666666666.\u001b[0m\n",
      "\u001b[32m[I 2021-07-16 00:04:16,605]\u001b[0m Trial 39 finished with value: 0.35402298850574715 and parameters: {'booster': 'gblinear', 'lambda': 1.0388106834382355e-05, 'alpha': 0.0003850960005653989, 'subsample': 0.7626701485379925, 'colsample_bytree': 0.6385898038058511}. Best is trial 38 with value: 0.6979166666666666.\u001b[0m\n",
      "\u001b[32m[I 2021-07-16 00:04:24,503]\u001b[0m Trial 40 finished with value: 0.5503080082135524 and parameters: {'booster': 'dart', 'lambda': 2.46638364045257e-07, 'alpha': 0.000504233683085193, 'subsample': 0.885542936517029, 'colsample_bytree': 0.7371924850703259, 'max_depth': 10, 'min_child_weight': 2, 'eta': 0.02746450052681744, 'gamma': 3.261499145171088e-07, 'grow_policy': 'depthwise', 'sample_type': 'weighted', 'normalize_type': 'forest', 'rate_drop': 2.171674940375366e-06, 'skip_drop': 6.433652756462917e-07}. Best is trial 38 with value: 0.6979166666666666.\u001b[0m\n",
      "\u001b[32m[I 2021-07-16 00:04:31,768]\u001b[0m Trial 41 finished with value: 0.6916890080428953 and parameters: {'booster': 'dart', 'lambda': 2.3538501753792404e-08, 'alpha': 0.0015576908327498027, 'subsample': 0.7936563878273545, 'colsample_bytree': 0.5828294707403503, 'max_depth': 11, 'min_child_weight': 3, 'eta': 0.3218132221848552, 'gamma': 3.177427170958696e-06, 'grow_policy': 'depthwise', 'sample_type': 'weighted', 'normalize_type': 'forest', 'rate_drop': 1.0399757279836559e-05, 'skip_drop': 3.2123985737335354e-06}. Best is trial 38 with value: 0.6979166666666666.\u001b[0m\n",
      "\u001b[32m[I 2021-07-16 00:04:39,067]\u001b[0m Trial 42 finished with value: 0.6991869918699186 and parameters: {'booster': 'dart', 'lambda': 2.4591522337027507e-08, 'alpha': 0.004276390221205307, 'subsample': 0.7986095687864516, 'colsample_bytree': 0.5860244852256163, 'max_depth': 11, 'min_child_weight': 2, 'eta': 0.31780742886049285, 'gamma': 5.817545973547081e-07, 'grow_policy': 'depthwise', 'sample_type': 'weighted', 'normalize_type': 'forest', 'rate_drop': 6.321705306990847e-06, 'skip_drop': 3.5471458062581526e-06}. Best is trial 42 with value: 0.6991869918699186.\u001b[0m\n",
      "\u001b[32m[I 2021-07-16 00:04:46,371]\u001b[0m Trial 43 finished with value: 0.6861702127659576 and parameters: {'booster': 'dart', 'lambda': 1.801350982740468e-08, 'alpha': 0.0026355354586988346, 'subsample': 0.7994166025400368, 'colsample_bytree': 0.6705838696491098, 'max_depth': 11, 'min_child_weight': 3, 'eta': 0.2408407082342124, 'gamma': 5.213930544650562e-07, 'grow_policy': 'depthwise', 'sample_type': 'weighted', 'normalize_type': 'forest', 'rate_drop': 9.2462820583087e-06, 'skip_drop': 5.54018910932861e-08}. Best is trial 42 with value: 0.6991869918699186.\u001b[0m\n",
      "\u001b[32m[I 2021-07-16 00:04:53,307]\u001b[0m Trial 44 finished with value: 0.6784810126582278 and parameters: {'booster': 'dart', 'lambda': 1.0914041136260216e-08, 'alpha': 0.0023666910243035784, 'subsample': 0.9123913076296186, 'colsample_bytree': 0.669596368641489, 'max_depth': 11, 'min_child_weight': 2, 'eta': 0.25923182207133855, 'gamma': 4.4955204027760413e-07, 'grow_policy': 'depthwise', 'sample_type': 'weighted', 'normalize_type': 'forest', 'rate_drop': 6.702864855771091e-06, 'skip_drop': 7.114097876714074e-05}. Best is trial 42 with value: 0.6991869918699186.\u001b[0m\n",
      "\u001b[32m[I 2021-07-16 00:04:55,713]\u001b[0m Trial 45 finished with value: 0.6258823529411764 and parameters: {'booster': 'gbtree', 'lambda': 3.3391107298882237e-07, 'alpha': 0.003916126728731011, 'subsample': 0.8066087039680698, 'colsample_bytree': 0.8095206176217326, 'max_depth': 11, 'min_child_weight': 3, 'eta': 0.1288810685040294, 'gamma': 7.899193247891246e-08, 'grow_policy': 'depthwise'}. Best is trial 42 with value: 0.6991869918699186.\u001b[0m\n",
      "\u001b[32m[I 2021-07-16 00:05:02,606]\u001b[0m Trial 46 finished with value: 0.6423357664233577 and parameters: {'booster': 'dart', 'lambda': 1.650678667017515e-07, 'alpha': 0.016309694145323357, 'subsample': 0.9964101321123577, 'colsample_bytree': 0.711716411765808, 'max_depth': 11, 'min_child_weight': 4, 'eta': 0.32164600157264456, 'gamma': 1.0292556552239872e-07, 'grow_policy': 'depthwise', 'sample_type': 'weighted', 'normalize_type': 'forest', 'rate_drop': 6.652029141235715e-07, 'skip_drop': 6.970241902373735e-08}. Best is trial 42 with value: 0.6991869918699186.\u001b[0m\n",
      "\u001b[32m[I 2021-07-16 00:05:10,223]\u001b[0m Trial 47 finished with value: 0.49149338374291124 and parameters: {'booster': 'dart', 'lambda': 1.9344764074884674e-08, 'alpha': 0.06320513435271141, 'subsample': 0.9579249371147776, 'colsample_bytree': 0.6299858071676431, 'max_depth': 10, 'min_child_weight': 2, 'eta': 0.0012222902535945189, 'gamma': 6.900383325150751e-07, 'grow_policy': 'depthwise', 'sample_type': 'weighted', 'normalize_type': 'forest', 'rate_drop': 1.1596539463718998e-05, 'skip_drop': 4.708008528663264e-06}. Best is trial 42 with value: 0.6991869918699186.\u001b[0m\n",
      "\u001b[32m[I 2021-07-16 00:05:17,367]\u001b[0m Trial 48 finished with value: 0.5019455252918288 and parameters: {'booster': 'dart', 'lambda': 1.1607722736323411e-07, 'alpha': 0.00973843902267798, 'subsample': 0.8309589620936825, 'colsample_bytree': 0.5713716159121778, 'max_depth': 11, 'min_child_weight': 3, 'eta': 0.009333354440835403, 'gamma': 1.6974321708482977e-05, 'grow_policy': 'depthwise', 'sample_type': 'weighted', 'normalize_type': 'forest', 'rate_drop': 2.964369531140266e-07, 'skip_drop': 3.537361698130086e-07}. Best is trial 42 with value: 0.6991869918699186.\u001b[0m\n"
     ]
    },
    {
     "name": "stderr",
     "output_type": "stream",
     "text": [
      "\u001b[32m[I 2021-07-16 00:05:24,248]\u001b[0m Trial 49 finished with value: 0.5279999999999999 and parameters: {'booster': 'dart', 'lambda': 2.0586091468247585e-06, 'alpha': 0.0012527991155667894, 'subsample': 0.7990372426708638, 'colsample_bytree': 0.5134222671576972, 'max_depth': 11, 'min_child_weight': 4, 'eta': 0.045402200770480496, 'gamma': 3.050184902541971e-06, 'grow_policy': 'depthwise', 'sample_type': 'weighted', 'normalize_type': 'tree', 'rate_drop': 1.3087879792503197e-05, 'skip_drop': 3.411224376599786e-05}. Best is trial 42 with value: 0.6991869918699186.\u001b[0m\n",
      "\u001b[32m[I 2021-07-16 00:05:31,700]\u001b[0m Trial 50 finished with value: 0.5009633911368017 and parameters: {'booster': 'dart', 'lambda': 4.22102274865243e-07, 'alpha': 0.004923696799932832, 'subsample': 0.8752889978114174, 'colsample_bytree': 0.687886556176618, 'max_depth': 10, 'min_child_weight': 2, 'eta': 0.00013113462150254933, 'gamma': 6.813815968970045e-07, 'grow_policy': 'lossguide', 'sample_type': 'weighted', 'normalize_type': 'forest', 'rate_drop': 1.3373802956887334e-06, 'skip_drop': 3.947620774268397e-06}. Best is trial 42 with value: 0.6991869918699186.\u001b[0m\n",
      "\u001b[32m[I 2021-07-16 00:05:39,664]\u001b[0m Trial 51 finished with value: 0.7182320441988951 and parameters: {'booster': 'dart', 'lambda': 1.1315179711535135e-08, 'alpha': 0.0021680449845053445, 'subsample': 0.9049115264774965, 'colsample_bytree': 0.6662335660022916, 'max_depth': 11, 'min_child_weight': 2, 'eta': 0.3497764753869349, 'gamma': 5.567193099418635e-07, 'grow_policy': 'depthwise', 'sample_type': 'weighted', 'normalize_type': 'forest', 'rate_drop': 7.803796246117243e-06, 'skip_drop': 0.0001597990618190626}. Best is trial 51 with value: 0.7182320441988951.\u001b[0m\n",
      "\u001b[32m[I 2021-07-16 00:05:46,527]\u001b[0m Trial 52 finished with value: 0.66 and parameters: {'booster': 'dart', 'lambda': 1.1024141424496069e-08, 'alpha': 0.0003825554311723419, 'subsample': 0.9094546918603507, 'colsample_bytree': 0.5773504183211287, 'max_depth': 11, 'min_child_weight': 2, 'eta': 0.13859344848448846, 'gamma': 1.4966277054877657e-07, 'grow_policy': 'depthwise', 'sample_type': 'weighted', 'normalize_type': 'forest', 'rate_drop': 6.594363854878726e-06, 'skip_drop': 0.0002184786819846957}. Best is trial 51 with value: 0.7182320441988951.\u001b[0m\n",
      "\u001b[32m[I 2021-07-16 00:05:53,671]\u001b[0m Trial 53 finished with value: 0.7074468085106382 and parameters: {'booster': 'dart', 'lambda': 2.3746465822838463e-08, 'alpha': 0.04965415739485851, 'subsample': 0.8407503059171609, 'colsample_bytree': 0.6359582837797733, 'max_depth': 11, 'min_child_weight': 2, 'eta': 0.42764853041780454, 'gamma': 3.963986821178166e-08, 'grow_policy': 'depthwise', 'sample_type': 'weighted', 'normalize_type': 'forest', 'rate_drop': 1.559043891515167e-05, 'skip_drop': 0.0007793167452500822}. Best is trial 51 with value: 0.7182320441988951.\u001b[0m\n",
      "\u001b[32m[I 2021-07-16 00:06:00,667]\u001b[0m Trial 54 finished with value: 0.715846994535519 and parameters: {'booster': 'dart', 'lambda': 2.1510600253885376e-08, 'alpha': 0.8652618778203823, 'subsample': 0.9596258882644154, 'colsample_bytree': 0.8012262479880393, 'max_depth': 11, 'min_child_weight': 3, 'eta': 0.3789637098512947, 'gamma': 2.329866289182302e-08, 'grow_policy': 'depthwise', 'sample_type': 'weighted', 'normalize_type': 'forest', 'rate_drop': 1.4071773235615629e-05, 'skip_drop': 0.0012900429139294472}. Best is trial 51 with value: 0.7182320441988951.\u001b[0m\n",
      "\u001b[32m[I 2021-07-16 00:06:07,528]\u001b[0m Trial 55 finished with value: 0.5814977973568283 and parameters: {'booster': 'dart', 'lambda': 0.8179816216638687, 'alpha': 0.32538947693048087, 'subsample': 0.9490505795858559, 'colsample_bytree': 0.9312800729664146, 'max_depth': 10, 'min_child_weight': 2, 'eta': 0.07411441358927502, 'gamma': 3.093449025855733e-08, 'grow_policy': 'depthwise', 'sample_type': 'weighted', 'normalize_type': 'forest', 'rate_drop': 1.1611076467202127e-07, 'skip_drop': 0.0014946827547250895}. Best is trial 51 with value: 0.7182320441988951.\u001b[0m\n",
      "\u001b[32m[I 2021-07-16 00:06:14,491]\u001b[0m Trial 56 finished with value: 0.6736292428198434 and parameters: {'booster': 'dart', 'lambda': 9.785314780161369e-08, 'alpha': 0.06886741017581317, 'subsample': 0.8507938679198694, 'colsample_bytree': 0.799799136922497, 'max_depth': 11, 'min_child_weight': 6, 'eta': 0.3944608553505015, 'gamma': 2.271391785883632e-08, 'grow_policy': 'depthwise', 'sample_type': 'weighted', 'normalize_type': 'forest', 'rate_drop': 2.2331451072261235e-05, 'skip_drop': 0.0008013617480917981}. Best is trial 51 with value: 0.7182320441988951.\u001b[0m\n",
      "\u001b[32m[I 2021-07-16 00:06:16,717]\u001b[0m Trial 57 finished with value: 0.5215686274509804 and parameters: {'booster': 'gbtree', 'lambda': 0.00017138384335997677, 'alpha': 0.5994628445365189, 'subsample': 0.9754629881139426, 'colsample_bytree': 0.7143656424155644, 'max_depth': 10, 'min_child_weight': 7, 'eta': 0.027723640877443802, 'gamma': 1.597758306537931e-07, 'grow_policy': 'depthwise'}. Best is trial 51 with value: 0.7182320441988951.\u001b[0m\n",
      "\u001b[32m[I 2021-07-16 00:06:23,687]\u001b[0m Trial 58 finished with value: 0.600896860986547 and parameters: {'booster': 'dart', 'lambda': 2.8430804789592265e-05, 'alpha': 0.026909222260920247, 'subsample': 0.916760868528386, 'colsample_bytree': 0.7796104897292817, 'max_depth': 11, 'min_child_weight': 3, 'eta': 0.09174866026316046, 'gamma': 5.166589050693547e-08, 'grow_policy': 'depthwise', 'sample_type': 'weighted', 'normalize_type': 'forest', 'rate_drop': 4.513098123521359e-06, 'skip_drop': 0.004242132443292077}. Best is trial 51 with value: 0.7182320441988951.\u001b[0m\n",
      "\u001b[32m[I 2021-07-16 00:06:24,214]\u001b[0m Trial 59 finished with value: 0.35402298850574715 and parameters: {'booster': 'gblinear', 'lambda': 2.4430091386924032e-08, 'alpha': 0.0008970770175672447, 'subsample': 0.8923153368196777, 'colsample_bytree': 0.6031623241197828}. Best is trial 51 with value: 0.7182320441988951.\u001b[0m\n",
      "\u001b[32m[I 2021-07-16 00:06:31,935]\u001b[0m Trial 60 finished with value: 0.5117187499999999 and parameters: {'booster': 'dart', 'lambda': 0.0019080501682833977, 'alpha': 0.1816508774886902, 'subsample': 0.7376960614028905, 'colsample_bytree': 0.6370438383197767, 'max_depth': 11, 'min_child_weight': 4, 'eta': 0.013617772904542838, 'gamma': 2.9285447650256907e-07, 'grow_policy': 'depthwise', 'sample_type': 'weighted', 'normalize_type': 'forest', 'rate_drop': 1.8191390415106579e-06, 'skip_drop': 0.00031776856544091724}. Best is trial 51 with value: 0.7182320441988951.\u001b[0m\n",
      "\u001b[32m[I 2021-07-16 00:06:39,480]\u001b[0m Trial 61 finished with value: 0.7142857142857143 and parameters: {'booster': 'dart', 'lambda': 1.9470348335455746e-08, 'alpha': 0.0027863041439946663, 'subsample': 0.7973448684271793, 'colsample_bytree': 0.8497290370941013, 'max_depth': 11, 'min_child_weight': 3, 'eta': 0.36080569889983233, 'gamma': 7.575252411685574e-07, 'grow_policy': 'depthwise', 'sample_type': 'weighted', 'normalize_type': 'forest', 'rate_drop': 1.1191766093683413e-05, 'skip_drop': 0.003364646837710577}. Best is trial 51 with value: 0.7182320441988951.\u001b[0m\n",
      "\u001b[32m[I 2021-07-16 00:06:46,795]\u001b[0m Trial 62 finished with value: 0.75 and parameters: {'booster': 'dart', 'lambda': 7.476528036300595e-08, 'alpha': 0.009459705034491677, 'subsample': 0.8353668146424433, 'colsample_bytree': 0.8793099088911032, 'max_depth': 11, 'min_child_weight': 2, 'eta': 0.3857463796507874, 'gamma': 9.862600734559058e-07, 'grow_policy': 'depthwise', 'sample_type': 'weighted', 'normalize_type': 'forest', 'rate_drop': 1.2892684505104446e-05, 'skip_drop': 0.0033355721268970603}. Best is trial 62 with value: 0.75.\u001b[0m\n",
      "\u001b[32m[I 2021-07-16 00:06:54,948]\u001b[0m Trial 63 finished with value: 0.5250501002004008 and parameters: {'booster': 'dart', 'lambda': 7.328520283813628e-08, 'alpha': 0.00884496619975442, 'subsample': 0.8404725666503247, 'colsample_bytree': 0.8498414290191602, 'max_depth': 11, 'min_child_weight': 2, 'eta': 2.888897777031704e-07, 'gamma': 1.0820678145203886e-06, 'grow_policy': 'depthwise', 'sample_type': 'weighted', 'normalize_type': 'forest', 'rate_drop': 1.9352937607448797e-05, 'skip_drop': 0.00365243443545659}. Best is trial 62 with value: 0.75.\u001b[0m\n",
      "\u001b[32m[I 2021-07-16 00:07:02,044]\u001b[0m Trial 64 finished with value: 0.72 and parameters: {'booster': 'dart', 'lambda': 1.8607942564317066e-07, 'alpha': 0.022249723855393574, 'subsample': 0.9380791709607399, 'colsample_bytree': 0.9117088296704091, 'max_depth': 10, 'min_child_weight': 2, 'eta': 0.4476017492299566, 'gamma': 1.5510845913373768e-08, 'grow_policy': 'depthwise', 'sample_type': 'weighted', 'normalize_type': 'forest', 'rate_drop': 5.17784270067143e-05, 'skip_drop': 0.024582736279319214}. Best is trial 62 with value: 0.75.\u001b[0m\n"
     ]
    },
    {
     "name": "stderr",
     "output_type": "stream",
     "text": [
      "\u001b[32m[I 2021-07-16 00:07:09,789]\u001b[0m Trial 65 finished with value: 0.72 and parameters: {'booster': 'dart', 'lambda': 1.00235104037869e-08, 'alpha': 0.13242111875370283, 'subsample': 0.940925770743056, 'colsample_bytree': 0.9882835102379555, 'max_depth': 10, 'min_child_weight': 2, 'eta': 0.42667890342646825, 'gamma': 1.5382839590626556e-08, 'grow_policy': 'depthwise', 'sample_type': 'weighted', 'normalize_type': 'forest', 'rate_drop': 4.986068724948666e-05, 'skip_drop': 0.051851497811587634}. Best is trial 62 with value: 0.75.\u001b[0m\n",
      "\u001b[32m[I 2021-07-16 00:07:16,875]\u001b[0m Trial 66 finished with value: 0.6467661691542289 and parameters: {'booster': 'dart', 'lambda': 3.981183083901084e-08, 'alpha': 0.18147472378146318, 'subsample': 0.9314855744152389, 'colsample_bytree': 0.9658108144821784, 'max_depth': 9, 'min_child_weight': 8, 'eta': 0.5269921908973835, 'gamma': 1.2309930405793975e-08, 'grow_policy': 'depthwise', 'sample_type': 'weighted', 'normalize_type': 'forest', 'rate_drop': 0.00018716996247048062, 'skip_drop': 0.06310012730909756}. Best is trial 62 with value: 0.75.\u001b[0m\n",
      "\u001b[32m[I 2021-07-16 00:07:23,564]\u001b[0m Trial 67 finished with value: 0.5227722772277228 and parameters: {'booster': 'dart', 'lambda': 1.0679720600762307e-08, 'alpha': 0.1079069206008275, 'subsample': 0.9950383691520547, 'colsample_bytree': 0.8989532150972687, 'max_depth': 10, 'min_child_weight': 10, 'eta': 0.06345364925146549, 'gamma': 3.707428622174079e-08, 'grow_policy': 'depthwise', 'sample_type': 'weighted', 'normalize_type': 'forest', 'rate_drop': 3.500795452121352e-05, 'skip_drop': 0.023705770534305625}. Best is trial 62 with value: 0.75.\u001b[0m\n",
      "\u001b[32m[I 2021-07-16 00:07:30,980]\u001b[0m Trial 68 finished with value: 0.5424430641821947 and parameters: {'booster': 'dart', 'lambda': 1.6053602309622512e-07, 'alpha': 0.9425598524721547, 'subsample': 0.9749774933063852, 'colsample_bytree': 0.9996753608073563, 'max_depth': 7, 'min_child_weight': 2, 'eta': 0.10811281091872801, 'gamma': 1.4706949331197614e-08, 'grow_policy': 'depthwise', 'sample_type': 'weighted', 'normalize_type': 'forest', 'rate_drop': 4.66878416427635e-05, 'skip_drop': 0.21571023681157364}. Best is trial 62 with value: 0.75.\u001b[0m\n",
      "\u001b[32m[I 2021-07-16 00:07:38,224]\u001b[0m Trial 69 finished with value: 0.7380281690140845 and parameters: {'booster': 'dart', 'lambda': 5.6300205268161695e-08, 'alpha': 0.01976523011437879, 'subsample': 0.8671197959683101, 'colsample_bytree': 0.8563277839951136, 'max_depth': 10, 'min_child_weight': 3, 'eta': 0.5446599133000917, 'gamma': 8.624577113454624e-08, 'grow_policy': 'lossguide', 'sample_type': 'weighted', 'normalize_type': 'forest', 'rate_drop': 0.00018856406510596967, 'skip_drop': 0.014852388947850273}. Best is trial 62 with value: 0.75.\u001b[0m\n",
      "\u001b[32m[I 2021-07-16 00:07:58,322]\u001b[0m Trial 70 finished with value: 0.600451467268623 and parameters: {'booster': 'dart', 'lambda': 5.53087786771541e-07, 'alpha': 0.025490885276145486, 'subsample': 0.9350801120244775, 'colsample_bytree': 0.8471938878432893, 'max_depth': 10, 'min_child_weight': 5, 'eta': 0.14820030014760036, 'gamma': 1.335677577575693e-07, 'grow_policy': 'lossguide', 'sample_type': 'weighted', 'normalize_type': 'tree', 'rate_drop': 0.00018305518320057122, 'skip_drop': 0.0119362069640213}. Best is trial 62 with value: 0.75.\u001b[0m\n",
      "\u001b[32m[I 2021-07-16 00:08:05,352]\u001b[0m Trial 71 finished with value: 0.7277628032345013 and parameters: {'booster': 'dart', 'lambda': 4.1948307183999354e-08, 'alpha': 0.039329426682334814, 'subsample': 0.8731222649788023, 'colsample_bytree': 0.8997032487455272, 'max_depth': 10, 'min_child_weight': 3, 'eta': 0.6294658347532949, 'gamma': 1.9833177971548825e-08, 'grow_policy': 'lossguide', 'sample_type': 'weighted', 'normalize_type': 'forest', 'rate_drop': 0.0005250977834009864, 'skip_drop': 0.001611592401240862}. Best is trial 62 with value: 0.75.\u001b[0m\n",
      "\u001b[32m[I 2021-07-16 00:08:12,352]\u001b[0m Trial 72 finished with value: 0.7258064516129032 and parameters: {'booster': 'dart', 'lambda': 7.50780872932656e-08, 'alpha': 0.026576708846602567, 'subsample': 0.8708849723765965, 'colsample_bytree': 0.8936107953202405, 'max_depth': 10, 'min_child_weight': 4, 'eta': 0.9554923020620094, 'gamma': 2.072567361727066e-08, 'grow_policy': 'lossguide', 'sample_type': 'weighted', 'normalize_type': 'forest', 'rate_drop': 0.0005105893474683559, 'skip_drop': 0.0050677366103098805}. Best is trial 62 with value: 0.75.\u001b[0m\n",
      "\u001b[32m[I 2021-07-16 00:08:19,068]\u001b[0m Trial 73 finished with value: 0.7247956403269754 and parameters: {'booster': 'dart', 'lambda': 7.347618435972712e-08, 'alpha': 0.027119923123508777, 'subsample': 0.8717803333012216, 'colsample_bytree': 0.9322843592434364, 'max_depth': 9, 'min_child_weight': 4, 'eta': 0.6247611655791275, 'gamma': 2.1920830686588437e-08, 'grow_policy': 'lossguide', 'sample_type': 'weighted', 'normalize_type': 'forest', 'rate_drop': 0.00043466362262969033, 'skip_drop': 0.06257547582606722}. Best is trial 62 with value: 0.75.\u001b[0m\n",
      "\u001b[32m[I 2021-07-16 00:08:25,600]\u001b[0m Trial 74 finished with value: 0.7046632124352332 and parameters: {'booster': 'dart', 'lambda': 6.892023348946987e-08, 'alpha': 0.01989580124694118, 'subsample': 0.8725145562073697, 'colsample_bytree': 0.9513072038613059, 'max_depth': 9, 'min_child_weight': 5, 'eta': 0.8025246068612708, 'gamma': 1.705102917198683e-08, 'grow_policy': 'lossguide', 'sample_type': 'weighted', 'normalize_type': 'forest', 'rate_drop': 0.0005078087812033489, 'skip_drop': 0.04208499446595648}. Best is trial 62 with value: 0.75.\u001b[0m\n",
      "\u001b[32m[I 2021-07-16 00:08:33,124]\u001b[0m Trial 75 finished with value: 0.7103825136612023 and parameters: {'booster': 'dart', 'lambda': 1.0309993579901468e-06, 'alpha': 0.09561095321031204, 'subsample': 0.8963212154536084, 'colsample_bytree': 0.8823900823100489, 'max_depth': 8, 'min_child_weight': 4, 'eta': 0.9582327843014954, 'gamma': 1.0395549668298984e-08, 'grow_policy': 'lossguide', 'sample_type': 'weighted', 'normalize_type': 'forest', 'rate_drop': 0.0005659075166907396, 'skip_drop': 0.1941638470565208}. Best is trial 62 with value: 0.75.\u001b[0m\n",
      "\u001b[32m[I 2021-07-16 00:08:39,973]\u001b[0m Trial 76 finished with value: 0.7071240105540897 and parameters: {'booster': 'dart', 'lambda': 1.2492602202595808e-07, 'alpha': 0.03548957588132181, 'subsample': 0.8629243255349597, 'colsample_bytree': 0.9175753163151603, 'max_depth': 9, 'min_child_weight': 4, 'eta': 0.6311934181990999, 'gamma': 7.213404597645408e-08, 'grow_policy': 'lossguide', 'sample_type': 'weighted', 'normalize_type': 'forest', 'rate_drop': 0.0021437287176342915, 'skip_drop': 0.01129086608891308}. Best is trial 62 with value: 0.75.\u001b[0m\n",
      "\u001b[32m[I 2021-07-16 00:08:55,653]\u001b[0m Trial 77 finished with value: 0.6282973621103117 and parameters: {'booster': 'dart', 'lambda': 4.44897359129034e-08, 'alpha': 0.009055281434641111, 'subsample': 0.8228557516373909, 'colsample_bytree': 0.94031630447835, 'max_depth': 10, 'min_child_weight': 4, 'eta': 0.17690430041866118, 'gamma': 6.216805570246804e-08, 'grow_policy': 'lossguide', 'sample_type': 'weighted', 'normalize_type': 'forest', 'rate_drop': 0.00019100091593917293, 'skip_drop': 0.026656910046184888}. Best is trial 62 with value: 0.75.\u001b[0m\n",
      "\u001b[32m[I 2021-07-16 00:09:02,565]\u001b[0m Trial 78 finished with value: 0.5165048543689321 and parameters: {'booster': 'dart', 'lambda': 2.15548246251212e-07, 'alpha': 0.11323329288922626, 'subsample': 0.918172336276684, 'colsample_bytree': 0.9980946303383386, 'max_depth': 8, 'min_child_weight': 3, 'eta': 0.04113902192131876, 'gamma': 0.00022986132506880308, 'grow_policy': 'lossguide', 'sample_type': 'weighted', 'normalize_type': 'forest', 'rate_drop': 0.0007872382107682114, 'skip_drop': 0.007296828524494493}. Best is trial 62 with value: 0.75.\u001b[0m\n",
      "\u001b[32m[I 2021-07-16 00:09:08,891]\u001b[0m Trial 79 finished with value: 0.6858638743455499 and parameters: {'booster': 'dart', 'lambda': 6.368206760609817e-07, 'alpha': 0.385986333230768, 'subsample': 0.8931254957524758, 'colsample_bytree': 0.899363099425249, 'max_depth': 9, 'min_child_weight': 5, 'eta': 0.5522425000952241, 'gamma': 1.0543993772979253e-08, 'grow_policy': 'lossguide', 'sample_type': 'weighted', 'normalize_type': 'forest', 'rate_drop': 0.00035948347679765075, 'skip_drop': 0.08010715109904029}. Best is trial 62 with value: 0.75.\u001b[0m\n"
     ]
    },
    {
     "name": "stderr",
     "output_type": "stream",
     "text": [
      "\u001b[32m[I 2021-07-16 00:09:11,225]\u001b[0m Trial 80 finished with value: 0.7317073170731707 and parameters: {'booster': 'gbtree', 'lambda': 3.2293704505109904e-07, 'alpha': 0.014581885177705603, 'subsample': 0.9791204515014515, 'colsample_bytree': 0.9769578632436203, 'max_depth': 10, 'min_child_weight': 3, 'eta': 0.9068410960238443, 'gamma': 1.9246978899664133e-08, 'grow_policy': 'lossguide'}. Best is trial 62 with value: 0.75.\u001b[0m\n",
      "\u001b[32m[I 2021-07-16 00:09:13,573]\u001b[0m Trial 81 finished with value: 0.6502463054187192 and parameters: {'booster': 'gbtree', 'lambda': 3.1425852165578396e-07, 'alpha': 0.01178820666822787, 'subsample': 0.9757191619634681, 'colsample_bytree': 0.9799728945495987, 'max_depth': 10, 'min_child_weight': 3, 'eta': 0.17952427258937403, 'gamma': 2.009432769753629e-08, 'grow_policy': 'lossguide'}. Best is trial 62 with value: 0.75.\u001b[0m\n",
      "\u001b[32m[I 2021-07-16 00:09:15,958]\u001b[0m Trial 82 finished with value: 0.7318435754189945 and parameters: {'booster': 'gbtree', 'lambda': 8.399473453183979e-08, 'alpha': 0.006547496922283396, 'subsample': 0.9289079805880992, 'colsample_bytree': 0.8743918168814058, 'max_depth': 10, 'min_child_weight': 3, 'eta': 0.5513641981055953, 'gamma': 1.0447320263294633e-08, 'grow_policy': 'lossguide'}. Best is trial 62 with value: 0.75.\u001b[0m\n",
      "\u001b[32m[I 2021-07-16 00:09:18,293]\u001b[0m Trial 83 finished with value: 0.7096774193548387 and parameters: {'booster': 'gbtree', 'lambda': 8.478355892307578e-08, 'alpha': 0.00607991017804861, 'subsample': 0.937072343906262, 'colsample_bytree': 0.8812618911477277, 'max_depth': 10, 'min_child_weight': 3, 'eta': 0.9164460615889906, 'gamma': 1.0056762714662763e-08, 'grow_policy': 'lossguide'}. Best is trial 62 with value: 0.75.\u001b[0m\n",
      "\u001b[32m[I 2021-07-16 00:09:20,515]\u001b[0m Trial 84 finished with value: 0.7005347593582888 and parameters: {'booster': 'gbtree', 'lambda': 1.5770051389940213e-07, 'alpha': 0.0320194458441934, 'subsample': 0.8671484538289743, 'colsample_bytree': 0.9144758207022375, 'max_depth': 9, 'min_child_weight': 4, 'eta': 0.9401472485812795, 'gamma': 3.7683750245404213e-08, 'grow_policy': 'lossguide'}. Best is trial 62 with value: 0.75.\u001b[0m\n",
      "\u001b[32m[I 2021-07-16 00:09:22,701]\u001b[0m Trial 85 finished with value: 0.7238605898123324 and parameters: {'booster': 'gbtree', 'lambda': 5.262454669157889e-08, 'alpha': 0.015503410488988272, 'subsample': 0.9992181433267975, 'colsample_bytree': 0.9769326669290807, 'max_depth': 10, 'min_child_weight': 3, 'eta': 0.9984042937989019, 'gamma': 9.621205890876597e-08, 'grow_policy': 'lossguide'}. Best is trial 62 with value: 0.75.\u001b[0m\n",
      "\u001b[32m[I 2021-07-16 00:09:25,632]\u001b[0m Trial 86 finished with value: 0.5088062622309197 and parameters: {'booster': 'gbtree', 'lambda': 3.874123049490531e-08, 'alpha': 0.01473739550656057, 'subsample': 0.9960892353283336, 'colsample_bytree': 0.9605345786577416, 'max_depth': 10, 'min_child_weight': 3, 'eta': 1.456189303125491e-05, 'gamma': 1.0121710660712882e-07, 'grow_policy': 'lossguide'}. Best is trial 62 with value: 0.75.\u001b[0m\n",
      "\u001b[32m[I 2021-07-16 00:09:27,972]\u001b[0m Trial 87 finished with value: 0.7197802197802198 and parameters: {'booster': 'gbtree', 'lambda': 6.415723383475034e-08, 'alpha': 0.04203372307557389, 'subsample': 0.9640582787966764, 'colsample_bytree': 0.9335334517575545, 'max_depth': 9, 'min_child_weight': 4, 'eta': 0.6093519480823292, 'gamma': 5.0020334045267923e-08, 'grow_policy': 'lossguide'}. Best is trial 62 with value: 0.75.\u001b[0m\n",
      "\u001b[32m[I 2021-07-16 00:09:30,477]\u001b[0m Trial 88 finished with value: 0.6770025839793282 and parameters: {'booster': 'gbtree', 'lambda': 1.6720679556187071e-06, 'alpha': 0.019957509523592192, 'subsample': 0.8202584458561003, 'colsample_bytree': 0.831387657256271, 'max_depth': 10, 'min_child_weight': 3, 'eta': 0.20405923745012902, 'gamma': 1.9533900135057617e-07, 'grow_policy': 'lossguide'}. Best is trial 62 with value: 0.75.\u001b[0m\n",
      "\u001b[32m[I 2021-07-16 00:09:33,332]\u001b[0m Trial 89 finished with value: 0.7100271002710027 and parameters: {'booster': 'gbtree', 'lambda': 3.3294286612564386e-08, 'alpha': 0.05803826070729912, 'subsample': 0.8817098443224543, 'colsample_bytree': 0.9881780864802797, 'max_depth': 10, 'min_child_weight': 3, 'eta': 0.9778247571215944, 'gamma': 8.785660291407964e-08, 'grow_policy': 'lossguide'}. Best is trial 62 with value: 0.75.\u001b[0m\n",
      "\u001b[32m[I 2021-07-16 00:09:35,069]\u001b[0m Trial 90 finished with value: 0.5990990990990991 and parameters: {'booster': 'gbtree', 'lambda': 3.9428998554730924e-07, 'alpha': 0.0069401860358617425, 'subsample': 0.8525688927218468, 'colsample_bytree': 0.8707236631425974, 'max_depth': 6, 'min_child_weight': 4, 'eta': 0.5372230690956655, 'gamma': 2.424715251978425e-08, 'grow_policy': 'lossguide'}. Best is trial 62 with value: 0.75.\u001b[0m\n",
      "\u001b[32m[I 2021-07-16 00:09:37,623]\u001b[0m Trial 91 finished with value: 0.7208672086720868 and parameters: {'booster': 'gbtree', 'lambda': 4.1699472674923745e-06, 'alpha': 0.013776802686590055, 'subsample': 0.9304375702609066, 'colsample_bytree': 0.8887694570274041, 'max_depth': 10, 'min_child_weight': 3, 'eta': 0.9745257530167131, 'gamma': 1.612308981418924e-08, 'grow_policy': 'lossguide'}. Best is trial 62 with value: 0.75.\u001b[0m\n",
      "\u001b[32m[I 2021-07-16 00:09:39,675]\u001b[0m Trial 92 finished with value: 0.6502463054187192 and parameters: {'booster': 'gbtree', 'lambda': 6.925793680533693e-06, 'alpha': 0.013201264973625046, 'subsample': 0.9998822052552396, 'colsample_bytree': 0.9012420083345521, 'max_depth': 10, 'min_child_weight': 3, 'eta': 0.21221512204189924, 'gamma': 3.0245070278233574e-08, 'grow_policy': 'lossguide'}. Best is trial 62 with value: 0.75.\u001b[0m\n",
      "\u001b[32m[I 2021-07-16 00:09:41,969]\u001b[0m Trial 93 finished with value: 0.7247191011235955 and parameters: {'booster': 'gbtree', 'lambda': 1.0678395656184383e-07, 'alpha': 0.021775852450444663, 'subsample': 0.9228428945870794, 'colsample_bytree': 0.9227621907052281, 'max_depth': 9, 'min_child_weight': 3, 'eta': 0.9162367289745071, 'gamma': 1.582207000168663e-08, 'grow_policy': 'lossguide'}. Best is trial 62 with value: 0.75.\u001b[0m\n",
      "\u001b[32m[I 2021-07-16 00:09:44,149]\u001b[0m Trial 94 finished with value: 0.7272727272727272 and parameters: {'booster': 'gbtree', 'lambda': 1.0957990717532542e-07, 'alpha': 0.07256479623850672, 'subsample': 0.9170404913744677, 'colsample_bytree': 0.876329754280102, 'max_depth': 9, 'min_child_weight': 3, 'eta': 0.9689827218902409, 'gamma': 4.378268797437557e-08, 'grow_policy': 'lossguide'}. Best is trial 62 with value: 0.75.\u001b[0m\n",
      "\u001b[32m[I 2021-07-16 00:09:46,095]\u001b[0m Trial 95 finished with value: 0.6976744186046511 and parameters: {'booster': 'gbtree', 'lambda': 1.0221826197501066e-07, 'alpha': 0.08801902598465887, 'subsample': 0.905680217775356, 'colsample_bytree': 0.8593161903455923, 'max_depth': 8, 'min_child_weight': 3, 'eta': 0.6532280506730436, 'gamma': 5.218010429821446e-08, 'grow_policy': 'lossguide'}. Best is trial 62 with value: 0.75.\u001b[0m\n",
      "\u001b[32m[I 2021-07-16 00:09:48,250]\u001b[0m Trial 96 finished with value: 0.6403940886699507 and parameters: {'booster': 'gbtree', 'lambda': 2.83919629457852e-07, 'alpha': 0.04080706680335295, 'subsample': 0.8807324498404656, 'colsample_bytree': 0.8334304480661051, 'max_depth': 9, 'min_child_weight': 4, 'eta': 0.26525181055207986, 'gamma': 1.2071394168086668e-07, 'grow_policy': 'lossguide'}. Best is trial 62 with value: 0.75.\u001b[0m\n",
      "\u001b[32m[I 2021-07-16 00:09:50,336]\u001b[0m Trial 97 finished with value: 0.5745614035087719 and parameters: {'booster': 'gbtree', 'lambda': 5.2972061758995224e-08, 'alpha': 0.003619593977377585, 'subsample': 0.9803028639196213, 'colsample_bytree': 0.9442059951854125, 'max_depth': 9, 'min_child_weight': 3, 'eta': 0.11032098828992214, 'gamma': 0.16879013499443293, 'grow_policy': 'lossguide'}. Best is trial 62 with value: 0.75.\u001b[0m\n",
      "\u001b[32m[I 2021-07-16 00:09:52,959]\u001b[0m Trial 98 finished with value: 0.48496240601503765 and parameters: {'booster': 'gbtree', 'lambda': 1.2957939980428435e-07, 'alpha': 0.007605654858478171, 'subsample': 0.7794625561713295, 'colsample_bytree': 0.9241063276660011, 'max_depth': 9, 'min_child_weight': 6, 'eta': 1.7755767333233633e-07, 'gamma': 2.828547938686328e-08, 'grow_policy': 'lossguide'}. Best is trial 62 with value: 0.75.\u001b[0m\n",
      "\u001b[32m[I 2021-07-16 00:09:54,908]\u001b[0m Trial 99 finished with value: 0.7338935574229692 and parameters: {'booster': 'gbtree', 'lambda': 8.397328688703479e-08, 'alpha': 0.07651756280570236, 'subsample': 0.9204585224251206, 'colsample_bytree': 0.970410372308046, 'max_depth': 8, 'min_child_weight': 3, 'eta': 0.9862581736708708, 'gamma': 0.0022500717269552943, 'grow_policy': 'lossguide'}. Best is trial 62 with value: 0.75.\u001b[0m\n"
     ]
    }
   ],
   "source": [
    "study = create_study(direction=\"maximize\")\n",
    "study.optimize(objective, n_trials=100, timeout=600)"
   ]
  },
  {
   "cell_type": "code",
   "execution_count": 63,
   "id": "36db3415",
   "metadata": {},
   "outputs": [
    {
     "name": "stdout",
     "output_type": "stream",
     "text": [
      "Number of finished trials:  100\n",
      "Best trial:\n",
      "  Value: 0.75\n",
      "  Params: \n"
     ]
    },
    {
     "data": {
      "text/plain": [
       "{'booster': 'dart',\n",
       " 'lambda': 7.476528036300595e-08,\n",
       " 'alpha': 0.009459705034491677,\n",
       " 'subsample': 0.8353668146424433,\n",
       " 'colsample_bytree': 0.8793099088911032,\n",
       " 'max_depth': 11,\n",
       " 'min_child_weight': 2,\n",
       " 'eta': 0.3857463796507874,\n",
       " 'gamma': 9.862600734559058e-07,\n",
       " 'grow_policy': 'depthwise',\n",
       " 'sample_type': 'weighted',\n",
       " 'normalize_type': 'forest',\n",
       " 'rate_drop': 1.2892684505104446e-05,\n",
       " 'skip_drop': 0.0033355721268970603}"
      ]
     },
     "execution_count": 63,
     "metadata": {},
     "output_type": "execute_result"
    }
   ],
   "source": [
    "print(\"Number of finished trials: \", len(study.trials))\n",
    "print(\"Best trial:\")\n",
    "trial = study.best_trial\n",
    "\n",
    "print(\"  Value: {}\".format(trial.value))\n",
    "print(\"  Params: \")\n",
    "\n",
    "trial.params"
   ]
  },
  {
   "cell_type": "code",
   "execution_count": 60,
   "id": "38e764ad",
   "metadata": {},
   "outputs": [
    {
     "data": {
      "application/vnd.plotly.v1+json": {
       "config": {
        "plotlyServerURL": "https://plot.ly"
       },
       "data": [
        {
         "mode": "markers",
         "name": "Objective Value",
         "type": "scatter",
         "x": [
          0,
          1,
          2,
          3,
          4,
          5,
          6,
          7,
          8,
          9,
          10,
          11,
          12,
          13,
          14,
          15,
          16,
          17,
          18,
          19,
          20,
          21,
          22,
          23,
          24,
          25,
          26,
          27,
          28,
          29,
          30,
          31,
          32,
          33,
          34,
          35,
          36,
          37,
          38,
          39,
          40,
          41,
          42,
          43,
          44,
          45,
          46,
          47,
          48,
          49,
          50,
          51,
          52,
          53,
          54,
          55,
          56,
          57,
          58,
          59,
          60,
          61,
          62,
          63,
          64,
          65,
          66,
          67,
          68,
          69,
          70,
          71,
          72,
          73,
          74,
          75,
          76,
          77,
          78,
          79,
          80,
          81,
          82,
          83,
          84,
          85,
          86,
          87,
          88,
          89,
          90,
          91,
          92,
          93,
          94,
          95,
          96,
          97,
          98,
          99
         ],
         "y": [
          0.4868913857677903,
          0.35469107551487417,
          0.46460980036297644,
          0.35402298850574715,
          0.35402298850574715,
          0.44919786096256675,
          0.3536165327210103,
          0.4673684210526316,
          0.5069306930693069,
          0.4395973154362417,
          0.4769230769230769,
          0.485981308411215,
          0.44328097731239086,
          0.4884615384615384,
          0.5316455696202532,
          0.5061728395061729,
          0.4470989761092149,
          0.45090909090909087,
          0.4491228070175438,
          0.5617021276595745,
          0.4971537001897534,
          0.6838046272493572,
          0.6513994910941475,
          0.5372460496613994,
          0.6407766990291262,
          0.6336633663366336,
          0.43327556325823224,
          0.6736292428198434,
          0.46715328467153283,
          0.5049701789264414,
          0.5279999999999999,
          0.5938242280285035,
          0.6649874055415617,
          0.6113744075829384,
          0.35402298850574715,
          0.6139088729016786,
          0.45309734513274347,
          0.35402298850574715,
          0.6979166666666666,
          0.35402298850574715,
          0.5503080082135524,
          0.6916890080428953,
          0.6991869918699186,
          0.6861702127659576,
          0.6784810126582278,
          0.6258823529411764,
          0.6423357664233577,
          0.49149338374291124,
          0.5019455252918288,
          0.5279999999999999,
          0.5009633911368017,
          0.7182320441988951,
          0.66,
          0.7074468085106382,
          0.715846994535519,
          0.5814977973568283,
          0.6736292428198434,
          0.5215686274509804,
          0.600896860986547,
          0.35402298850574715,
          0.5117187499999999,
          0.7142857142857143,
          0.75,
          0.5250501002004008,
          0.72,
          0.72,
          0.6467661691542289,
          0.5227722772277228,
          0.5424430641821947,
          0.7380281690140845,
          0.600451467268623,
          0.7277628032345013,
          0.7258064516129032,
          0.7247956403269754,
          0.7046632124352332,
          0.7103825136612023,
          0.7071240105540897,
          0.6282973621103117,
          0.5165048543689321,
          0.6858638743455499,
          0.7317073170731707,
          0.6502463054187192,
          0.7318435754189945,
          0.7096774193548387,
          0.7005347593582888,
          0.7238605898123324,
          0.5088062622309197,
          0.7197802197802198,
          0.6770025839793282,
          0.7100271002710027,
          0.5990990990990991,
          0.7208672086720868,
          0.6502463054187192,
          0.7247191011235955,
          0.7272727272727272,
          0.6976744186046511,
          0.6403940886699507,
          0.5745614035087719,
          0.48496240601503765,
          0.7338935574229692
         ]
        },
        {
         "name": "Best Value",
         "type": "scatter",
         "x": [
          0,
          1,
          2,
          3,
          4,
          5,
          6,
          7,
          8,
          9,
          10,
          11,
          12,
          13,
          14,
          15,
          16,
          17,
          18,
          19,
          20,
          21,
          22,
          23,
          24,
          25,
          26,
          27,
          28,
          29,
          30,
          31,
          32,
          33,
          34,
          35,
          36,
          37,
          38,
          39,
          40,
          41,
          42,
          43,
          44,
          45,
          46,
          47,
          48,
          49,
          50,
          51,
          52,
          53,
          54,
          55,
          56,
          57,
          58,
          59,
          60,
          61,
          62,
          63,
          64,
          65,
          66,
          67,
          68,
          69,
          70,
          71,
          72,
          73,
          74,
          75,
          76,
          77,
          78,
          79,
          80,
          81,
          82,
          83,
          84,
          85,
          86,
          87,
          88,
          89,
          90,
          91,
          92,
          93,
          94,
          95,
          96,
          97,
          98,
          99
         ],
         "y": [
          0.4868913857677903,
          0.4868913857677903,
          0.4868913857677903,
          0.4868913857677903,
          0.4868913857677903,
          0.4868913857677903,
          0.4868913857677903,
          0.4868913857677903,
          0.5069306930693069,
          0.5069306930693069,
          0.5069306930693069,
          0.5069306930693069,
          0.5069306930693069,
          0.5069306930693069,
          0.5316455696202532,
          0.5316455696202532,
          0.5316455696202532,
          0.5316455696202532,
          0.5316455696202532,
          0.5617021276595745,
          0.5617021276595745,
          0.6838046272493572,
          0.6838046272493572,
          0.6838046272493572,
          0.6838046272493572,
          0.6838046272493572,
          0.6838046272493572,
          0.6838046272493572,
          0.6838046272493572,
          0.6838046272493572,
          0.6838046272493572,
          0.6838046272493572,
          0.6838046272493572,
          0.6838046272493572,
          0.6838046272493572,
          0.6838046272493572,
          0.6838046272493572,
          0.6838046272493572,
          0.6979166666666666,
          0.6979166666666666,
          0.6979166666666666,
          0.6979166666666666,
          0.6991869918699186,
          0.6991869918699186,
          0.6991869918699186,
          0.6991869918699186,
          0.6991869918699186,
          0.6991869918699186,
          0.6991869918699186,
          0.6991869918699186,
          0.6991869918699186,
          0.7182320441988951,
          0.7182320441988951,
          0.7182320441988951,
          0.7182320441988951,
          0.7182320441988951,
          0.7182320441988951,
          0.7182320441988951,
          0.7182320441988951,
          0.7182320441988951,
          0.7182320441988951,
          0.7182320441988951,
          0.75,
          0.75,
          0.75,
          0.75,
          0.75,
          0.75,
          0.75,
          0.75,
          0.75,
          0.75,
          0.75,
          0.75,
          0.75,
          0.75,
          0.75,
          0.75,
          0.75,
          0.75,
          0.75,
          0.75,
          0.75,
          0.75,
          0.75,
          0.75,
          0.75,
          0.75,
          0.75,
          0.75,
          0.75,
          0.75,
          0.75,
          0.75,
          0.75,
          0.75,
          0.75,
          0.75,
          0.75,
          0.75
         ]
        }
       ],
       "layout": {
        "template": {
         "data": {
          "bar": [
           {
            "error_x": {
             "color": "#2a3f5f"
            },
            "error_y": {
             "color": "#2a3f5f"
            },
            "marker": {
             "line": {
              "color": "#E5ECF6",
              "width": 0.5
             },
             "pattern": {
              "fillmode": "overlay",
              "size": 10,
              "solidity": 0.2
             }
            },
            "type": "bar"
           }
          ],
          "barpolar": [
           {
            "marker": {
             "line": {
              "color": "#E5ECF6",
              "width": 0.5
             },
             "pattern": {
              "fillmode": "overlay",
              "size": 10,
              "solidity": 0.2
             }
            },
            "type": "barpolar"
           }
          ],
          "carpet": [
           {
            "aaxis": {
             "endlinecolor": "#2a3f5f",
             "gridcolor": "white",
             "linecolor": "white",
             "minorgridcolor": "white",
             "startlinecolor": "#2a3f5f"
            },
            "baxis": {
             "endlinecolor": "#2a3f5f",
             "gridcolor": "white",
             "linecolor": "white",
             "minorgridcolor": "white",
             "startlinecolor": "#2a3f5f"
            },
            "type": "carpet"
           }
          ],
          "choropleth": [
           {
            "colorbar": {
             "outlinewidth": 0,
             "ticks": ""
            },
            "type": "choropleth"
           }
          ],
          "contour": [
           {
            "colorbar": {
             "outlinewidth": 0,
             "ticks": ""
            },
            "colorscale": [
             [
              0,
              "#0d0887"
             ],
             [
              0.1111111111111111,
              "#46039f"
             ],
             [
              0.2222222222222222,
              "#7201a8"
             ],
             [
              0.3333333333333333,
              "#9c179e"
             ],
             [
              0.4444444444444444,
              "#bd3786"
             ],
             [
              0.5555555555555556,
              "#d8576b"
             ],
             [
              0.6666666666666666,
              "#ed7953"
             ],
             [
              0.7777777777777778,
              "#fb9f3a"
             ],
             [
              0.8888888888888888,
              "#fdca26"
             ],
             [
              1,
              "#f0f921"
             ]
            ],
            "type": "contour"
           }
          ],
          "contourcarpet": [
           {
            "colorbar": {
             "outlinewidth": 0,
             "ticks": ""
            },
            "type": "contourcarpet"
           }
          ],
          "heatmap": [
           {
            "colorbar": {
             "outlinewidth": 0,
             "ticks": ""
            },
            "colorscale": [
             [
              0,
              "#0d0887"
             ],
             [
              0.1111111111111111,
              "#46039f"
             ],
             [
              0.2222222222222222,
              "#7201a8"
             ],
             [
              0.3333333333333333,
              "#9c179e"
             ],
             [
              0.4444444444444444,
              "#bd3786"
             ],
             [
              0.5555555555555556,
              "#d8576b"
             ],
             [
              0.6666666666666666,
              "#ed7953"
             ],
             [
              0.7777777777777778,
              "#fb9f3a"
             ],
             [
              0.8888888888888888,
              "#fdca26"
             ],
             [
              1,
              "#f0f921"
             ]
            ],
            "type": "heatmap"
           }
          ],
          "heatmapgl": [
           {
            "colorbar": {
             "outlinewidth": 0,
             "ticks": ""
            },
            "colorscale": [
             [
              0,
              "#0d0887"
             ],
             [
              0.1111111111111111,
              "#46039f"
             ],
             [
              0.2222222222222222,
              "#7201a8"
             ],
             [
              0.3333333333333333,
              "#9c179e"
             ],
             [
              0.4444444444444444,
              "#bd3786"
             ],
             [
              0.5555555555555556,
              "#d8576b"
             ],
             [
              0.6666666666666666,
              "#ed7953"
             ],
             [
              0.7777777777777778,
              "#fb9f3a"
             ],
             [
              0.8888888888888888,
              "#fdca26"
             ],
             [
              1,
              "#f0f921"
             ]
            ],
            "type": "heatmapgl"
           }
          ],
          "histogram": [
           {
            "marker": {
             "pattern": {
              "fillmode": "overlay",
              "size": 10,
              "solidity": 0.2
             }
            },
            "type": "histogram"
           }
          ],
          "histogram2d": [
           {
            "colorbar": {
             "outlinewidth": 0,
             "ticks": ""
            },
            "colorscale": [
             [
              0,
              "#0d0887"
             ],
             [
              0.1111111111111111,
              "#46039f"
             ],
             [
              0.2222222222222222,
              "#7201a8"
             ],
             [
              0.3333333333333333,
              "#9c179e"
             ],
             [
              0.4444444444444444,
              "#bd3786"
             ],
             [
              0.5555555555555556,
              "#d8576b"
             ],
             [
              0.6666666666666666,
              "#ed7953"
             ],
             [
              0.7777777777777778,
              "#fb9f3a"
             ],
             [
              0.8888888888888888,
              "#fdca26"
             ],
             [
              1,
              "#f0f921"
             ]
            ],
            "type": "histogram2d"
           }
          ],
          "histogram2dcontour": [
           {
            "colorbar": {
             "outlinewidth": 0,
             "ticks": ""
            },
            "colorscale": [
             [
              0,
              "#0d0887"
             ],
             [
              0.1111111111111111,
              "#46039f"
             ],
             [
              0.2222222222222222,
              "#7201a8"
             ],
             [
              0.3333333333333333,
              "#9c179e"
             ],
             [
              0.4444444444444444,
              "#bd3786"
             ],
             [
              0.5555555555555556,
              "#d8576b"
             ],
             [
              0.6666666666666666,
              "#ed7953"
             ],
             [
              0.7777777777777778,
              "#fb9f3a"
             ],
             [
              0.8888888888888888,
              "#fdca26"
             ],
             [
              1,
              "#f0f921"
             ]
            ],
            "type": "histogram2dcontour"
           }
          ],
          "mesh3d": [
           {
            "colorbar": {
             "outlinewidth": 0,
             "ticks": ""
            },
            "type": "mesh3d"
           }
          ],
          "parcoords": [
           {
            "line": {
             "colorbar": {
              "outlinewidth": 0,
              "ticks": ""
             }
            },
            "type": "parcoords"
           }
          ],
          "pie": [
           {
            "automargin": true,
            "type": "pie"
           }
          ],
          "scatter": [
           {
            "marker": {
             "colorbar": {
              "outlinewidth": 0,
              "ticks": ""
             }
            },
            "type": "scatter"
           }
          ],
          "scatter3d": [
           {
            "line": {
             "colorbar": {
              "outlinewidth": 0,
              "ticks": ""
             }
            },
            "marker": {
             "colorbar": {
              "outlinewidth": 0,
              "ticks": ""
             }
            },
            "type": "scatter3d"
           }
          ],
          "scattercarpet": [
           {
            "marker": {
             "colorbar": {
              "outlinewidth": 0,
              "ticks": ""
             }
            },
            "type": "scattercarpet"
           }
          ],
          "scattergeo": [
           {
            "marker": {
             "colorbar": {
              "outlinewidth": 0,
              "ticks": ""
             }
            },
            "type": "scattergeo"
           }
          ],
          "scattergl": [
           {
            "marker": {
             "colorbar": {
              "outlinewidth": 0,
              "ticks": ""
             }
            },
            "type": "scattergl"
           }
          ],
          "scattermapbox": [
           {
            "marker": {
             "colorbar": {
              "outlinewidth": 0,
              "ticks": ""
             }
            },
            "type": "scattermapbox"
           }
          ],
          "scatterpolar": [
           {
            "marker": {
             "colorbar": {
              "outlinewidth": 0,
              "ticks": ""
             }
            },
            "type": "scatterpolar"
           }
          ],
          "scatterpolargl": [
           {
            "marker": {
             "colorbar": {
              "outlinewidth": 0,
              "ticks": ""
             }
            },
            "type": "scatterpolargl"
           }
          ],
          "scatterternary": [
           {
            "marker": {
             "colorbar": {
              "outlinewidth": 0,
              "ticks": ""
             }
            },
            "type": "scatterternary"
           }
          ],
          "surface": [
           {
            "colorbar": {
             "outlinewidth": 0,
             "ticks": ""
            },
            "colorscale": [
             [
              0,
              "#0d0887"
             ],
             [
              0.1111111111111111,
              "#46039f"
             ],
             [
              0.2222222222222222,
              "#7201a8"
             ],
             [
              0.3333333333333333,
              "#9c179e"
             ],
             [
              0.4444444444444444,
              "#bd3786"
             ],
             [
              0.5555555555555556,
              "#d8576b"
             ],
             [
              0.6666666666666666,
              "#ed7953"
             ],
             [
              0.7777777777777778,
              "#fb9f3a"
             ],
             [
              0.8888888888888888,
              "#fdca26"
             ],
             [
              1,
              "#f0f921"
             ]
            ],
            "type": "surface"
           }
          ],
          "table": [
           {
            "cells": {
             "fill": {
              "color": "#EBF0F8"
             },
             "line": {
              "color": "white"
             }
            },
            "header": {
             "fill": {
              "color": "#C8D4E3"
             },
             "line": {
              "color": "white"
             }
            },
            "type": "table"
           }
          ]
         },
         "layout": {
          "annotationdefaults": {
           "arrowcolor": "#2a3f5f",
           "arrowhead": 0,
           "arrowwidth": 1
          },
          "autotypenumbers": "strict",
          "coloraxis": {
           "colorbar": {
            "outlinewidth": 0,
            "ticks": ""
           }
          },
          "colorscale": {
           "diverging": [
            [
             0,
             "#8e0152"
            ],
            [
             0.1,
             "#c51b7d"
            ],
            [
             0.2,
             "#de77ae"
            ],
            [
             0.3,
             "#f1b6da"
            ],
            [
             0.4,
             "#fde0ef"
            ],
            [
             0.5,
             "#f7f7f7"
            ],
            [
             0.6,
             "#e6f5d0"
            ],
            [
             0.7,
             "#b8e186"
            ],
            [
             0.8,
             "#7fbc41"
            ],
            [
             0.9,
             "#4d9221"
            ],
            [
             1,
             "#276419"
            ]
           ],
           "sequential": [
            [
             0,
             "#0d0887"
            ],
            [
             0.1111111111111111,
             "#46039f"
            ],
            [
             0.2222222222222222,
             "#7201a8"
            ],
            [
             0.3333333333333333,
             "#9c179e"
            ],
            [
             0.4444444444444444,
             "#bd3786"
            ],
            [
             0.5555555555555556,
             "#d8576b"
            ],
            [
             0.6666666666666666,
             "#ed7953"
            ],
            [
             0.7777777777777778,
             "#fb9f3a"
            ],
            [
             0.8888888888888888,
             "#fdca26"
            ],
            [
             1,
             "#f0f921"
            ]
           ],
           "sequentialminus": [
            [
             0,
             "#0d0887"
            ],
            [
             0.1111111111111111,
             "#46039f"
            ],
            [
             0.2222222222222222,
             "#7201a8"
            ],
            [
             0.3333333333333333,
             "#9c179e"
            ],
            [
             0.4444444444444444,
             "#bd3786"
            ],
            [
             0.5555555555555556,
             "#d8576b"
            ],
            [
             0.6666666666666666,
             "#ed7953"
            ],
            [
             0.7777777777777778,
             "#fb9f3a"
            ],
            [
             0.8888888888888888,
             "#fdca26"
            ],
            [
             1,
             "#f0f921"
            ]
           ]
          },
          "colorway": [
           "#636efa",
           "#EF553B",
           "#00cc96",
           "#ab63fa",
           "#FFA15A",
           "#19d3f3",
           "#FF6692",
           "#B6E880",
           "#FF97FF",
           "#FECB52"
          ],
          "font": {
           "color": "#2a3f5f"
          },
          "geo": {
           "bgcolor": "white",
           "lakecolor": "white",
           "landcolor": "#E5ECF6",
           "showlakes": true,
           "showland": true,
           "subunitcolor": "white"
          },
          "hoverlabel": {
           "align": "left"
          },
          "hovermode": "closest",
          "mapbox": {
           "style": "light"
          },
          "paper_bgcolor": "white",
          "plot_bgcolor": "#E5ECF6",
          "polar": {
           "angularaxis": {
            "gridcolor": "white",
            "linecolor": "white",
            "ticks": ""
           },
           "bgcolor": "#E5ECF6",
           "radialaxis": {
            "gridcolor": "white",
            "linecolor": "white",
            "ticks": ""
           }
          },
          "scene": {
           "xaxis": {
            "backgroundcolor": "#E5ECF6",
            "gridcolor": "white",
            "gridwidth": 2,
            "linecolor": "white",
            "showbackground": true,
            "ticks": "",
            "zerolinecolor": "white"
           },
           "yaxis": {
            "backgroundcolor": "#E5ECF6",
            "gridcolor": "white",
            "gridwidth": 2,
            "linecolor": "white",
            "showbackground": true,
            "ticks": "",
            "zerolinecolor": "white"
           },
           "zaxis": {
            "backgroundcolor": "#E5ECF6",
            "gridcolor": "white",
            "gridwidth": 2,
            "linecolor": "white",
            "showbackground": true,
            "ticks": "",
            "zerolinecolor": "white"
           }
          },
          "shapedefaults": {
           "line": {
            "color": "#2a3f5f"
           }
          },
          "ternary": {
           "aaxis": {
            "gridcolor": "white",
            "linecolor": "white",
            "ticks": ""
           },
           "baxis": {
            "gridcolor": "white",
            "linecolor": "white",
            "ticks": ""
           },
           "bgcolor": "#E5ECF6",
           "caxis": {
            "gridcolor": "white",
            "linecolor": "white",
            "ticks": ""
           }
          },
          "title": {
           "x": 0.05
          },
          "xaxis": {
           "automargin": true,
           "gridcolor": "white",
           "linecolor": "white",
           "ticks": "",
           "title": {
            "standoff": 15
           },
           "zerolinecolor": "white",
           "zerolinewidth": 2
          },
          "yaxis": {
           "automargin": true,
           "gridcolor": "white",
           "linecolor": "white",
           "ticks": "",
           "title": {
            "standoff": 15
           },
           "zerolinecolor": "white",
           "zerolinewidth": 2
          }
         }
        },
        "title": {
         "text": "Optimization History Plot"
        },
        "xaxis": {
         "title": {
          "text": "#Trials"
         }
        },
        "yaxis": {
         "title": {
          "text": "Objective Value"
         }
        }
       }
      },
      "text/html": [
       "<div>                            <div id=\"b908e1e4-bfef-4fe7-9d66-0cdf3fc78b1e\" class=\"plotly-graph-div\" style=\"height:525px; width:100%;\"></div>            <script type=\"text/javascript\">                require([\"plotly\"], function(Plotly) {                    window.PLOTLYENV=window.PLOTLYENV || {};                                    if (document.getElementById(\"b908e1e4-bfef-4fe7-9d66-0cdf3fc78b1e\")) {                    Plotly.newPlot(                        \"b908e1e4-bfef-4fe7-9d66-0cdf3fc78b1e\",                        [{\"mode\":\"markers\",\"name\":\"Objective Value\",\"type\":\"scatter\",\"x\":[0,1,2,3,4,5,6,7,8,9,10,11,12,13,14,15,16,17,18,19,20,21,22,23,24,25,26,27,28,29,30,31,32,33,34,35,36,37,38,39,40,41,42,43,44,45,46,47,48,49,50,51,52,53,54,55,56,57,58,59,60,61,62,63,64,65,66,67,68,69,70,71,72,73,74,75,76,77,78,79,80,81,82,83,84,85,86,87,88,89,90,91,92,93,94,95,96,97,98,99],\"y\":[0.4868913857677903,0.35469107551487417,0.46460980036297644,0.35402298850574715,0.35402298850574715,0.44919786096256675,0.3536165327210103,0.4673684210526316,0.5069306930693069,0.4395973154362417,0.4769230769230769,0.485981308411215,0.44328097731239086,0.4884615384615384,0.5316455696202532,0.5061728395061729,0.4470989761092149,0.45090909090909087,0.4491228070175438,0.5617021276595745,0.4971537001897534,0.6838046272493572,0.6513994910941475,0.5372460496613994,0.6407766990291262,0.6336633663366336,0.43327556325823224,0.6736292428198434,0.46715328467153283,0.5049701789264414,0.5279999999999999,0.5938242280285035,0.6649874055415617,0.6113744075829384,0.35402298850574715,0.6139088729016786,0.45309734513274347,0.35402298850574715,0.6979166666666666,0.35402298850574715,0.5503080082135524,0.6916890080428953,0.6991869918699186,0.6861702127659576,0.6784810126582278,0.6258823529411764,0.6423357664233577,0.49149338374291124,0.5019455252918288,0.5279999999999999,0.5009633911368017,0.7182320441988951,0.66,0.7074468085106382,0.715846994535519,0.5814977973568283,0.6736292428198434,0.5215686274509804,0.600896860986547,0.35402298850574715,0.5117187499999999,0.7142857142857143,0.75,0.5250501002004008,0.72,0.72,0.6467661691542289,0.5227722772277228,0.5424430641821947,0.7380281690140845,0.600451467268623,0.7277628032345013,0.7258064516129032,0.7247956403269754,0.7046632124352332,0.7103825136612023,0.7071240105540897,0.6282973621103117,0.5165048543689321,0.6858638743455499,0.7317073170731707,0.6502463054187192,0.7318435754189945,0.7096774193548387,0.7005347593582888,0.7238605898123324,0.5088062622309197,0.7197802197802198,0.6770025839793282,0.7100271002710027,0.5990990990990991,0.7208672086720868,0.6502463054187192,0.7247191011235955,0.7272727272727272,0.6976744186046511,0.6403940886699507,0.5745614035087719,0.48496240601503765,0.7338935574229692]},{\"name\":\"Best Value\",\"type\":\"scatter\",\"x\":[0,1,2,3,4,5,6,7,8,9,10,11,12,13,14,15,16,17,18,19,20,21,22,23,24,25,26,27,28,29,30,31,32,33,34,35,36,37,38,39,40,41,42,43,44,45,46,47,48,49,50,51,52,53,54,55,56,57,58,59,60,61,62,63,64,65,66,67,68,69,70,71,72,73,74,75,76,77,78,79,80,81,82,83,84,85,86,87,88,89,90,91,92,93,94,95,96,97,98,99],\"y\":[0.4868913857677903,0.4868913857677903,0.4868913857677903,0.4868913857677903,0.4868913857677903,0.4868913857677903,0.4868913857677903,0.4868913857677903,0.5069306930693069,0.5069306930693069,0.5069306930693069,0.5069306930693069,0.5069306930693069,0.5069306930693069,0.5316455696202532,0.5316455696202532,0.5316455696202532,0.5316455696202532,0.5316455696202532,0.5617021276595745,0.5617021276595745,0.6838046272493572,0.6838046272493572,0.6838046272493572,0.6838046272493572,0.6838046272493572,0.6838046272493572,0.6838046272493572,0.6838046272493572,0.6838046272493572,0.6838046272493572,0.6838046272493572,0.6838046272493572,0.6838046272493572,0.6838046272493572,0.6838046272493572,0.6838046272493572,0.6838046272493572,0.6979166666666666,0.6979166666666666,0.6979166666666666,0.6979166666666666,0.6991869918699186,0.6991869918699186,0.6991869918699186,0.6991869918699186,0.6991869918699186,0.6991869918699186,0.6991869918699186,0.6991869918699186,0.6991869918699186,0.7182320441988951,0.7182320441988951,0.7182320441988951,0.7182320441988951,0.7182320441988951,0.7182320441988951,0.7182320441988951,0.7182320441988951,0.7182320441988951,0.7182320441988951,0.7182320441988951,0.75,0.75,0.75,0.75,0.75,0.75,0.75,0.75,0.75,0.75,0.75,0.75,0.75,0.75,0.75,0.75,0.75,0.75,0.75,0.75,0.75,0.75,0.75,0.75,0.75,0.75,0.75,0.75,0.75,0.75,0.75,0.75,0.75,0.75,0.75,0.75,0.75,0.75]}],                        {\"template\":{\"data\":{\"bar\":[{\"error_x\":{\"color\":\"#2a3f5f\"},\"error_y\":{\"color\":\"#2a3f5f\"},\"marker\":{\"line\":{\"color\":\"#E5ECF6\",\"width\":0.5},\"pattern\":{\"fillmode\":\"overlay\",\"size\":10,\"solidity\":0.2}},\"type\":\"bar\"}],\"barpolar\":[{\"marker\":{\"line\":{\"color\":\"#E5ECF6\",\"width\":0.5},\"pattern\":{\"fillmode\":\"overlay\",\"size\":10,\"solidity\":0.2}},\"type\":\"barpolar\"}],\"carpet\":[{\"aaxis\":{\"endlinecolor\":\"#2a3f5f\",\"gridcolor\":\"white\",\"linecolor\":\"white\",\"minorgridcolor\":\"white\",\"startlinecolor\":\"#2a3f5f\"},\"baxis\":{\"endlinecolor\":\"#2a3f5f\",\"gridcolor\":\"white\",\"linecolor\":\"white\",\"minorgridcolor\":\"white\",\"startlinecolor\":\"#2a3f5f\"},\"type\":\"carpet\"}],\"choropleth\":[{\"colorbar\":{\"outlinewidth\":0,\"ticks\":\"\"},\"type\":\"choropleth\"}],\"contour\":[{\"colorbar\":{\"outlinewidth\":0,\"ticks\":\"\"},\"colorscale\":[[0.0,\"#0d0887\"],[0.1111111111111111,\"#46039f\"],[0.2222222222222222,\"#7201a8\"],[0.3333333333333333,\"#9c179e\"],[0.4444444444444444,\"#bd3786\"],[0.5555555555555556,\"#d8576b\"],[0.6666666666666666,\"#ed7953\"],[0.7777777777777778,\"#fb9f3a\"],[0.8888888888888888,\"#fdca26\"],[1.0,\"#f0f921\"]],\"type\":\"contour\"}],\"contourcarpet\":[{\"colorbar\":{\"outlinewidth\":0,\"ticks\":\"\"},\"type\":\"contourcarpet\"}],\"heatmap\":[{\"colorbar\":{\"outlinewidth\":0,\"ticks\":\"\"},\"colorscale\":[[0.0,\"#0d0887\"],[0.1111111111111111,\"#46039f\"],[0.2222222222222222,\"#7201a8\"],[0.3333333333333333,\"#9c179e\"],[0.4444444444444444,\"#bd3786\"],[0.5555555555555556,\"#d8576b\"],[0.6666666666666666,\"#ed7953\"],[0.7777777777777778,\"#fb9f3a\"],[0.8888888888888888,\"#fdca26\"],[1.0,\"#f0f921\"]],\"type\":\"heatmap\"}],\"heatmapgl\":[{\"colorbar\":{\"outlinewidth\":0,\"ticks\":\"\"},\"colorscale\":[[0.0,\"#0d0887\"],[0.1111111111111111,\"#46039f\"],[0.2222222222222222,\"#7201a8\"],[0.3333333333333333,\"#9c179e\"],[0.4444444444444444,\"#bd3786\"],[0.5555555555555556,\"#d8576b\"],[0.6666666666666666,\"#ed7953\"],[0.7777777777777778,\"#fb9f3a\"],[0.8888888888888888,\"#fdca26\"],[1.0,\"#f0f921\"]],\"type\":\"heatmapgl\"}],\"histogram\":[{\"marker\":{\"pattern\":{\"fillmode\":\"overlay\",\"size\":10,\"solidity\":0.2}},\"type\":\"histogram\"}],\"histogram2d\":[{\"colorbar\":{\"outlinewidth\":0,\"ticks\":\"\"},\"colorscale\":[[0.0,\"#0d0887\"],[0.1111111111111111,\"#46039f\"],[0.2222222222222222,\"#7201a8\"],[0.3333333333333333,\"#9c179e\"],[0.4444444444444444,\"#bd3786\"],[0.5555555555555556,\"#d8576b\"],[0.6666666666666666,\"#ed7953\"],[0.7777777777777778,\"#fb9f3a\"],[0.8888888888888888,\"#fdca26\"],[1.0,\"#f0f921\"]],\"type\":\"histogram2d\"}],\"histogram2dcontour\":[{\"colorbar\":{\"outlinewidth\":0,\"ticks\":\"\"},\"colorscale\":[[0.0,\"#0d0887\"],[0.1111111111111111,\"#46039f\"],[0.2222222222222222,\"#7201a8\"],[0.3333333333333333,\"#9c179e\"],[0.4444444444444444,\"#bd3786\"],[0.5555555555555556,\"#d8576b\"],[0.6666666666666666,\"#ed7953\"],[0.7777777777777778,\"#fb9f3a\"],[0.8888888888888888,\"#fdca26\"],[1.0,\"#f0f921\"]],\"type\":\"histogram2dcontour\"}],\"mesh3d\":[{\"colorbar\":{\"outlinewidth\":0,\"ticks\":\"\"},\"type\":\"mesh3d\"}],\"parcoords\":[{\"line\":{\"colorbar\":{\"outlinewidth\":0,\"ticks\":\"\"}},\"type\":\"parcoords\"}],\"pie\":[{\"automargin\":true,\"type\":\"pie\"}],\"scatter\":[{\"marker\":{\"colorbar\":{\"outlinewidth\":0,\"ticks\":\"\"}},\"type\":\"scatter\"}],\"scatter3d\":[{\"line\":{\"colorbar\":{\"outlinewidth\":0,\"ticks\":\"\"}},\"marker\":{\"colorbar\":{\"outlinewidth\":0,\"ticks\":\"\"}},\"type\":\"scatter3d\"}],\"scattercarpet\":[{\"marker\":{\"colorbar\":{\"outlinewidth\":0,\"ticks\":\"\"}},\"type\":\"scattercarpet\"}],\"scattergeo\":[{\"marker\":{\"colorbar\":{\"outlinewidth\":0,\"ticks\":\"\"}},\"type\":\"scattergeo\"}],\"scattergl\":[{\"marker\":{\"colorbar\":{\"outlinewidth\":0,\"ticks\":\"\"}},\"type\":\"scattergl\"}],\"scattermapbox\":[{\"marker\":{\"colorbar\":{\"outlinewidth\":0,\"ticks\":\"\"}},\"type\":\"scattermapbox\"}],\"scatterpolar\":[{\"marker\":{\"colorbar\":{\"outlinewidth\":0,\"ticks\":\"\"}},\"type\":\"scatterpolar\"}],\"scatterpolargl\":[{\"marker\":{\"colorbar\":{\"outlinewidth\":0,\"ticks\":\"\"}},\"type\":\"scatterpolargl\"}],\"scatterternary\":[{\"marker\":{\"colorbar\":{\"outlinewidth\":0,\"ticks\":\"\"}},\"type\":\"scatterternary\"}],\"surface\":[{\"colorbar\":{\"outlinewidth\":0,\"ticks\":\"\"},\"colorscale\":[[0.0,\"#0d0887\"],[0.1111111111111111,\"#46039f\"],[0.2222222222222222,\"#7201a8\"],[0.3333333333333333,\"#9c179e\"],[0.4444444444444444,\"#bd3786\"],[0.5555555555555556,\"#d8576b\"],[0.6666666666666666,\"#ed7953\"],[0.7777777777777778,\"#fb9f3a\"],[0.8888888888888888,\"#fdca26\"],[1.0,\"#f0f921\"]],\"type\":\"surface\"}],\"table\":[{\"cells\":{\"fill\":{\"color\":\"#EBF0F8\"},\"line\":{\"color\":\"white\"}},\"header\":{\"fill\":{\"color\":\"#C8D4E3\"},\"line\":{\"color\":\"white\"}},\"type\":\"table\"}]},\"layout\":{\"annotationdefaults\":{\"arrowcolor\":\"#2a3f5f\",\"arrowhead\":0,\"arrowwidth\":1},\"autotypenumbers\":\"strict\",\"coloraxis\":{\"colorbar\":{\"outlinewidth\":0,\"ticks\":\"\"}},\"colorscale\":{\"diverging\":[[0,\"#8e0152\"],[0.1,\"#c51b7d\"],[0.2,\"#de77ae\"],[0.3,\"#f1b6da\"],[0.4,\"#fde0ef\"],[0.5,\"#f7f7f7\"],[0.6,\"#e6f5d0\"],[0.7,\"#b8e186\"],[0.8,\"#7fbc41\"],[0.9,\"#4d9221\"],[1,\"#276419\"]],\"sequential\":[[0.0,\"#0d0887\"],[0.1111111111111111,\"#46039f\"],[0.2222222222222222,\"#7201a8\"],[0.3333333333333333,\"#9c179e\"],[0.4444444444444444,\"#bd3786\"],[0.5555555555555556,\"#d8576b\"],[0.6666666666666666,\"#ed7953\"],[0.7777777777777778,\"#fb9f3a\"],[0.8888888888888888,\"#fdca26\"],[1.0,\"#f0f921\"]],\"sequentialminus\":[[0.0,\"#0d0887\"],[0.1111111111111111,\"#46039f\"],[0.2222222222222222,\"#7201a8\"],[0.3333333333333333,\"#9c179e\"],[0.4444444444444444,\"#bd3786\"],[0.5555555555555556,\"#d8576b\"],[0.6666666666666666,\"#ed7953\"],[0.7777777777777778,\"#fb9f3a\"],[0.8888888888888888,\"#fdca26\"],[1.0,\"#f0f921\"]]},\"colorway\":[\"#636efa\",\"#EF553B\",\"#00cc96\",\"#ab63fa\",\"#FFA15A\",\"#19d3f3\",\"#FF6692\",\"#B6E880\",\"#FF97FF\",\"#FECB52\"],\"font\":{\"color\":\"#2a3f5f\"},\"geo\":{\"bgcolor\":\"white\",\"lakecolor\":\"white\",\"landcolor\":\"#E5ECF6\",\"showlakes\":true,\"showland\":true,\"subunitcolor\":\"white\"},\"hoverlabel\":{\"align\":\"left\"},\"hovermode\":\"closest\",\"mapbox\":{\"style\":\"light\"},\"paper_bgcolor\":\"white\",\"plot_bgcolor\":\"#E5ECF6\",\"polar\":{\"angularaxis\":{\"gridcolor\":\"white\",\"linecolor\":\"white\",\"ticks\":\"\"},\"bgcolor\":\"#E5ECF6\",\"radialaxis\":{\"gridcolor\":\"white\",\"linecolor\":\"white\",\"ticks\":\"\"}},\"scene\":{\"xaxis\":{\"backgroundcolor\":\"#E5ECF6\",\"gridcolor\":\"white\",\"gridwidth\":2,\"linecolor\":\"white\",\"showbackground\":true,\"ticks\":\"\",\"zerolinecolor\":\"white\"},\"yaxis\":{\"backgroundcolor\":\"#E5ECF6\",\"gridcolor\":\"white\",\"gridwidth\":2,\"linecolor\":\"white\",\"showbackground\":true,\"ticks\":\"\",\"zerolinecolor\":\"white\"},\"zaxis\":{\"backgroundcolor\":\"#E5ECF6\",\"gridcolor\":\"white\",\"gridwidth\":2,\"linecolor\":\"white\",\"showbackground\":true,\"ticks\":\"\",\"zerolinecolor\":\"white\"}},\"shapedefaults\":{\"line\":{\"color\":\"#2a3f5f\"}},\"ternary\":{\"aaxis\":{\"gridcolor\":\"white\",\"linecolor\":\"white\",\"ticks\":\"\"},\"baxis\":{\"gridcolor\":\"white\",\"linecolor\":\"white\",\"ticks\":\"\"},\"bgcolor\":\"#E5ECF6\",\"caxis\":{\"gridcolor\":\"white\",\"linecolor\":\"white\",\"ticks\":\"\"}},\"title\":{\"x\":0.05},\"xaxis\":{\"automargin\":true,\"gridcolor\":\"white\",\"linecolor\":\"white\",\"ticks\":\"\",\"title\":{\"standoff\":15},\"zerolinecolor\":\"white\",\"zerolinewidth\":2},\"yaxis\":{\"automargin\":true,\"gridcolor\":\"white\",\"linecolor\":\"white\",\"ticks\":\"\",\"title\":{\"standoff\":15},\"zerolinecolor\":\"white\",\"zerolinewidth\":2}}},\"title\":{\"text\":\"Optimization History Plot\"},\"xaxis\":{\"title\":{\"text\":\"#Trials\"}},\"yaxis\":{\"title\":{\"text\":\"Objective Value\"}}},                        {\"responsive\": true}                    ).then(function(){\n",
       "                            \n",
       "var gd = document.getElementById('b908e1e4-bfef-4fe7-9d66-0cdf3fc78b1e');\n",
       "var x = new MutationObserver(function (mutations, observer) {{\n",
       "        var display = window.getComputedStyle(gd).display;\n",
       "        if (!display || display === 'none') {{\n",
       "            console.log([gd, 'removed!']);\n",
       "            Plotly.purge(gd);\n",
       "            observer.disconnect();\n",
       "        }}\n",
       "}});\n",
       "\n",
       "// Listen for the removal of the full notebook cells\n",
       "var notebookContainer = gd.closest('#notebook-container');\n",
       "if (notebookContainer) {{\n",
       "    x.observe(notebookContainer, {childList: true});\n",
       "}}\n",
       "\n",
       "// Listen for the clearing of the current output cell\n",
       "var outputEl = gd.closest('.output');\n",
       "if (outputEl) {{\n",
       "    x.observe(outputEl, {childList: true});\n",
       "}}\n",
       "\n",
       "                        })                };                });            </script>        </div>"
      ]
     },
     "metadata": {},
     "output_type": "display_data"
    }
   ],
   "source": [
    "plot_optimization_history(study)"
   ]
  },
  {
   "cell_type": "code",
   "execution_count": 61,
   "id": "d257fb7a",
   "metadata": {},
   "outputs": [
    {
     "data": {
      "application/vnd.plotly.v1+json": {
       "config": {
        "plotlyServerURL": "https://plot.ly"
       },
       "data": [
        {
         "dimensions": [
          {
           "label": "Objective Value",
           "range": [
            0.3536165327210103,
            0.75
           ],
           "values": [
            0.4868913857677903,
            0.35469107551487417,
            0.46460980036297644,
            0.35402298850574715,
            0.35402298850574715,
            0.44919786096256675,
            0.3536165327210103,
            0.4673684210526316,
            0.5069306930693069,
            0.4395973154362417,
            0.4769230769230769,
            0.485981308411215,
            0.44328097731239086,
            0.4884615384615384,
            0.5316455696202532,
            0.5061728395061729,
            0.4470989761092149,
            0.45090909090909087,
            0.4491228070175438,
            0.5617021276595745,
            0.4971537001897534,
            0.6838046272493572,
            0.6513994910941475,
            0.5372460496613994,
            0.6407766990291262,
            0.6336633663366336,
            0.43327556325823224,
            0.6736292428198434,
            0.46715328467153283,
            0.5049701789264414,
            0.5279999999999999,
            0.5938242280285035,
            0.6649874055415617,
            0.6113744075829384,
            0.35402298850574715,
            0.6139088729016786,
            0.45309734513274347,
            0.35402298850574715,
            0.6979166666666666,
            0.35402298850574715,
            0.5503080082135524,
            0.6916890080428953,
            0.6991869918699186,
            0.6861702127659576,
            0.6784810126582278,
            0.6258823529411764,
            0.6423357664233577,
            0.49149338374291124,
            0.5019455252918288,
            0.5279999999999999,
            0.5009633911368017,
            0.7182320441988951,
            0.66,
            0.7074468085106382,
            0.715846994535519,
            0.5814977973568283,
            0.6736292428198434,
            0.5215686274509804,
            0.600896860986547,
            0.35402298850574715,
            0.5117187499999999,
            0.7142857142857143,
            0.75,
            0.5250501002004008,
            0.72,
            0.72,
            0.6467661691542289,
            0.5227722772277228,
            0.5424430641821947,
            0.7380281690140845,
            0.600451467268623,
            0.7277628032345013,
            0.7258064516129032,
            0.7247956403269754,
            0.7046632124352332,
            0.7103825136612023,
            0.7071240105540897,
            0.6282973621103117,
            0.5165048543689321,
            0.6858638743455499,
            0.7317073170731707,
            0.6502463054187192,
            0.7318435754189945,
            0.7096774193548387,
            0.7005347593582888,
            0.7238605898123324,
            0.5088062622309197,
            0.7197802197802198,
            0.6770025839793282,
            0.7100271002710027,
            0.5990990990990991,
            0.7208672086720868,
            0.6502463054187192,
            0.7247191011235955,
            0.7272727272727272,
            0.6976744186046511,
            0.6403940886699507,
            0.5745614035087719,
            0.48496240601503765,
            0.7338935574229692
           ]
          },
          {
           "label": "alpha",
           "range": [
            -7.808737693796083,
            -0.025691062583101193
           ],
           "ticktext": [
            "1.55e-08",
            "1e-07",
            "1e-06",
            "1e-05",
            "0.0001",
            "0.001",
            "0.01",
            "0.1",
            "0.943"
           ],
           "tickvals": [
            -7.808737693796083,
            -7,
            -6,
            -5,
            -4,
            -3,
            -2,
            -1,
            -0.025691062583101193
           ],
           "values": [
            -7.808737693796083,
            -3.0551311669059786,
            -5.846900131338232,
            -4.925875144644982,
            -3.6766093629412997,
            -0.652579896735276,
            -2.1597939831148247,
            -0.11727394207484512,
            -3.1560748715845186,
            -5.7101464745619674,
            -1.814390864679259,
            -7.151652748013776,
            -7.478328411069194,
            -4.462279579858725,
            -4.298070393085663,
            -2.8105470042595906,
            -1.337159351546476,
            -3.6929523886694398,
            -5.62393748214082,
            -4.558477312627712,
            -6.560140585984651,
            -4.527001256650607,
            -4.878358718118711,
            -4.770137242831267,
            -5.216854659759287,
            -6.164962377022507,
            -5.34659133812814,
            -6.5961262514418,
            -6.700201770872074,
            -7.7595712203062,
            -6.405309053084012,
            -5.421796355239406,
            -5.110419581193294,
            -3.8192314555871003,
            -7.097606059162662,
            -4.997453005098032,
            -6.011782879656079,
            -4.120835515292338,
            -3.3454683988903544,
            -3.4144309917418427,
            -3.297368146582163,
            -2.8075187359796567,
            -2.368922672222888,
            -2.579131136378014,
            -2.625858436282474,
            -2.4071432625537725,
            -1.7875541831806812,
            -1.1992476411720365,
            -2.0115106507360387,
            -2.9021185618830336,
            -2.307708698667276,
            -2.663931710916049,
            -3.417305627940161,
            -1.3040443834614892,
            -0.06285243024655628,
            -0.48759649622067985,
            -1.1619862487629264,
            -0.22223772985092016,
            -1.5700988541749963,
            -3.0471702694769904,
            -0.7407624998790225,
            -2.55497147913633,
            -2.0241224052356053,
            -2.053303822368525,
            -1.6526753747425103,
            -0.8780427473223398,
            -0.7411838559538843,
            -0.9669507009856017,
            -0.025691062583101193,
            -1.7040981250688902,
            -1.5936150816013992,
            -1.4052823843940456,
            -1.5754988013563114,
            -1.5667115458921146,
            -1.7012385661874494,
            -1.0194923520093555,
            -1.44989919066374,
            -2.0430980474358122,
            -0.9460258629687601,
            -0.4134280722907845,
            -1.8361863258568936,
            -1.928552258800721,
            -2.1839246970471597,
            -2.216102836757856,
            -1.4945861886219503,
            -1.809572753854127,
            -1.8315792611901553,
            -1.3764021412920275,
            -1.6998936548143933,
            -1.236285610992067,
            -2.1586288878642645,
            -1.8608515615784909,
            -1.8793844517681417,
            -1.6620248348379663,
            -1.1392740198967266,
            -1.0554234416334285,
            -1.389264621029222,
            -2.441340143078448,
            -2.1188633865840996,
            -1.1162388713275875
           ]
          },
          {
           "label": "booster",
           "range": [
            0,
            2
           ],
           "ticktext": [
            "dart",
            "gblinear",
            "gbtree"
           ],
           "tickvals": [
            0,
            1,
            2
           ],
           "values": [
            0,
            1,
            2,
            1,
            1,
            0,
            1,
            2,
            0,
            2,
            0,
            0,
            0,
            0,
            0,
            0,
            0,
            0,
            0,
            0,
            2,
            0,
            0,
            0,
            0,
            0,
            0,
            0,
            0,
            0,
            0,
            0,
            0,
            0,
            1,
            0,
            2,
            1,
            0,
            1,
            0,
            0,
            0,
            0,
            0,
            2,
            0,
            0,
            0,
            0,
            0,
            0,
            0,
            0,
            0,
            0,
            0,
            2,
            0,
            1,
            0,
            0,
            0,
            0,
            0,
            0,
            0,
            0,
            0,
            0,
            0,
            0,
            0,
            0,
            0,
            0,
            0,
            0,
            0,
            0,
            2,
            2,
            2,
            2,
            2,
            2,
            2,
            2,
            2,
            2,
            2,
            2,
            2,
            2,
            2,
            2,
            2,
            2,
            2,
            2
           ]
          },
          {
           "label": "colsample_bytree",
           "range": [
            0.2341835360760368,
            0.9996753608073563
           ],
           "values": [
            0.7074439398372714,
            0.3356987638720009,
            0.9088175042425626,
            0.4150978558756167,
            0.6495138482003127,
            0.38726517822516104,
            0.5450736931952971,
            0.9780856838192651,
            0.7001688254840981,
            0.34728228720092763,
            0.8228729070386176,
            0.693356647738602,
            0.7598106222889883,
            0.5641093360577615,
            0.5372705652973254,
            0.4922143054410928,
            0.2341835360760368,
            0.8698405593985821,
            0.6159660933299752,
            0.4909613136622061,
            0.4770575744586593,
            0.49958528890048026,
            0.4734358031871853,
            0.24536647982051263,
            0.4570230930001963,
            0.4408520931882983,
            0.30117423991716963,
            0.5960838333600401,
            0.6077935100129853,
            0.6626014157617832,
            0.7583473409744018,
            0.4611489236303286,
            0.5343690202610041,
            0.5732508872951623,
            0.5272838287428068,
            0.40800378412241955,
            0.36704242502746875,
            0.29202546398319845,
            0.640936409952955,
            0.6385898038058511,
            0.7371924850703259,
            0.5828294707403503,
            0.5860244852256163,
            0.6705838696491098,
            0.669596368641489,
            0.8095206176217326,
            0.711716411765808,
            0.6299858071676431,
            0.5713716159121778,
            0.5134222671576972,
            0.687886556176618,
            0.6662335660022916,
            0.5773504183211287,
            0.6359582837797733,
            0.8012262479880393,
            0.9312800729664146,
            0.799799136922497,
            0.7143656424155644,
            0.7796104897292817,
            0.6031623241197828,
            0.6370438383197767,
            0.8497290370941013,
            0.8793099088911032,
            0.8498414290191602,
            0.9117088296704091,
            0.9882835102379555,
            0.9658108144821784,
            0.8989532150972687,
            0.9996753608073563,
            0.8563277839951136,
            0.8471938878432893,
            0.8997032487455272,
            0.8936107953202405,
            0.9322843592434364,
            0.9513072038613059,
            0.8823900823100489,
            0.9175753163151603,
            0.94031630447835,
            0.9980946303383386,
            0.899363099425249,
            0.9769578632436203,
            0.9799728945495987,
            0.8743918168814058,
            0.8812618911477277,
            0.9144758207022375,
            0.9769326669290807,
            0.9605345786577416,
            0.9335334517575545,
            0.831387657256271,
            0.9881780864802797,
            0.8707236631425974,
            0.8887694570274041,
            0.9012420083345521,
            0.9227621907052281,
            0.876329754280102,
            0.8593161903455923,
            0.8334304480661051,
            0.9442059951854125,
            0.9241063276660011,
            0.970410372308046
           ]
          },
          {
           "label": "eta",
           "range": [
            -7.865913379433191,
            -0.0006935599040794858
           ],
           "ticktext": [
            "1.36e-08",
            "1e-07",
            "1e-06",
            "1e-05",
            "0.0001",
            "0.001",
            "0.01",
            "0.1",
            "0.998"
           ],
           "tickvals": [
            -7.865913379433191,
            -7,
            -6,
            -5,
            -4,
            -3,
            -2,
            -1,
            -0.0006935599040794858
           ],
           "values": [
            -2.4111574934531728,
            -5.298366104900675,
            -3.988898589559752,
            -0.051094661348934825,
            -0.6720282613467651,
            -6.068123202937187,
            -0.024987852497022144,
            -2.4029490964402296,
            -2.000939802015094,
            -1.7899813016018966,
            -0.9907274212182806,
            -0.5718065494457467,
            -1.0172462533277997,
            -7.790147608491628,
            -3.2075797868408915,
            -1.2042637584493536,
            -1.3217413503358821,
            -0.2035406938513306,
            -0.05579441763076323,
            -0.024237909056005227,
            -0.1791520239940625,
            -0.08566862988909694,
            -2.9114500718052687,
            -0.047923884332402494,
            -5.124856412782826,
            -7.865913379433191,
            -1.5572523688041615,
            -0.5174468699684784,
            -0.09162177164269386,
            -0.7769181084521222,
            -0.08692678270788287,
            -2.3065901212887177,
            -0.6045983527036077,
            -1.561228294709962,
            -0.4923961162222171,
            -0.4978359552236346,
            -0.6182701043441535,
            -0.5863116875942597,
            -0.8898108720031754,
            -0.49262184300675016,
            -2.9128256512405573,
            -2.0299622412137315,
            -1.3429230951757039,
            -3.8822826329286593,
            -0.45620940284247724,
            -0.8582572989759014,
            -0.36891301605280524,
            -0.4214023767494377,
            -1.130097323281705,
            -0.40399608788869273,
            -1.5571497354905994,
            -1.0374002687060058,
            -1.8658939125667133,
            -0.44272661142609426,
            -0.41369814123387133,
            -6.539267825292008,
            -0.34910822491528426,
            -0.3698988297255784,
            -0.2781958202244601,
            -1.197543396355708,
            -0.9661228409064461,
            -0.263874587409473,
            -0.8291509167864167,
            -0.20102783693146645,
            -0.01977280749484846,
            -0.20428597352712952,
            -0.09554164246174508,
            -0.01852897457820263,
            -0.19983753840243063,
            -0.7522616095696797,
            -1.385746037853341,
            -0.25787017349070823,
            -0.04246880683845487,
            -0.7458768243059086,
            -0.2585614374866479,
            -0.037893090814810605,
            -0.026804120615090337,
            -0.0006935599040794858,
            -4.836782163512849,
            -0.21513179610201083,
            -0.6902437405975808,
            -0.009738971219059863,
            -0.2698453464019878,
            -0.011206679639978005,
            -0.6732236723415794,
            -0.03799230274631997,
            -0.013683966865257788,
            -0.1849351742247909,
            -0.5763416430153347,
            -0.9573418562689615,
            -6.750660554486657,
            -0.0060093845273176795
           ]
          },
          {
           "label": "gamma",
           "range": [
            -7.997541796757252,
            -0.010459631291710623
           ],
           "ticktext": [
            "1.01e-08",
            "1e-07",
            "1e-06",
            "1e-05",
            "0.0001",
            "0.001",
            "0.01",
            "0.1",
            "0.976"
           ],
           "tickvals": [
            -7.997541796757252,
            -7,
            -6,
            -5,
            -4,
            -3,
            -2,
            -1,
            -0.010459631291710623
           ],
           "values": [
            -0.1901799943605775,
            -2.0502950887572178,
            -6.038162173433495,
            -0.3883222051373438,
            -0.2206862766841994,
            -3.3826824699303892,
            -6.661455907878914,
            -0.010459631291710623,
            -0.03695769621395125,
            -1.812399335121536,
            -2.095753727195132,
            -2.0754226506410727,
            -4.172022847943972,
            -1.3209831558935285,
            -4.26193601932617,
            -3.088255355283977,
            -3.0308029942592247,
            -4.983244059958661,
            -5.711442165959933,
            -5.389259605723812,
            -7.534423081819185,
            -7.89315283141413,
            -7.988992316121521,
            -5.216928201522996,
            -5.1640300107867345,
            -4.955946414470115,
            -6.632970393360932,
            -7.213273448166976,
            -5.761076985606867,
            -5.83921704145259,
            -4.67627211815116,
            -5.797028817094767,
            -6.509149178984025,
            -6.4865827309687285,
            -5.4979243950188765,
            -6.2352601759864115,
            -6.282834758414316,
            -6.34722002696254,
            -7.102417261352621,
            -6.98747673810184,
            -6.161126782976703,
            -4.770207571047375,
            -5.515673832876278,
            -6.166609600257444,
            -6.254363714824269,
            -6.824886219403587,
            -7.401867798056367,
            -7.632669002380237,
            -7.509557035930377,
            -7.643707949103857,
            -6.796488915932929,
            -7.286796080763956,
            -6.533348133065062,
            -6.120602891647324,
            -6.006008547966076,
            -5.965745520607362,
            -7.809364516467991,
            -7.812963488675669,
            -7.909744402346107,
            -7.43092720153878,
            -7.832477403820981,
            -7.064262190375924,
            -6.874298364599245,
            -7.702607690992624,
            -7.683491345288696,
            -7.659142992351631,
            -7.768249402582009,
            -7.9831525422538325,
            -7.141859707682828,
            -7.2064327149206235,
            -3.638534094072804,
            -7.97699485923352,
            -7.715637429800802,
            -7.6969265195607495,
            -7.980995091764217,
            -7.997541796757252,
            -7.423845883218906,
            -7.0167704914827755,
            -6.994746081594689,
            -7.300853412294997,
            -6.709211036894924,
            -7.056225593287774,
            -7.615339255723791,
            -7.792551726757661,
            -7.519345402017481,
            -7.800736698366786,
            -7.358697579072255,
            -7.282495057161944,
            -6.918242568797344,
            -0.7726529394797867,
            -7.548436456368325,
            -2.6478036373889138
           ]
          },
          {
           "label": "grow_policy",
           "range": [
            0,
            1
           ],
           "ticktext": [
            "depthwise",
            "lossguide"
           ],
           "tickvals": [
            0,
            1
           ],
           "values": [
            0,
            0,
            0,
            1,
            0,
            1,
            0,
            0,
            0,
            0,
            0,
            0,
            0,
            1,
            0,
            0,
            0,
            0,
            0,
            0,
            0,
            0,
            1,
            0,
            0,
            0,
            1,
            0,
            0,
            0,
            0,
            0,
            0,
            0,
            0,
            0,
            0,
            0,
            0,
            0,
            0,
            0,
            0,
            1,
            0,
            0,
            0,
            0,
            0,
            0,
            0,
            0,
            0,
            0,
            0,
            0,
            0,
            0,
            0,
            0,
            0,
            1,
            1,
            1,
            1,
            1,
            1,
            1,
            1,
            1,
            1,
            1,
            1,
            1,
            1,
            1,
            1,
            1,
            1,
            1,
            1,
            1,
            1,
            1,
            1,
            1,
            1,
            1,
            1,
            1,
            1,
            1
           ]
          },
          {
           "label": "lambda",
           "range": [
            -7.998980154516554,
            -0.08725645390769016
           ],
           "ticktext": [
            "1e-08",
            "1e-07",
            "1e-06",
            "1e-05",
            "0.0001",
            "0.001",
            "0.01",
            "0.1",
            "0.818"
           ],
           "tickvals": [
            -7.998980154516554,
            -7,
            -6,
            -5,
            -4,
            -3,
            -2,
            -1,
            -0.08725645390769016
           ],
           "values": [
            -4.400920279886358,
            -0.4385532899952057,
            -7.9477653258661505,
            -2.799599416392361,
            -3.5082162560567047,
            -5.9145405494342995,
            -5.010718902436969,
            -7.910745688609104,
            -3.3494209520051834,
            -5.082777659602154,
            -0.9126132689285021,
            -2.1730900407648583,
            -4.283500038187944,
            -6.471976876402261,
            -6.806003206016934,
            -6.634277247165498,
            -1.7340279617487029,
            -3.2785984957067984,
            -7.024807811261493,
            -5.4675944152366105,
            -5.589003410370088,
            -7.353701459764142,
            -7.21409495748269,
            -7.488203068933002,
            -5.939284898887072,
            -7.3007818220515714,
            -6.249909003274385,
            -7.730906421967807,
            -7.971912699330966,
            -7.587526751202525,
            -6.945295135830817,
            -6.089640191644417,
            -7.40715600947885,
            -7.9603293500432,
            -7.287904623304275,
            -7.635239451218498,
            -7.9831226865283496,
            -7.1837502490032135,
            -6.644803301357723,
            -4.983463592606062,
            -6.60793936895165,
            -7.628221183836179,
            -7.609214585449725,
            -7.744401659186892,
            -7.962014413644576,
            -6.476369178854563,
            -6.782337461397094,
            -7.713436562484505,
            -6.93525297406471,
            -5.6864261018959965,
            -6.3745823072657295,
            -7.946338544041709,
            -7.957655224002824,
            -7.624401017106524,
            -7.66734747044411,
            -0.08725645390769016,
            -7.009425199123177,
            -3.7660301221464128,
            -4.546210846579973,
            -7.612074908435381,
            -2.7194102105951257,
            -7.710626278638518,
            -7.1263000337842,
            -7.134983705774666,
            -6.730301643116414,
            -7.998980154516554,
            -7.399987849921639,
            -7.971440109024168,
            -6.794427499854059,
            -7.249490021726497,
            -6.257205931471692,
            -7.377285560353322,
            -7.124486800096528,
            -7.13385340482325,
            -7.161653259909201,
            -5.986741605154333,
            -6.903347088886229,
            -7.351740172177538,
            -6.666455506312852,
            -6.195982844526953,
            -6.490882132937432,
            -6.502712936846762,
            -7.075747938169565,
            -7.071688357192038,
            -6.802166891431332,
            -7.278811632157582,
            -7.411826589381994,
            -7.192754369103592,
            -5.776746076089295,
            -7.477630286179034,
            -6.404184253301554,
            -5.379869437012306,
            -5.1595304502310215,
            -6.971493991689926,
            -6.960269071790167,
            -6.990471507660564,
            -6.546804580455741,
            -7.275953123286245,
            -6.887464035984233,
            -7.07585884730287
           ]
          },
          {
           "label": "max_depth",
           "range": [
            3,
            11
           ],
           "values": [
            9,
            6,
            10,
            5,
            5,
            9,
            3,
            8,
            4,
            11,
            11,
            7,
            5,
            3,
            6,
            11,
            11,
            11,
            11,
            10,
            10,
            10,
            9,
            10,
            8,
            11,
            10,
            10,
            9,
            9,
            9,
            8,
            11,
            10,
            11,
            11,
            11,
            11,
            11,
            11,
            10,
            11,
            11,
            10,
            11,
            11,
            11,
            11,
            10,
            11,
            10,
            11,
            11,
            11,
            11,
            11,
            10,
            10,
            9,
            10,
            7,
            10,
            10,
            10,
            10,
            9,
            9,
            8,
            9,
            10,
            8,
            9,
            10,
            10,
            10,
            10,
            9,
            10,
            10,
            9,
            10,
            10,
            6,
            10,
            10,
            9,
            9,
            8,
            9,
            9,
            9,
            8
           ]
          },
          {
           "label": "min_child_weight",
           "range": [
            2,
            10
           ],
           "values": [
            3,
            7,
            7,
            10,
            2,
            2,
            4,
            2,
            4,
            4,
            5,
            6,
            9,
            5,
            8,
            2,
            5,
            2,
            3,
            3,
            3,
            2,
            3,
            3,
            4,
            3,
            3,
            3,
            2,
            2,
            2,
            4,
            2,
            2,
            3,
            2,
            3,
            2,
            3,
            4,
            2,
            3,
            4,
            2,
            2,
            2,
            2,
            3,
            2,
            6,
            7,
            3,
            4,
            3,
            2,
            2,
            2,
            2,
            8,
            10,
            2,
            3,
            5,
            3,
            4,
            4,
            5,
            4,
            4,
            4,
            3,
            5,
            3,
            3,
            3,
            3,
            4,
            3,
            3,
            4,
            3,
            3,
            4,
            3,
            3,
            3,
            3,
            3,
            4,
            3,
            6,
            3
           ]
          },
          {
           "label": "normalize_type",
           "range": [
            0,
            1
           ],
           "ticktext": [
            "forest",
            "tree"
           ],
           "tickvals": [
            0,
            1
           ],
           "values": [
            0,
            1,
            0,
            0,
            0,
            0,
            0,
            0,
            0,
            1,
            0,
            0,
            0,
            0,
            0,
            0,
            0,
            1,
            0,
            0,
            0,
            0,
            1,
            0,
            0,
            0,
            0,
            0,
            0,
            0,
            0,
            0,
            0,
            0,
            0,
            0,
            1,
            0,
            0,
            0,
            0,
            0,
            0,
            0,
            0,
            0,
            0,
            0,
            0,
            0,
            0,
            0,
            0,
            0,
            0,
            1,
            0,
            0,
            0,
            0,
            0,
            0,
            0,
            0,
            0
           ]
          },
          {
           "label": "rate_drop",
           "range": [
            -7.998411749718335,
            -0.3725618196219644
           ],
           "ticktext": [
            "1e-08",
            "1e-07",
            "1e-06",
            "1e-05",
            "0.0001",
            "0.001",
            "0.01",
            "0.1",
            "0.424"
           ],
           "tickvals": [
            -7.998411749718335,
            -7,
            -6,
            -5,
            -4,
            -3,
            -2,
            -1,
            -0.3725618196219644
           ],
           "values": [
            -0.8922002144080396,
            -4.651360368102353,
            -3.3312753057199673,
            -1.7132623800335147,
            -0.3725618196219644,
            -2.66167068314154,
            -7.9001382996865654,
            -7.998411749718335,
            -5.432685686603255,
            -6.916036204251089,
            -3.4812160059356247,
            -6.077617223093259,
            -3.7326881573862507,
            -3.4711083178583273,
            -4.330164594975466,
            -4.542458163813668,
            -2.463819002999017,
            -2.2953107428200155,
            -1.8320373094544484,
            -2.873520211002615,
            -4.520401666291477,
            -3.0009672787149158,
            -5.467725231041022,
            -2.342472673007825,
            -4.032146321439113,
            -4.089692045964847,
            -4.075444021792765,
            -5.156133668307613,
            -5.663205180080489,
            -4.982976796591386,
            -5.199165753123255,
            -5.034032862520407,
            -5.173739536832524,
            -6.177045856889357,
            -4.935671589741079,
            -6.528067659217731,
            -4.883130702493984,
            -5.873745079772797,
            -5.107694078378255,
            -5.180827093618942,
            -4.807141658015447,
            -4.851651172080608,
            -6.9351275147925255,
            -4.651083056050781,
            -5.345525223971411,
            -5.7401341054153034,
            -4.951101375114166,
            -4.889656644759302,
            -4.713253103519826,
            -4.2858511472708,
            -4.302241739739129,
            -3.727763846730515,
            -4.455833263873691,
            -4.330796202837332,
            -3.7245410677659727,
            -3.7374179695765646,
            -3.279759814999464,
            -3.291928250213263,
            -3.3618467047649205,
            -3.2942997934284537,
            -3.2472545374913726,
            -2.6688301741512857,
            -3.7189645501010955,
            -3.103893834389924,
            -3.444321066617726
           ]
          },
          {
           "label": "sample_type",
           "range": [
            0,
            1
           ],
           "ticktext": [
            "uniform",
            "weighted"
           ],
           "tickvals": [
            0,
            1
           ],
           "values": [
            0,
            0,
            0,
            1,
            0,
            0,
            0,
            0,
            0,
            1,
            0,
            0,
            0,
            0,
            0,
            0,
            1,
            1,
            1,
            1,
            1,
            1,
            1,
            1,
            1,
            1,
            1,
            1,
            1,
            1,
            1,
            1,
            1,
            1,
            1,
            1,
            1,
            1,
            1,
            1,
            1,
            1,
            1,
            1,
            1,
            1,
            1,
            1,
            1,
            1,
            1,
            1,
            1,
            1,
            1,
            1,
            1,
            1,
            1,
            1,
            1,
            1,
            1,
            1,
            1
           ]
          },
          {
           "label": "skip_drop",
           "range": [
            -7.911112266444622,
            -0.07459421168035268
           ],
           "ticktext": [
            "1.23e-08",
            "1e-07",
            "1e-06",
            "1e-05",
            "0.0001",
            "0.001",
            "0.01",
            "0.1",
            "0.842"
           ],
           "tickvals": [
            -7.911112266444622,
            -7,
            -6,
            -5,
            -4,
            -3,
            -2,
            -1,
            -0.07459421168035268
           ],
           "values": [
            -3.284038911923432,
            -6.875345566856795,
            -2.094486754367784,
            -0.30655155965305575,
            -2.7171623507688167,
            -3.17558999422859,
            -0.9768180621036853,
            -0.17767883631458908,
            -0.07459421168035268,
            -1.6250201089188694,
            -5.333053842611928,
            -1.9267641542231655,
            -4.717535080802711,
            -4.9141325431062715,
            -4.889002422552175,
            -4.92560652371274,
            -4.859598240673669,
            -6.5355044093357835,
            -5.8864786422445885,
            -7.7612269467137684,
            -3.986623270134309,
            -7.647521452769707,
            -7.911112266444622,
            -4.0763138913963255,
            -5.6727239653533825,
            -5.830508121774319,
            -7.004400287455638,
            -5.965815954847451,
            -6.191542382977363,
            -5.493170575586944,
            -5.450120959384873,
            -7.256475410770456,
            -4.147880164027323,
            -7.156752149442442,
            -5.327162759093675,
            -6.4513205309483865,
            -4.4670897135113075,
            -5.403664574227596,
            -3.7964257747592,
            -3.6605909328266732,
            -3.1082859919353623,
            -2.8893958424350434,
            -2.825450976231119,
            -3.096171391862313,
            -2.3724157765330354,
            -3.497889066633889,
            -2.473060513752822,
            -2.4768296639231906,
            -2.4374175713074178,
            -1.6093697778828537,
            -1.2852386938185831,
            -1.1999697645342684,
            -1.625145923772216,
            -0.6661292443954306,
            -1.8282036861834676,
            -1.9231336594966455,
            -2.792744789004523,
            -2.2951859651503894,
            -1.2035958393170278,
            -1.3758727255964283,
            -0.7118316317169812,
            -1.9472727433532238,
            -1.5741901935442433,
            -2.1368658595498333,
            -1.0963287130764647
           ]
          },
          {
           "label": "subsample",
           "range": [
            0.20156070505994578,
            0.9998822052552396
           ],
           "values": [
            0.8145310443406415,
            0.8224830473747724,
            0.2576283838288645,
            0.7243357474400718,
            0.9435764087572169,
            0.23683882143390875,
            0.8377580202488331,
            0.3748124091209272,
            0.375150173663155,
            0.581200845465583,
            0.4573074412182344,
            0.6228372706728075,
            0.9980975438109814,
            0.4159168583767665,
            0.35993218480246997,
            0.31460812535736815,
            0.5221195983549641,
            0.20156070505994578,
            0.33823259160307817,
            0.4928977257259409,
            0.4872167514025374,
            0.5856482038902189,
            0.653831018105427,
            0.6669235376757843,
            0.5593185856624547,
            0.7165535130510401,
            0.5636045813171517,
            0.6474369322819976,
            0.6515302362975496,
            0.7585127148533303,
            0.7697682740840553,
            0.5490479047973404,
            0.6133485917752196,
            0.6776407686883408,
            0.8604798022190169,
            0.6288700475744496,
            0.7038682163786911,
            0.6043606329339538,
            0.7620452594155005,
            0.7626701485379925,
            0.885542936517029,
            0.7936563878273545,
            0.7986095687864516,
            0.7994166025400368,
            0.9123913076296186,
            0.8066087039680698,
            0.9964101321123577,
            0.9579249371147776,
            0.8309589620936825,
            0.7990372426708638,
            0.8752889978114174,
            0.9049115264774965,
            0.9094546918603507,
            0.8407503059171609,
            0.9596258882644154,
            0.9490505795858559,
            0.8507938679198694,
            0.9754629881139426,
            0.916760868528386,
            0.8923153368196777,
            0.7376960614028905,
            0.7973448684271793,
            0.8353668146424433,
            0.8404725666503247,
            0.9380791709607399,
            0.940925770743056,
            0.9314855744152389,
            0.9950383691520547,
            0.9749774933063852,
            0.8671197959683101,
            0.9350801120244775,
            0.8731222649788023,
            0.8708849723765965,
            0.8717803333012216,
            0.8725145562073697,
            0.8963212154536084,
            0.8629243255349597,
            0.8228557516373909,
            0.918172336276684,
            0.8931254957524758,
            0.9791204515014515,
            0.9757191619634681,
            0.9289079805880992,
            0.937072343906262,
            0.8671484538289743,
            0.9992181433267975,
            0.9960892353283336,
            0.9640582787966764,
            0.8202584458561003,
            0.8817098443224543,
            0.8525688927218468,
            0.9304375702609066,
            0.9998822052552396,
            0.9228428945870794,
            0.9170404913744677,
            0.905680217775356,
            0.8807324498404656,
            0.9803028639196213,
            0.7794625561713295,
            0.9204585224251206
           ]
          }
         ],
         "labelangle": 30,
         "labelside": "bottom",
         "line": {
          "color": [
           0.4868913857677903,
           0.35469107551487417,
           0.46460980036297644,
           0.35402298850574715,
           0.35402298850574715,
           0.44919786096256675,
           0.3536165327210103,
           0.4673684210526316,
           0.5069306930693069,
           0.4395973154362417,
           0.4769230769230769,
           0.485981308411215,
           0.44328097731239086,
           0.4884615384615384,
           0.5316455696202532,
           0.5061728395061729,
           0.4470989761092149,
           0.45090909090909087,
           0.4491228070175438,
           0.5617021276595745,
           0.4971537001897534,
           0.6838046272493572,
           0.6513994910941475,
           0.5372460496613994,
           0.6407766990291262,
           0.6336633663366336,
           0.43327556325823224,
           0.6736292428198434,
           0.46715328467153283,
           0.5049701789264414,
           0.5279999999999999,
           0.5938242280285035,
           0.6649874055415617,
           0.6113744075829384,
           0.35402298850574715,
           0.6139088729016786,
           0.45309734513274347,
           0.35402298850574715,
           0.6979166666666666,
           0.35402298850574715,
           0.5503080082135524,
           0.6916890080428953,
           0.6991869918699186,
           0.6861702127659576,
           0.6784810126582278,
           0.6258823529411764,
           0.6423357664233577,
           0.49149338374291124,
           0.5019455252918288,
           0.5279999999999999,
           0.5009633911368017,
           0.7182320441988951,
           0.66,
           0.7074468085106382,
           0.715846994535519,
           0.5814977973568283,
           0.6736292428198434,
           0.5215686274509804,
           0.600896860986547,
           0.35402298850574715,
           0.5117187499999999,
           0.7142857142857143,
           0.75,
           0.5250501002004008,
           0.72,
           0.72,
           0.6467661691542289,
           0.5227722772277228,
           0.5424430641821947,
           0.7380281690140845,
           0.600451467268623,
           0.7277628032345013,
           0.7258064516129032,
           0.7247956403269754,
           0.7046632124352332,
           0.7103825136612023,
           0.7071240105540897,
           0.6282973621103117,
           0.5165048543689321,
           0.6858638743455499,
           0.7317073170731707,
           0.6502463054187192,
           0.7318435754189945,
           0.7096774193548387,
           0.7005347593582888,
           0.7238605898123324,
           0.5088062622309197,
           0.7197802197802198,
           0.6770025839793282,
           0.7100271002710027,
           0.5990990990990991,
           0.7208672086720868,
           0.6502463054187192,
           0.7247191011235955,
           0.7272727272727272,
           0.6976744186046511,
           0.6403940886699507,
           0.5745614035087719,
           0.48496240601503765,
           0.7338935574229692
          ],
          "colorbar": {
           "title": {
            "text": "Objective Value"
           }
          },
          "colorscale": [
           [
            0,
            "rgb(247,251,255)"
           ],
           [
            0.125,
            "rgb(222,235,247)"
           ],
           [
            0.25,
            "rgb(198,219,239)"
           ],
           [
            0.375,
            "rgb(158,202,225)"
           ],
           [
            0.5,
            "rgb(107,174,214)"
           ],
           [
            0.625,
            "rgb(66,146,198)"
           ],
           [
            0.75,
            "rgb(33,113,181)"
           ],
           [
            0.875,
            "rgb(8,81,156)"
           ],
           [
            1,
            "rgb(8,48,107)"
           ]
          ],
          "reversescale": false,
          "showscale": true
         },
         "type": "parcoords"
        }
       ],
       "layout": {
        "template": {
         "data": {
          "bar": [
           {
            "error_x": {
             "color": "#2a3f5f"
            },
            "error_y": {
             "color": "#2a3f5f"
            },
            "marker": {
             "line": {
              "color": "#E5ECF6",
              "width": 0.5
             },
             "pattern": {
              "fillmode": "overlay",
              "size": 10,
              "solidity": 0.2
             }
            },
            "type": "bar"
           }
          ],
          "barpolar": [
           {
            "marker": {
             "line": {
              "color": "#E5ECF6",
              "width": 0.5
             },
             "pattern": {
              "fillmode": "overlay",
              "size": 10,
              "solidity": 0.2
             }
            },
            "type": "barpolar"
           }
          ],
          "carpet": [
           {
            "aaxis": {
             "endlinecolor": "#2a3f5f",
             "gridcolor": "white",
             "linecolor": "white",
             "minorgridcolor": "white",
             "startlinecolor": "#2a3f5f"
            },
            "baxis": {
             "endlinecolor": "#2a3f5f",
             "gridcolor": "white",
             "linecolor": "white",
             "minorgridcolor": "white",
             "startlinecolor": "#2a3f5f"
            },
            "type": "carpet"
           }
          ],
          "choropleth": [
           {
            "colorbar": {
             "outlinewidth": 0,
             "ticks": ""
            },
            "type": "choropleth"
           }
          ],
          "contour": [
           {
            "colorbar": {
             "outlinewidth": 0,
             "ticks": ""
            },
            "colorscale": [
             [
              0,
              "#0d0887"
             ],
             [
              0.1111111111111111,
              "#46039f"
             ],
             [
              0.2222222222222222,
              "#7201a8"
             ],
             [
              0.3333333333333333,
              "#9c179e"
             ],
             [
              0.4444444444444444,
              "#bd3786"
             ],
             [
              0.5555555555555556,
              "#d8576b"
             ],
             [
              0.6666666666666666,
              "#ed7953"
             ],
             [
              0.7777777777777778,
              "#fb9f3a"
             ],
             [
              0.8888888888888888,
              "#fdca26"
             ],
             [
              1,
              "#f0f921"
             ]
            ],
            "type": "contour"
           }
          ],
          "contourcarpet": [
           {
            "colorbar": {
             "outlinewidth": 0,
             "ticks": ""
            },
            "type": "contourcarpet"
           }
          ],
          "heatmap": [
           {
            "colorbar": {
             "outlinewidth": 0,
             "ticks": ""
            },
            "colorscale": [
             [
              0,
              "#0d0887"
             ],
             [
              0.1111111111111111,
              "#46039f"
             ],
             [
              0.2222222222222222,
              "#7201a8"
             ],
             [
              0.3333333333333333,
              "#9c179e"
             ],
             [
              0.4444444444444444,
              "#bd3786"
             ],
             [
              0.5555555555555556,
              "#d8576b"
             ],
             [
              0.6666666666666666,
              "#ed7953"
             ],
             [
              0.7777777777777778,
              "#fb9f3a"
             ],
             [
              0.8888888888888888,
              "#fdca26"
             ],
             [
              1,
              "#f0f921"
             ]
            ],
            "type": "heatmap"
           }
          ],
          "heatmapgl": [
           {
            "colorbar": {
             "outlinewidth": 0,
             "ticks": ""
            },
            "colorscale": [
             [
              0,
              "#0d0887"
             ],
             [
              0.1111111111111111,
              "#46039f"
             ],
             [
              0.2222222222222222,
              "#7201a8"
             ],
             [
              0.3333333333333333,
              "#9c179e"
             ],
             [
              0.4444444444444444,
              "#bd3786"
             ],
             [
              0.5555555555555556,
              "#d8576b"
             ],
             [
              0.6666666666666666,
              "#ed7953"
             ],
             [
              0.7777777777777778,
              "#fb9f3a"
             ],
             [
              0.8888888888888888,
              "#fdca26"
             ],
             [
              1,
              "#f0f921"
             ]
            ],
            "type": "heatmapgl"
           }
          ],
          "histogram": [
           {
            "marker": {
             "pattern": {
              "fillmode": "overlay",
              "size": 10,
              "solidity": 0.2
             }
            },
            "type": "histogram"
           }
          ],
          "histogram2d": [
           {
            "colorbar": {
             "outlinewidth": 0,
             "ticks": ""
            },
            "colorscale": [
             [
              0,
              "#0d0887"
             ],
             [
              0.1111111111111111,
              "#46039f"
             ],
             [
              0.2222222222222222,
              "#7201a8"
             ],
             [
              0.3333333333333333,
              "#9c179e"
             ],
             [
              0.4444444444444444,
              "#bd3786"
             ],
             [
              0.5555555555555556,
              "#d8576b"
             ],
             [
              0.6666666666666666,
              "#ed7953"
             ],
             [
              0.7777777777777778,
              "#fb9f3a"
             ],
             [
              0.8888888888888888,
              "#fdca26"
             ],
             [
              1,
              "#f0f921"
             ]
            ],
            "type": "histogram2d"
           }
          ],
          "histogram2dcontour": [
           {
            "colorbar": {
             "outlinewidth": 0,
             "ticks": ""
            },
            "colorscale": [
             [
              0,
              "#0d0887"
             ],
             [
              0.1111111111111111,
              "#46039f"
             ],
             [
              0.2222222222222222,
              "#7201a8"
             ],
             [
              0.3333333333333333,
              "#9c179e"
             ],
             [
              0.4444444444444444,
              "#bd3786"
             ],
             [
              0.5555555555555556,
              "#d8576b"
             ],
             [
              0.6666666666666666,
              "#ed7953"
             ],
             [
              0.7777777777777778,
              "#fb9f3a"
             ],
             [
              0.8888888888888888,
              "#fdca26"
             ],
             [
              1,
              "#f0f921"
             ]
            ],
            "type": "histogram2dcontour"
           }
          ],
          "mesh3d": [
           {
            "colorbar": {
             "outlinewidth": 0,
             "ticks": ""
            },
            "type": "mesh3d"
           }
          ],
          "parcoords": [
           {
            "line": {
             "colorbar": {
              "outlinewidth": 0,
              "ticks": ""
             }
            },
            "type": "parcoords"
           }
          ],
          "pie": [
           {
            "automargin": true,
            "type": "pie"
           }
          ],
          "scatter": [
           {
            "marker": {
             "colorbar": {
              "outlinewidth": 0,
              "ticks": ""
             }
            },
            "type": "scatter"
           }
          ],
          "scatter3d": [
           {
            "line": {
             "colorbar": {
              "outlinewidth": 0,
              "ticks": ""
             }
            },
            "marker": {
             "colorbar": {
              "outlinewidth": 0,
              "ticks": ""
             }
            },
            "type": "scatter3d"
           }
          ],
          "scattercarpet": [
           {
            "marker": {
             "colorbar": {
              "outlinewidth": 0,
              "ticks": ""
             }
            },
            "type": "scattercarpet"
           }
          ],
          "scattergeo": [
           {
            "marker": {
             "colorbar": {
              "outlinewidth": 0,
              "ticks": ""
             }
            },
            "type": "scattergeo"
           }
          ],
          "scattergl": [
           {
            "marker": {
             "colorbar": {
              "outlinewidth": 0,
              "ticks": ""
             }
            },
            "type": "scattergl"
           }
          ],
          "scattermapbox": [
           {
            "marker": {
             "colorbar": {
              "outlinewidth": 0,
              "ticks": ""
             }
            },
            "type": "scattermapbox"
           }
          ],
          "scatterpolar": [
           {
            "marker": {
             "colorbar": {
              "outlinewidth": 0,
              "ticks": ""
             }
            },
            "type": "scatterpolar"
           }
          ],
          "scatterpolargl": [
           {
            "marker": {
             "colorbar": {
              "outlinewidth": 0,
              "ticks": ""
             }
            },
            "type": "scatterpolargl"
           }
          ],
          "scatterternary": [
           {
            "marker": {
             "colorbar": {
              "outlinewidth": 0,
              "ticks": ""
             }
            },
            "type": "scatterternary"
           }
          ],
          "surface": [
           {
            "colorbar": {
             "outlinewidth": 0,
             "ticks": ""
            },
            "colorscale": [
             [
              0,
              "#0d0887"
             ],
             [
              0.1111111111111111,
              "#46039f"
             ],
             [
              0.2222222222222222,
              "#7201a8"
             ],
             [
              0.3333333333333333,
              "#9c179e"
             ],
             [
              0.4444444444444444,
              "#bd3786"
             ],
             [
              0.5555555555555556,
              "#d8576b"
             ],
             [
              0.6666666666666666,
              "#ed7953"
             ],
             [
              0.7777777777777778,
              "#fb9f3a"
             ],
             [
              0.8888888888888888,
              "#fdca26"
             ],
             [
              1,
              "#f0f921"
             ]
            ],
            "type": "surface"
           }
          ],
          "table": [
           {
            "cells": {
             "fill": {
              "color": "#EBF0F8"
             },
             "line": {
              "color": "white"
             }
            },
            "header": {
             "fill": {
              "color": "#C8D4E3"
             },
             "line": {
              "color": "white"
             }
            },
            "type": "table"
           }
          ]
         },
         "layout": {
          "annotationdefaults": {
           "arrowcolor": "#2a3f5f",
           "arrowhead": 0,
           "arrowwidth": 1
          },
          "autotypenumbers": "strict",
          "coloraxis": {
           "colorbar": {
            "outlinewidth": 0,
            "ticks": ""
           }
          },
          "colorscale": {
           "diverging": [
            [
             0,
             "#8e0152"
            ],
            [
             0.1,
             "#c51b7d"
            ],
            [
             0.2,
             "#de77ae"
            ],
            [
             0.3,
             "#f1b6da"
            ],
            [
             0.4,
             "#fde0ef"
            ],
            [
             0.5,
             "#f7f7f7"
            ],
            [
             0.6,
             "#e6f5d0"
            ],
            [
             0.7,
             "#b8e186"
            ],
            [
             0.8,
             "#7fbc41"
            ],
            [
             0.9,
             "#4d9221"
            ],
            [
             1,
             "#276419"
            ]
           ],
           "sequential": [
            [
             0,
             "#0d0887"
            ],
            [
             0.1111111111111111,
             "#46039f"
            ],
            [
             0.2222222222222222,
             "#7201a8"
            ],
            [
             0.3333333333333333,
             "#9c179e"
            ],
            [
             0.4444444444444444,
             "#bd3786"
            ],
            [
             0.5555555555555556,
             "#d8576b"
            ],
            [
             0.6666666666666666,
             "#ed7953"
            ],
            [
             0.7777777777777778,
             "#fb9f3a"
            ],
            [
             0.8888888888888888,
             "#fdca26"
            ],
            [
             1,
             "#f0f921"
            ]
           ],
           "sequentialminus": [
            [
             0,
             "#0d0887"
            ],
            [
             0.1111111111111111,
             "#46039f"
            ],
            [
             0.2222222222222222,
             "#7201a8"
            ],
            [
             0.3333333333333333,
             "#9c179e"
            ],
            [
             0.4444444444444444,
             "#bd3786"
            ],
            [
             0.5555555555555556,
             "#d8576b"
            ],
            [
             0.6666666666666666,
             "#ed7953"
            ],
            [
             0.7777777777777778,
             "#fb9f3a"
            ],
            [
             0.8888888888888888,
             "#fdca26"
            ],
            [
             1,
             "#f0f921"
            ]
           ]
          },
          "colorway": [
           "#636efa",
           "#EF553B",
           "#00cc96",
           "#ab63fa",
           "#FFA15A",
           "#19d3f3",
           "#FF6692",
           "#B6E880",
           "#FF97FF",
           "#FECB52"
          ],
          "font": {
           "color": "#2a3f5f"
          },
          "geo": {
           "bgcolor": "white",
           "lakecolor": "white",
           "landcolor": "#E5ECF6",
           "showlakes": true,
           "showland": true,
           "subunitcolor": "white"
          },
          "hoverlabel": {
           "align": "left"
          },
          "hovermode": "closest",
          "mapbox": {
           "style": "light"
          },
          "paper_bgcolor": "white",
          "plot_bgcolor": "#E5ECF6",
          "polar": {
           "angularaxis": {
            "gridcolor": "white",
            "linecolor": "white",
            "ticks": ""
           },
           "bgcolor": "#E5ECF6",
           "radialaxis": {
            "gridcolor": "white",
            "linecolor": "white",
            "ticks": ""
           }
          },
          "scene": {
           "xaxis": {
            "backgroundcolor": "#E5ECF6",
            "gridcolor": "white",
            "gridwidth": 2,
            "linecolor": "white",
            "showbackground": true,
            "ticks": "",
            "zerolinecolor": "white"
           },
           "yaxis": {
            "backgroundcolor": "#E5ECF6",
            "gridcolor": "white",
            "gridwidth": 2,
            "linecolor": "white",
            "showbackground": true,
            "ticks": "",
            "zerolinecolor": "white"
           },
           "zaxis": {
            "backgroundcolor": "#E5ECF6",
            "gridcolor": "white",
            "gridwidth": 2,
            "linecolor": "white",
            "showbackground": true,
            "ticks": "",
            "zerolinecolor": "white"
           }
          },
          "shapedefaults": {
           "line": {
            "color": "#2a3f5f"
           }
          },
          "ternary": {
           "aaxis": {
            "gridcolor": "white",
            "linecolor": "white",
            "ticks": ""
           },
           "baxis": {
            "gridcolor": "white",
            "linecolor": "white",
            "ticks": ""
           },
           "bgcolor": "#E5ECF6",
           "caxis": {
            "gridcolor": "white",
            "linecolor": "white",
            "ticks": ""
           }
          },
          "title": {
           "x": 0.05
          },
          "xaxis": {
           "automargin": true,
           "gridcolor": "white",
           "linecolor": "white",
           "ticks": "",
           "title": {
            "standoff": 15
           },
           "zerolinecolor": "white",
           "zerolinewidth": 2
          },
          "yaxis": {
           "automargin": true,
           "gridcolor": "white",
           "linecolor": "white",
           "ticks": "",
           "title": {
            "standoff": 15
           },
           "zerolinecolor": "white",
           "zerolinewidth": 2
          }
         }
        },
        "title": {
         "text": "Parallel Coordinate Plot"
        }
       }
      },
      "text/html": [
       "<div>                            <div id=\"bc3e07f6-6b8a-42af-a442-195ba3555e8d\" class=\"plotly-graph-div\" style=\"height:525px; width:100%;\"></div>            <script type=\"text/javascript\">                require([\"plotly\"], function(Plotly) {                    window.PLOTLYENV=window.PLOTLYENV || {};                                    if (document.getElementById(\"bc3e07f6-6b8a-42af-a442-195ba3555e8d\")) {                    Plotly.newPlot(                        \"bc3e07f6-6b8a-42af-a442-195ba3555e8d\",                        [{\"dimensions\":[{\"label\":\"Objective Value\",\"range\":[0.3536165327210103,0.75],\"values\":[0.4868913857677903,0.35469107551487417,0.46460980036297644,0.35402298850574715,0.35402298850574715,0.44919786096256675,0.3536165327210103,0.4673684210526316,0.5069306930693069,0.4395973154362417,0.4769230769230769,0.485981308411215,0.44328097731239086,0.4884615384615384,0.5316455696202532,0.5061728395061729,0.4470989761092149,0.45090909090909087,0.4491228070175438,0.5617021276595745,0.4971537001897534,0.6838046272493572,0.6513994910941475,0.5372460496613994,0.6407766990291262,0.6336633663366336,0.43327556325823224,0.6736292428198434,0.46715328467153283,0.5049701789264414,0.5279999999999999,0.5938242280285035,0.6649874055415617,0.6113744075829384,0.35402298850574715,0.6139088729016786,0.45309734513274347,0.35402298850574715,0.6979166666666666,0.35402298850574715,0.5503080082135524,0.6916890080428953,0.6991869918699186,0.6861702127659576,0.6784810126582278,0.6258823529411764,0.6423357664233577,0.49149338374291124,0.5019455252918288,0.5279999999999999,0.5009633911368017,0.7182320441988951,0.66,0.7074468085106382,0.715846994535519,0.5814977973568283,0.6736292428198434,0.5215686274509804,0.600896860986547,0.35402298850574715,0.5117187499999999,0.7142857142857143,0.75,0.5250501002004008,0.72,0.72,0.6467661691542289,0.5227722772277228,0.5424430641821947,0.7380281690140845,0.600451467268623,0.7277628032345013,0.7258064516129032,0.7247956403269754,0.7046632124352332,0.7103825136612023,0.7071240105540897,0.6282973621103117,0.5165048543689321,0.6858638743455499,0.7317073170731707,0.6502463054187192,0.7318435754189945,0.7096774193548387,0.7005347593582888,0.7238605898123324,0.5088062622309197,0.7197802197802198,0.6770025839793282,0.7100271002710027,0.5990990990990991,0.7208672086720868,0.6502463054187192,0.7247191011235955,0.7272727272727272,0.6976744186046511,0.6403940886699507,0.5745614035087719,0.48496240601503765,0.7338935574229692]},{\"label\":\"alpha\",\"range\":[-7.808737693796083,-0.025691062583101193],\"ticktext\":[\"1.55e-08\",\"1e-07\",\"1e-06\",\"1e-05\",\"0.0001\",\"0.001\",\"0.01\",\"0.1\",\"0.943\"],\"tickvals\":[-7.808737693796083,-7,-6,-5,-4,-3,-2,-1,-0.025691062583101193],\"values\":[-7.808737693796083,-3.0551311669059786,-5.846900131338232,-4.925875144644982,-3.6766093629412997,-0.652579896735276,-2.1597939831148247,-0.11727394207484512,-3.1560748715845186,-5.7101464745619674,-1.814390864679259,-7.151652748013776,-7.478328411069194,-4.462279579858725,-4.298070393085663,-2.8105470042595906,-1.337159351546476,-3.6929523886694398,-5.62393748214082,-4.558477312627712,-6.560140585984651,-4.527001256650607,-4.878358718118711,-4.770137242831267,-5.216854659759287,-6.164962377022507,-5.34659133812814,-6.5961262514418,-6.700201770872074,-7.7595712203062,-6.405309053084012,-5.421796355239406,-5.110419581193294,-3.8192314555871003,-7.097606059162662,-4.997453005098032,-6.011782879656079,-4.120835515292338,-3.3454683988903544,-3.4144309917418427,-3.297368146582163,-2.8075187359796567,-2.368922672222888,-2.579131136378014,-2.625858436282474,-2.4071432625537725,-1.7875541831806812,-1.1992476411720365,-2.0115106507360387,-2.9021185618830336,-2.307708698667276,-2.663931710916049,-3.417305627940161,-1.3040443834614892,-0.06285243024655628,-0.48759649622067985,-1.1619862487629264,-0.22223772985092016,-1.5700988541749963,-3.0471702694769904,-0.7407624998790225,-2.55497147913633,-2.0241224052356053,-2.053303822368525,-1.6526753747425103,-0.8780427473223398,-0.7411838559538843,-0.9669507009856017,-0.025691062583101193,-1.7040981250688902,-1.5936150816013992,-1.4052823843940456,-1.5754988013563114,-1.5667115458921146,-1.7012385661874494,-1.0194923520093555,-1.44989919066374,-2.0430980474358122,-0.9460258629687601,-0.4134280722907845,-1.8361863258568936,-1.928552258800721,-2.1839246970471597,-2.216102836757856,-1.4945861886219503,-1.809572753854127,-1.8315792611901553,-1.3764021412920275,-1.6998936548143933,-1.236285610992067,-2.1586288878642645,-1.8608515615784909,-1.8793844517681417,-1.6620248348379663,-1.1392740198967266,-1.0554234416334285,-1.389264621029222,-2.441340143078448,-2.1188633865840996,-1.1162388713275875]},{\"label\":\"booster\",\"range\":[0,2],\"ticktext\":[\"dart\",\"gblinear\",\"gbtree\"],\"tickvals\":[0,1,2],\"values\":[0,1,2,1,1,0,1,2,0,2,0,0,0,0,0,0,0,0,0,0,2,0,0,0,0,0,0,0,0,0,0,0,0,0,1,0,2,1,0,1,0,0,0,0,0,2,0,0,0,0,0,0,0,0,0,0,0,2,0,1,0,0,0,0,0,0,0,0,0,0,0,0,0,0,0,0,0,0,0,0,2,2,2,2,2,2,2,2,2,2,2,2,2,2,2,2,2,2,2,2]},{\"label\":\"colsample_bytree\",\"range\":[0.2341835360760368,0.9996753608073563],\"values\":[0.7074439398372714,0.3356987638720009,0.9088175042425626,0.4150978558756167,0.6495138482003127,0.38726517822516104,0.5450736931952971,0.9780856838192651,0.7001688254840981,0.34728228720092763,0.8228729070386176,0.693356647738602,0.7598106222889883,0.5641093360577615,0.5372705652973254,0.4922143054410928,0.2341835360760368,0.8698405593985821,0.6159660933299752,0.4909613136622061,0.4770575744586593,0.49958528890048026,0.4734358031871853,0.24536647982051263,0.4570230930001963,0.4408520931882983,0.30117423991716963,0.5960838333600401,0.6077935100129853,0.6626014157617832,0.7583473409744018,0.4611489236303286,0.5343690202610041,0.5732508872951623,0.5272838287428068,0.40800378412241955,0.36704242502746875,0.29202546398319845,0.640936409952955,0.6385898038058511,0.7371924850703259,0.5828294707403503,0.5860244852256163,0.6705838696491098,0.669596368641489,0.8095206176217326,0.711716411765808,0.6299858071676431,0.5713716159121778,0.5134222671576972,0.687886556176618,0.6662335660022916,0.5773504183211287,0.6359582837797733,0.8012262479880393,0.9312800729664146,0.799799136922497,0.7143656424155644,0.7796104897292817,0.6031623241197828,0.6370438383197767,0.8497290370941013,0.8793099088911032,0.8498414290191602,0.9117088296704091,0.9882835102379555,0.9658108144821784,0.8989532150972687,0.9996753608073563,0.8563277839951136,0.8471938878432893,0.8997032487455272,0.8936107953202405,0.9322843592434364,0.9513072038613059,0.8823900823100489,0.9175753163151603,0.94031630447835,0.9980946303383386,0.899363099425249,0.9769578632436203,0.9799728945495987,0.8743918168814058,0.8812618911477277,0.9144758207022375,0.9769326669290807,0.9605345786577416,0.9335334517575545,0.831387657256271,0.9881780864802797,0.8707236631425974,0.8887694570274041,0.9012420083345521,0.9227621907052281,0.876329754280102,0.8593161903455923,0.8334304480661051,0.9442059951854125,0.9241063276660011,0.970410372308046]},{\"label\":\"eta\",\"range\":[-7.865913379433191,-0.0006935599040794858],\"ticktext\":[\"1.36e-08\",\"1e-07\",\"1e-06\",\"1e-05\",\"0.0001\",\"0.001\",\"0.01\",\"0.1\",\"0.998\"],\"tickvals\":[-7.865913379433191,-7,-6,-5,-4,-3,-2,-1,-0.0006935599040794858],\"values\":[-2.4111574934531728,-5.298366104900675,-3.988898589559752,-0.051094661348934825,-0.6720282613467651,-6.068123202937187,-0.024987852497022144,-2.4029490964402296,-2.000939802015094,-1.7899813016018966,-0.9907274212182806,-0.5718065494457467,-1.0172462533277997,-7.790147608491628,-3.2075797868408915,-1.2042637584493536,-1.3217413503358821,-0.2035406938513306,-0.05579441763076323,-0.024237909056005227,-0.1791520239940625,-0.08566862988909694,-2.9114500718052687,-0.047923884332402494,-5.124856412782826,-7.865913379433191,-1.5572523688041615,-0.5174468699684784,-0.09162177164269386,-0.7769181084521222,-0.08692678270788287,-2.3065901212887177,-0.6045983527036077,-1.561228294709962,-0.4923961162222171,-0.4978359552236346,-0.6182701043441535,-0.5863116875942597,-0.8898108720031754,-0.49262184300675016,-2.9128256512405573,-2.0299622412137315,-1.3429230951757039,-3.8822826329286593,-0.45620940284247724,-0.8582572989759014,-0.36891301605280524,-0.4214023767494377,-1.130097323281705,-0.40399608788869273,-1.5571497354905994,-1.0374002687060058,-1.8658939125667133,-0.44272661142609426,-0.41369814123387133,-6.539267825292008,-0.34910822491528426,-0.3698988297255784,-0.2781958202244601,-1.197543396355708,-0.9661228409064461,-0.263874587409473,-0.8291509167864167,-0.20102783693146645,-0.01977280749484846,-0.20428597352712952,-0.09554164246174508,-0.01852897457820263,-0.19983753840243063,-0.7522616095696797,-1.385746037853341,-0.25787017349070823,-0.04246880683845487,-0.7458768243059086,-0.2585614374866479,-0.037893090814810605,-0.026804120615090337,-0.0006935599040794858,-4.836782163512849,-0.21513179610201083,-0.6902437405975808,-0.009738971219059863,-0.2698453464019878,-0.011206679639978005,-0.6732236723415794,-0.03799230274631997,-0.013683966865257788,-0.1849351742247909,-0.5763416430153347,-0.9573418562689615,-6.750660554486657,-0.0060093845273176795]},{\"label\":\"gamma\",\"range\":[-7.997541796757252,-0.010459631291710623],\"ticktext\":[\"1.01e-08\",\"1e-07\",\"1e-06\",\"1e-05\",\"0.0001\",\"0.001\",\"0.01\",\"0.1\",\"0.976\"],\"tickvals\":[-7.997541796757252,-7,-6,-5,-4,-3,-2,-1,-0.010459631291710623],\"values\":[-0.1901799943605775,-2.0502950887572178,-6.038162173433495,-0.3883222051373438,-0.2206862766841994,-3.3826824699303892,-6.661455907878914,-0.010459631291710623,-0.03695769621395125,-1.812399335121536,-2.095753727195132,-2.0754226506410727,-4.172022847943972,-1.3209831558935285,-4.26193601932617,-3.088255355283977,-3.0308029942592247,-4.983244059958661,-5.711442165959933,-5.389259605723812,-7.534423081819185,-7.89315283141413,-7.988992316121521,-5.216928201522996,-5.1640300107867345,-4.955946414470115,-6.632970393360932,-7.213273448166976,-5.761076985606867,-5.83921704145259,-4.67627211815116,-5.797028817094767,-6.509149178984025,-6.4865827309687285,-5.4979243950188765,-6.2352601759864115,-6.282834758414316,-6.34722002696254,-7.102417261352621,-6.98747673810184,-6.161126782976703,-4.770207571047375,-5.515673832876278,-6.166609600257444,-6.254363714824269,-6.824886219403587,-7.401867798056367,-7.632669002380237,-7.509557035930377,-7.643707949103857,-6.796488915932929,-7.286796080763956,-6.533348133065062,-6.120602891647324,-6.006008547966076,-5.965745520607362,-7.809364516467991,-7.812963488675669,-7.909744402346107,-7.43092720153878,-7.832477403820981,-7.064262190375924,-6.874298364599245,-7.702607690992624,-7.683491345288696,-7.659142992351631,-7.768249402582009,-7.9831525422538325,-7.141859707682828,-7.2064327149206235,-3.638534094072804,-7.97699485923352,-7.715637429800802,-7.6969265195607495,-7.980995091764217,-7.997541796757252,-7.423845883218906,-7.0167704914827755,-6.994746081594689,-7.300853412294997,-6.709211036894924,-7.056225593287774,-7.615339255723791,-7.792551726757661,-7.519345402017481,-7.800736698366786,-7.358697579072255,-7.282495057161944,-6.918242568797344,-0.7726529394797867,-7.548436456368325,-2.6478036373889138]},{\"label\":\"grow_policy\",\"range\":[0,1],\"ticktext\":[\"depthwise\",\"lossguide\"],\"tickvals\":[0,1],\"values\":[0,0,0,1,0,1,0,0,0,0,0,0,0,1,0,0,0,0,0,0,0,0,1,0,0,0,1,0,0,0,0,0,0,0,0,0,0,0,0,0,0,0,0,1,0,0,0,0,0,0,0,0,0,0,0,0,0,0,0,0,0,1,1,1,1,1,1,1,1,1,1,1,1,1,1,1,1,1,1,1,1,1,1,1,1,1,1,1,1,1,1,1]},{\"label\":\"lambda\",\"range\":[-7.998980154516554,-0.08725645390769016],\"ticktext\":[\"1e-08\",\"1e-07\",\"1e-06\",\"1e-05\",\"0.0001\",\"0.001\",\"0.01\",\"0.1\",\"0.818\"],\"tickvals\":[-7.998980154516554,-7,-6,-5,-4,-3,-2,-1,-0.08725645390769016],\"values\":[-4.400920279886358,-0.4385532899952057,-7.9477653258661505,-2.799599416392361,-3.5082162560567047,-5.9145405494342995,-5.010718902436969,-7.910745688609104,-3.3494209520051834,-5.082777659602154,-0.9126132689285021,-2.1730900407648583,-4.283500038187944,-6.471976876402261,-6.806003206016934,-6.634277247165498,-1.7340279617487029,-3.2785984957067984,-7.024807811261493,-5.4675944152366105,-5.589003410370088,-7.353701459764142,-7.21409495748269,-7.488203068933002,-5.939284898887072,-7.3007818220515714,-6.249909003274385,-7.730906421967807,-7.971912699330966,-7.587526751202525,-6.945295135830817,-6.089640191644417,-7.40715600947885,-7.9603293500432,-7.287904623304275,-7.635239451218498,-7.9831226865283496,-7.1837502490032135,-6.644803301357723,-4.983463592606062,-6.60793936895165,-7.628221183836179,-7.609214585449725,-7.744401659186892,-7.962014413644576,-6.476369178854563,-6.782337461397094,-7.713436562484505,-6.93525297406471,-5.6864261018959965,-6.3745823072657295,-7.946338544041709,-7.957655224002824,-7.624401017106524,-7.66734747044411,-0.08725645390769016,-7.009425199123177,-3.7660301221464128,-4.546210846579973,-7.612074908435381,-2.7194102105951257,-7.710626278638518,-7.1263000337842,-7.134983705774666,-6.730301643116414,-7.998980154516554,-7.399987849921639,-7.971440109024168,-6.794427499854059,-7.249490021726497,-6.257205931471692,-7.377285560353322,-7.124486800096528,-7.13385340482325,-7.161653259909201,-5.986741605154333,-6.903347088886229,-7.351740172177538,-6.666455506312852,-6.195982844526953,-6.490882132937432,-6.502712936846762,-7.075747938169565,-7.071688357192038,-6.802166891431332,-7.278811632157582,-7.411826589381994,-7.192754369103592,-5.776746076089295,-7.477630286179034,-6.404184253301554,-5.379869437012306,-5.1595304502310215,-6.971493991689926,-6.960269071790167,-6.990471507660564,-6.546804580455741,-7.275953123286245,-6.887464035984233,-7.07585884730287]},{\"label\":\"max_depth\",\"range\":[3,11],\"values\":[9,6,10,5,5,9,3,8,4,11,11,7,5,3,6,11,11,11,11,10,10,10,9,10,8,11,10,10,9,9,9,8,11,10,11,11,11,11,11,11,10,11,11,10,11,11,11,11,10,11,10,11,11,11,11,11,10,10,9,10,7,10,10,10,10,9,9,8,9,10,8,9,10,10,10,10,9,10,10,9,10,10,6,10,10,9,9,8,9,9,9,8]},{\"label\":\"min_child_weight\",\"range\":[2,10],\"values\":[3,7,7,10,2,2,4,2,4,4,5,6,9,5,8,2,5,2,3,3,3,2,3,3,4,3,3,3,2,2,2,4,2,2,3,2,3,2,3,4,2,3,4,2,2,2,2,3,2,6,7,3,4,3,2,2,2,2,8,10,2,3,5,3,4,4,5,4,4,4,3,5,3,3,3,3,4,3,3,4,3,3,4,3,3,3,3,3,4,3,6,3]},{\"label\":\"normalize_type\",\"range\":[0,1],\"ticktext\":[\"forest\",\"tree\"],\"tickvals\":[0,1],\"values\":[0,1,0,0,0,0,0,0,0,1,0,0,0,0,0,0,0,1,0,0,0,0,1,0,0,0,0,0,0,0,0,0,0,0,0,0,1,0,0,0,0,0,0,0,0,0,0,0,0,0,0,0,0,0,0,1,0,0,0,0,0,0,0,0,0]},{\"label\":\"rate_drop\",\"range\":[-7.998411749718335,-0.3725618196219644],\"ticktext\":[\"1e-08\",\"1e-07\",\"1e-06\",\"1e-05\",\"0.0001\",\"0.001\",\"0.01\",\"0.1\",\"0.424\"],\"tickvals\":[-7.998411749718335,-7,-6,-5,-4,-3,-2,-1,-0.3725618196219644],\"values\":[-0.8922002144080396,-4.651360368102353,-3.3312753057199673,-1.7132623800335147,-0.3725618196219644,-2.66167068314154,-7.9001382996865654,-7.998411749718335,-5.432685686603255,-6.916036204251089,-3.4812160059356247,-6.077617223093259,-3.7326881573862507,-3.4711083178583273,-4.330164594975466,-4.542458163813668,-2.463819002999017,-2.2953107428200155,-1.8320373094544484,-2.873520211002615,-4.520401666291477,-3.0009672787149158,-5.467725231041022,-2.342472673007825,-4.032146321439113,-4.089692045964847,-4.075444021792765,-5.156133668307613,-5.663205180080489,-4.982976796591386,-5.199165753123255,-5.034032862520407,-5.173739536832524,-6.177045856889357,-4.935671589741079,-6.528067659217731,-4.883130702493984,-5.873745079772797,-5.107694078378255,-5.180827093618942,-4.807141658015447,-4.851651172080608,-6.9351275147925255,-4.651083056050781,-5.345525223971411,-5.7401341054153034,-4.951101375114166,-4.889656644759302,-4.713253103519826,-4.2858511472708,-4.302241739739129,-3.727763846730515,-4.455833263873691,-4.330796202837332,-3.7245410677659727,-3.7374179695765646,-3.279759814999464,-3.291928250213263,-3.3618467047649205,-3.2942997934284537,-3.2472545374913726,-2.6688301741512857,-3.7189645501010955,-3.103893834389924,-3.444321066617726]},{\"label\":\"sample_type\",\"range\":[0,1],\"ticktext\":[\"uniform\",\"weighted\"],\"tickvals\":[0,1],\"values\":[0,0,0,1,0,0,0,0,0,1,0,0,0,0,0,0,1,1,1,1,1,1,1,1,1,1,1,1,1,1,1,1,1,1,1,1,1,1,1,1,1,1,1,1,1,1,1,1,1,1,1,1,1,1,1,1,1,1,1,1,1,1,1,1,1]},{\"label\":\"skip_drop\",\"range\":[-7.911112266444622,-0.07459421168035268],\"ticktext\":[\"1.23e-08\",\"1e-07\",\"1e-06\",\"1e-05\",\"0.0001\",\"0.001\",\"0.01\",\"0.1\",\"0.842\"],\"tickvals\":[-7.911112266444622,-7,-6,-5,-4,-3,-2,-1,-0.07459421168035268],\"values\":[-3.284038911923432,-6.875345566856795,-2.094486754367784,-0.30655155965305575,-2.7171623507688167,-3.17558999422859,-0.9768180621036853,-0.17767883631458908,-0.07459421168035268,-1.6250201089188694,-5.333053842611928,-1.9267641542231655,-4.717535080802711,-4.9141325431062715,-4.889002422552175,-4.92560652371274,-4.859598240673669,-6.5355044093357835,-5.8864786422445885,-7.7612269467137684,-3.986623270134309,-7.647521452769707,-7.911112266444622,-4.0763138913963255,-5.6727239653533825,-5.830508121774319,-7.004400287455638,-5.965815954847451,-6.191542382977363,-5.493170575586944,-5.450120959384873,-7.256475410770456,-4.147880164027323,-7.156752149442442,-5.327162759093675,-6.4513205309483865,-4.4670897135113075,-5.403664574227596,-3.7964257747592,-3.6605909328266732,-3.1082859919353623,-2.8893958424350434,-2.825450976231119,-3.096171391862313,-2.3724157765330354,-3.497889066633889,-2.473060513752822,-2.4768296639231906,-2.4374175713074178,-1.6093697778828537,-1.2852386938185831,-1.1999697645342684,-1.625145923772216,-0.6661292443954306,-1.8282036861834676,-1.9231336594966455,-2.792744789004523,-2.2951859651503894,-1.2035958393170278,-1.3758727255964283,-0.7118316317169812,-1.9472727433532238,-1.5741901935442433,-2.1368658595498333,-1.0963287130764647]},{\"label\":\"subsample\",\"range\":[0.20156070505994578,0.9998822052552396],\"values\":[0.8145310443406415,0.8224830473747724,0.2576283838288645,0.7243357474400718,0.9435764087572169,0.23683882143390875,0.8377580202488331,0.3748124091209272,0.375150173663155,0.581200845465583,0.4573074412182344,0.6228372706728075,0.9980975438109814,0.4159168583767665,0.35993218480246997,0.31460812535736815,0.5221195983549641,0.20156070505994578,0.33823259160307817,0.4928977257259409,0.4872167514025374,0.5856482038902189,0.653831018105427,0.6669235376757843,0.5593185856624547,0.7165535130510401,0.5636045813171517,0.6474369322819976,0.6515302362975496,0.7585127148533303,0.7697682740840553,0.5490479047973404,0.6133485917752196,0.6776407686883408,0.8604798022190169,0.6288700475744496,0.7038682163786911,0.6043606329339538,0.7620452594155005,0.7626701485379925,0.885542936517029,0.7936563878273545,0.7986095687864516,0.7994166025400368,0.9123913076296186,0.8066087039680698,0.9964101321123577,0.9579249371147776,0.8309589620936825,0.7990372426708638,0.8752889978114174,0.9049115264774965,0.9094546918603507,0.8407503059171609,0.9596258882644154,0.9490505795858559,0.8507938679198694,0.9754629881139426,0.916760868528386,0.8923153368196777,0.7376960614028905,0.7973448684271793,0.8353668146424433,0.8404725666503247,0.9380791709607399,0.940925770743056,0.9314855744152389,0.9950383691520547,0.9749774933063852,0.8671197959683101,0.9350801120244775,0.8731222649788023,0.8708849723765965,0.8717803333012216,0.8725145562073697,0.8963212154536084,0.8629243255349597,0.8228557516373909,0.918172336276684,0.8931254957524758,0.9791204515014515,0.9757191619634681,0.9289079805880992,0.937072343906262,0.8671484538289743,0.9992181433267975,0.9960892353283336,0.9640582787966764,0.8202584458561003,0.8817098443224543,0.8525688927218468,0.9304375702609066,0.9998822052552396,0.9228428945870794,0.9170404913744677,0.905680217775356,0.8807324498404656,0.9803028639196213,0.7794625561713295,0.9204585224251206]}],\"labelangle\":30,\"labelside\":\"bottom\",\"line\":{\"color\":[0.4868913857677903,0.35469107551487417,0.46460980036297644,0.35402298850574715,0.35402298850574715,0.44919786096256675,0.3536165327210103,0.4673684210526316,0.5069306930693069,0.4395973154362417,0.4769230769230769,0.485981308411215,0.44328097731239086,0.4884615384615384,0.5316455696202532,0.5061728395061729,0.4470989761092149,0.45090909090909087,0.4491228070175438,0.5617021276595745,0.4971537001897534,0.6838046272493572,0.6513994910941475,0.5372460496613994,0.6407766990291262,0.6336633663366336,0.43327556325823224,0.6736292428198434,0.46715328467153283,0.5049701789264414,0.5279999999999999,0.5938242280285035,0.6649874055415617,0.6113744075829384,0.35402298850574715,0.6139088729016786,0.45309734513274347,0.35402298850574715,0.6979166666666666,0.35402298850574715,0.5503080082135524,0.6916890080428953,0.6991869918699186,0.6861702127659576,0.6784810126582278,0.6258823529411764,0.6423357664233577,0.49149338374291124,0.5019455252918288,0.5279999999999999,0.5009633911368017,0.7182320441988951,0.66,0.7074468085106382,0.715846994535519,0.5814977973568283,0.6736292428198434,0.5215686274509804,0.600896860986547,0.35402298850574715,0.5117187499999999,0.7142857142857143,0.75,0.5250501002004008,0.72,0.72,0.6467661691542289,0.5227722772277228,0.5424430641821947,0.7380281690140845,0.600451467268623,0.7277628032345013,0.7258064516129032,0.7247956403269754,0.7046632124352332,0.7103825136612023,0.7071240105540897,0.6282973621103117,0.5165048543689321,0.6858638743455499,0.7317073170731707,0.6502463054187192,0.7318435754189945,0.7096774193548387,0.7005347593582888,0.7238605898123324,0.5088062622309197,0.7197802197802198,0.6770025839793282,0.7100271002710027,0.5990990990990991,0.7208672086720868,0.6502463054187192,0.7247191011235955,0.7272727272727272,0.6976744186046511,0.6403940886699507,0.5745614035087719,0.48496240601503765,0.7338935574229692],\"colorbar\":{\"title\":{\"text\":\"Objective Value\"}},\"colorscale\":[[0.0,\"rgb(247,251,255)\"],[0.125,\"rgb(222,235,247)\"],[0.25,\"rgb(198,219,239)\"],[0.375,\"rgb(158,202,225)\"],[0.5,\"rgb(107,174,214)\"],[0.625,\"rgb(66,146,198)\"],[0.75,\"rgb(33,113,181)\"],[0.875,\"rgb(8,81,156)\"],[1.0,\"rgb(8,48,107)\"]],\"reversescale\":false,\"showscale\":true},\"type\":\"parcoords\"}],                        {\"template\":{\"data\":{\"bar\":[{\"error_x\":{\"color\":\"#2a3f5f\"},\"error_y\":{\"color\":\"#2a3f5f\"},\"marker\":{\"line\":{\"color\":\"#E5ECF6\",\"width\":0.5},\"pattern\":{\"fillmode\":\"overlay\",\"size\":10,\"solidity\":0.2}},\"type\":\"bar\"}],\"barpolar\":[{\"marker\":{\"line\":{\"color\":\"#E5ECF6\",\"width\":0.5},\"pattern\":{\"fillmode\":\"overlay\",\"size\":10,\"solidity\":0.2}},\"type\":\"barpolar\"}],\"carpet\":[{\"aaxis\":{\"endlinecolor\":\"#2a3f5f\",\"gridcolor\":\"white\",\"linecolor\":\"white\",\"minorgridcolor\":\"white\",\"startlinecolor\":\"#2a3f5f\"},\"baxis\":{\"endlinecolor\":\"#2a3f5f\",\"gridcolor\":\"white\",\"linecolor\":\"white\",\"minorgridcolor\":\"white\",\"startlinecolor\":\"#2a3f5f\"},\"type\":\"carpet\"}],\"choropleth\":[{\"colorbar\":{\"outlinewidth\":0,\"ticks\":\"\"},\"type\":\"choropleth\"}],\"contour\":[{\"colorbar\":{\"outlinewidth\":0,\"ticks\":\"\"},\"colorscale\":[[0.0,\"#0d0887\"],[0.1111111111111111,\"#46039f\"],[0.2222222222222222,\"#7201a8\"],[0.3333333333333333,\"#9c179e\"],[0.4444444444444444,\"#bd3786\"],[0.5555555555555556,\"#d8576b\"],[0.6666666666666666,\"#ed7953\"],[0.7777777777777778,\"#fb9f3a\"],[0.8888888888888888,\"#fdca26\"],[1.0,\"#f0f921\"]],\"type\":\"contour\"}],\"contourcarpet\":[{\"colorbar\":{\"outlinewidth\":0,\"ticks\":\"\"},\"type\":\"contourcarpet\"}],\"heatmap\":[{\"colorbar\":{\"outlinewidth\":0,\"ticks\":\"\"},\"colorscale\":[[0.0,\"#0d0887\"],[0.1111111111111111,\"#46039f\"],[0.2222222222222222,\"#7201a8\"],[0.3333333333333333,\"#9c179e\"],[0.4444444444444444,\"#bd3786\"],[0.5555555555555556,\"#d8576b\"],[0.6666666666666666,\"#ed7953\"],[0.7777777777777778,\"#fb9f3a\"],[0.8888888888888888,\"#fdca26\"],[1.0,\"#f0f921\"]],\"type\":\"heatmap\"}],\"heatmapgl\":[{\"colorbar\":{\"outlinewidth\":0,\"ticks\":\"\"},\"colorscale\":[[0.0,\"#0d0887\"],[0.1111111111111111,\"#46039f\"],[0.2222222222222222,\"#7201a8\"],[0.3333333333333333,\"#9c179e\"],[0.4444444444444444,\"#bd3786\"],[0.5555555555555556,\"#d8576b\"],[0.6666666666666666,\"#ed7953\"],[0.7777777777777778,\"#fb9f3a\"],[0.8888888888888888,\"#fdca26\"],[1.0,\"#f0f921\"]],\"type\":\"heatmapgl\"}],\"histogram\":[{\"marker\":{\"pattern\":{\"fillmode\":\"overlay\",\"size\":10,\"solidity\":0.2}},\"type\":\"histogram\"}],\"histogram2d\":[{\"colorbar\":{\"outlinewidth\":0,\"ticks\":\"\"},\"colorscale\":[[0.0,\"#0d0887\"],[0.1111111111111111,\"#46039f\"],[0.2222222222222222,\"#7201a8\"],[0.3333333333333333,\"#9c179e\"],[0.4444444444444444,\"#bd3786\"],[0.5555555555555556,\"#d8576b\"],[0.6666666666666666,\"#ed7953\"],[0.7777777777777778,\"#fb9f3a\"],[0.8888888888888888,\"#fdca26\"],[1.0,\"#f0f921\"]],\"type\":\"histogram2d\"}],\"histogram2dcontour\":[{\"colorbar\":{\"outlinewidth\":0,\"ticks\":\"\"},\"colorscale\":[[0.0,\"#0d0887\"],[0.1111111111111111,\"#46039f\"],[0.2222222222222222,\"#7201a8\"],[0.3333333333333333,\"#9c179e\"],[0.4444444444444444,\"#bd3786\"],[0.5555555555555556,\"#d8576b\"],[0.6666666666666666,\"#ed7953\"],[0.7777777777777778,\"#fb9f3a\"],[0.8888888888888888,\"#fdca26\"],[1.0,\"#f0f921\"]],\"type\":\"histogram2dcontour\"}],\"mesh3d\":[{\"colorbar\":{\"outlinewidth\":0,\"ticks\":\"\"},\"type\":\"mesh3d\"}],\"parcoords\":[{\"line\":{\"colorbar\":{\"outlinewidth\":0,\"ticks\":\"\"}},\"type\":\"parcoords\"}],\"pie\":[{\"automargin\":true,\"type\":\"pie\"}],\"scatter\":[{\"marker\":{\"colorbar\":{\"outlinewidth\":0,\"ticks\":\"\"}},\"type\":\"scatter\"}],\"scatter3d\":[{\"line\":{\"colorbar\":{\"outlinewidth\":0,\"ticks\":\"\"}},\"marker\":{\"colorbar\":{\"outlinewidth\":0,\"ticks\":\"\"}},\"type\":\"scatter3d\"}],\"scattercarpet\":[{\"marker\":{\"colorbar\":{\"outlinewidth\":0,\"ticks\":\"\"}},\"type\":\"scattercarpet\"}],\"scattergeo\":[{\"marker\":{\"colorbar\":{\"outlinewidth\":0,\"ticks\":\"\"}},\"type\":\"scattergeo\"}],\"scattergl\":[{\"marker\":{\"colorbar\":{\"outlinewidth\":0,\"ticks\":\"\"}},\"type\":\"scattergl\"}],\"scattermapbox\":[{\"marker\":{\"colorbar\":{\"outlinewidth\":0,\"ticks\":\"\"}},\"type\":\"scattermapbox\"}],\"scatterpolar\":[{\"marker\":{\"colorbar\":{\"outlinewidth\":0,\"ticks\":\"\"}},\"type\":\"scatterpolar\"}],\"scatterpolargl\":[{\"marker\":{\"colorbar\":{\"outlinewidth\":0,\"ticks\":\"\"}},\"type\":\"scatterpolargl\"}],\"scatterternary\":[{\"marker\":{\"colorbar\":{\"outlinewidth\":0,\"ticks\":\"\"}},\"type\":\"scatterternary\"}],\"surface\":[{\"colorbar\":{\"outlinewidth\":0,\"ticks\":\"\"},\"colorscale\":[[0.0,\"#0d0887\"],[0.1111111111111111,\"#46039f\"],[0.2222222222222222,\"#7201a8\"],[0.3333333333333333,\"#9c179e\"],[0.4444444444444444,\"#bd3786\"],[0.5555555555555556,\"#d8576b\"],[0.6666666666666666,\"#ed7953\"],[0.7777777777777778,\"#fb9f3a\"],[0.8888888888888888,\"#fdca26\"],[1.0,\"#f0f921\"]],\"type\":\"surface\"}],\"table\":[{\"cells\":{\"fill\":{\"color\":\"#EBF0F8\"},\"line\":{\"color\":\"white\"}},\"header\":{\"fill\":{\"color\":\"#C8D4E3\"},\"line\":{\"color\":\"white\"}},\"type\":\"table\"}]},\"layout\":{\"annotationdefaults\":{\"arrowcolor\":\"#2a3f5f\",\"arrowhead\":0,\"arrowwidth\":1},\"autotypenumbers\":\"strict\",\"coloraxis\":{\"colorbar\":{\"outlinewidth\":0,\"ticks\":\"\"}},\"colorscale\":{\"diverging\":[[0,\"#8e0152\"],[0.1,\"#c51b7d\"],[0.2,\"#de77ae\"],[0.3,\"#f1b6da\"],[0.4,\"#fde0ef\"],[0.5,\"#f7f7f7\"],[0.6,\"#e6f5d0\"],[0.7,\"#b8e186\"],[0.8,\"#7fbc41\"],[0.9,\"#4d9221\"],[1,\"#276419\"]],\"sequential\":[[0.0,\"#0d0887\"],[0.1111111111111111,\"#46039f\"],[0.2222222222222222,\"#7201a8\"],[0.3333333333333333,\"#9c179e\"],[0.4444444444444444,\"#bd3786\"],[0.5555555555555556,\"#d8576b\"],[0.6666666666666666,\"#ed7953\"],[0.7777777777777778,\"#fb9f3a\"],[0.8888888888888888,\"#fdca26\"],[1.0,\"#f0f921\"]],\"sequentialminus\":[[0.0,\"#0d0887\"],[0.1111111111111111,\"#46039f\"],[0.2222222222222222,\"#7201a8\"],[0.3333333333333333,\"#9c179e\"],[0.4444444444444444,\"#bd3786\"],[0.5555555555555556,\"#d8576b\"],[0.6666666666666666,\"#ed7953\"],[0.7777777777777778,\"#fb9f3a\"],[0.8888888888888888,\"#fdca26\"],[1.0,\"#f0f921\"]]},\"colorway\":[\"#636efa\",\"#EF553B\",\"#00cc96\",\"#ab63fa\",\"#FFA15A\",\"#19d3f3\",\"#FF6692\",\"#B6E880\",\"#FF97FF\",\"#FECB52\"],\"font\":{\"color\":\"#2a3f5f\"},\"geo\":{\"bgcolor\":\"white\",\"lakecolor\":\"white\",\"landcolor\":\"#E5ECF6\",\"showlakes\":true,\"showland\":true,\"subunitcolor\":\"white\"},\"hoverlabel\":{\"align\":\"left\"},\"hovermode\":\"closest\",\"mapbox\":{\"style\":\"light\"},\"paper_bgcolor\":\"white\",\"plot_bgcolor\":\"#E5ECF6\",\"polar\":{\"angularaxis\":{\"gridcolor\":\"white\",\"linecolor\":\"white\",\"ticks\":\"\"},\"bgcolor\":\"#E5ECF6\",\"radialaxis\":{\"gridcolor\":\"white\",\"linecolor\":\"white\",\"ticks\":\"\"}},\"scene\":{\"xaxis\":{\"backgroundcolor\":\"#E5ECF6\",\"gridcolor\":\"white\",\"gridwidth\":2,\"linecolor\":\"white\",\"showbackground\":true,\"ticks\":\"\",\"zerolinecolor\":\"white\"},\"yaxis\":{\"backgroundcolor\":\"#E5ECF6\",\"gridcolor\":\"white\",\"gridwidth\":2,\"linecolor\":\"white\",\"showbackground\":true,\"ticks\":\"\",\"zerolinecolor\":\"white\"},\"zaxis\":{\"backgroundcolor\":\"#E5ECF6\",\"gridcolor\":\"white\",\"gridwidth\":2,\"linecolor\":\"white\",\"showbackground\":true,\"ticks\":\"\",\"zerolinecolor\":\"white\"}},\"shapedefaults\":{\"line\":{\"color\":\"#2a3f5f\"}},\"ternary\":{\"aaxis\":{\"gridcolor\":\"white\",\"linecolor\":\"white\",\"ticks\":\"\"},\"baxis\":{\"gridcolor\":\"white\",\"linecolor\":\"white\",\"ticks\":\"\"},\"bgcolor\":\"#E5ECF6\",\"caxis\":{\"gridcolor\":\"white\",\"linecolor\":\"white\",\"ticks\":\"\"}},\"title\":{\"x\":0.05},\"xaxis\":{\"automargin\":true,\"gridcolor\":\"white\",\"linecolor\":\"white\",\"ticks\":\"\",\"title\":{\"standoff\":15},\"zerolinecolor\":\"white\",\"zerolinewidth\":2},\"yaxis\":{\"automargin\":true,\"gridcolor\":\"white\",\"linecolor\":\"white\",\"ticks\":\"\",\"title\":{\"standoff\":15},\"zerolinecolor\":\"white\",\"zerolinewidth\":2}}},\"title\":{\"text\":\"Parallel Coordinate Plot\"}},                        {\"responsive\": true}                    ).then(function(){\n",
       "                            \n",
       "var gd = document.getElementById('bc3e07f6-6b8a-42af-a442-195ba3555e8d');\n",
       "var x = new MutationObserver(function (mutations, observer) {{\n",
       "        var display = window.getComputedStyle(gd).display;\n",
       "        if (!display || display === 'none') {{\n",
       "            console.log([gd, 'removed!']);\n",
       "            Plotly.purge(gd);\n",
       "            observer.disconnect();\n",
       "        }}\n",
       "}});\n",
       "\n",
       "// Listen for the removal of the full notebook cells\n",
       "var notebookContainer = gd.closest('#notebook-container');\n",
       "if (notebookContainer) {{\n",
       "    x.observe(notebookContainer, {childList: true});\n",
       "}}\n",
       "\n",
       "// Listen for the clearing of the current output cell\n",
       "var outputEl = gd.closest('.output');\n",
       "if (outputEl) {{\n",
       "    x.observe(outputEl, {childList: true});\n",
       "}}\n",
       "\n",
       "                        })                };                });            </script>        </div>"
      ]
     },
     "metadata": {},
     "output_type": "display_data"
    }
   ],
   "source": [
    "plot_parallel_coordinate(study)"
   ]
  },
  {
   "cell_type": "code",
   "execution_count": null,
   "id": "576d8f7b",
   "metadata": {},
   "outputs": [],
   "source": []
  },
  {
   "cell_type": "code",
   "execution_count": null,
   "id": "670dc483",
   "metadata": {},
   "outputs": [],
   "source": []
  }
 ],
 "metadata": {
  "kernelspec": {
   "display_name": "Python 3",
   "language": "python",
   "name": "python3"
  },
  "language_info": {
   "codemirror_mode": {
    "name": "ipython",
    "version": 3
   },
   "file_extension": ".py",
   "mimetype": "text/x-python",
   "name": "python",
   "nbconvert_exporter": "python",
   "pygments_lexer": "ipython3",
   "version": "3.8.10"
  },
  "toc": {
   "base_numbering": 1,
   "nav_menu": {},
   "number_sections": true,
   "sideBar": true,
   "skip_h1_title": false,
   "title_cell": "Table of Contents",
   "title_sidebar": "Contents",
   "toc_cell": false,
   "toc_position": {},
   "toc_section_display": true,
   "toc_window_display": false
  },
  "varInspector": {
   "cols": {
    "lenName": 16,
    "lenType": 16,
    "lenVar": 40
   },
   "kernels_config": {
    "python": {
     "delete_cmd_postfix": "",
     "delete_cmd_prefix": "del ",
     "library": "var_list.py",
     "varRefreshCmd": "print(var_dic_list())"
    },
    "r": {
     "delete_cmd_postfix": ") ",
     "delete_cmd_prefix": "rm(",
     "library": "var_list.r",
     "varRefreshCmd": "cat(var_dic_list()) "
    }
   },
   "types_to_exclude": [
    "module",
    "function",
    "builtin_function_or_method",
    "instance",
    "_Feature"
   ],
   "window_display": false
  }
 },
 "nbformat": 4,
 "nbformat_minor": 5
}
