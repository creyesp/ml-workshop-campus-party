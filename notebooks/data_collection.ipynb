{
 "cells": [
  {
   "cell_type": "code",
   "execution_count": 2,
   "id": "526a72fb",
   "metadata": {},
   "outputs": [],
   "source": [
    "from google.cloud.bigquery.client import Client\n",
    "import pandas as pd\n",
    "from sklearn.model_selection import train_test_split"
   ]
  },
  {
   "cell_type": "code",
   "execution_count": 3,
   "id": "9a8de441",
   "metadata": {
    "scrolled": true
   },
   "outputs": [
    {
     "name": "stderr",
     "output_type": "stream",
     "text": [
      "/home/creyesp/Projects/ml-workshop-campus-party/venv/lib/python3.8/site-packages/google/auth/_default.py:70: UserWarning: Your application has authenticated using end user credentials from Google Cloud SDK without a quota project. You might receive a \"quota exceeded\" or \"API not enabled\" error. We recommend you rerun `gcloud auth application-default login` and make sure a quota project is added. Or you can use service accounts instead. For more information about service accounts, see https://cloud.google.com/docs/authentication/\n",
      "  warnings.warn(_CLOUD_SDK_CREDENTIALS_WARNING)\n"
     ]
    }
   ],
   "source": [
    "proyect_id = \"peya-data-analyt-factory-stg\"\n",
    "client = Client(project=proyect_id)"
   ]
  },
  {
   "cell_type": "code",
   "execution_count": 4,
   "id": "b84de4c3",
   "metadata": {},
   "outputs": [],
   "source": [
    "query_path = \"../data/queries/floot_it_dataset.sql\"\n",
    "with open(query_path, \"r\") as file:\n",
    "    query = \"\".join(file.readlines())\n",
    "\n",
    "full_dataset = client.query(query).to_dataframe(create_bqstorage_client=False)"
   ]
  },
  {
   "cell_type": "code",
   "execution_count": 5,
   "id": "80a15bf6",
   "metadata": {},
   "outputs": [],
   "source": [
    "output_path = \"../data/users_raw.csv\"\n",
    "full_dataset.to_csv(output_path, index=False)\n",
    "full_dataset.drop(columns=['split_group'], inplace=True)"
   ]
  },
  {
   "cell_type": "code",
   "execution_count": 6,
   "id": "316df71a",
   "metadata": {},
   "outputs": [
    {
     "data": {
      "text/plain": [
       "0         4\n",
       "1         7\n",
       "2         5\n",
       "3        25\n",
       "4        21\n",
       "         ..\n",
       "13583    14\n",
       "13584    12\n",
       "13585     2\n",
       "13586    19\n",
       "13587    14\n",
       "Name: user_first_engagement, Length: 13588, dtype: int64"
      ]
     },
     "execution_count": 6,
     "metadata": {},
     "output_type": "execute_result"
    }
   ],
   "source": [
    "full_dataset['user_first_engagement'].dt.day"
   ]
  },
  {
   "cell_type": "code",
   "execution_count": 10,
   "id": "aa3f8350",
   "metadata": {},
   "outputs": [],
   "source": [
    "selector = (full_dataset[\"is_enable\"] == 1) & (full_dataset[\"bounced\"] == 0)\n",
    "\n",
    "train, test = train_test_split(\n",
    "    full_dataset.loc[selector],\n",
    "    test_size=0.1,\n",
    "    random_state=42,\n",
    "    shuffle=True,\n",
    "    stratify=full_dataset.loc[selector, \"churned\"],\n",
    "    # stratify=full_dataset.loc[selector, 'user_first_engagement'].dt.dayofyear,\n",
    ")\n",
    "\n",
    "train_path = \"../data/users_train.csv\"\n",
    "test_path = \"../data/users_test.csv\"\n",
    "train.drop(columns=['is_enable', 'bounced']).to_csv(train_path, index=False)\n",
    "test.drop(columns=['is_enable', 'bounced']).to_csv(test_path, index=False)"
   ]
  },
  {
   "cell_type": "code",
   "execution_count": 11,
   "id": "48e9d21c",
   "metadata": {},
   "outputs": [
    {
     "data": {
      "text/plain": [
       "(0.2310152990264256, 0.23153942428035043)"
      ]
     },
     "execution_count": 11,
     "metadata": {},
     "output_type": "execute_result"
    }
   ],
   "source": [
    "train['churned'].mean(), test['churned'].mean()"
   ]
  },
  {
   "cell_type": "code",
   "execution_count": null,
   "id": "66c52876",
   "metadata": {},
   "outputs": [],
   "source": []
  }
 ],
 "metadata": {
  "kernelspec": {
   "display_name": "Python 3",
   "language": "python",
   "name": "python3"
  },
  "language_info": {
   "codemirror_mode": {
    "name": "ipython",
    "version": 3
   },
   "file_extension": ".py",
   "mimetype": "text/x-python",
   "name": "python",
   "nbconvert_exporter": "python",
   "pygments_lexer": "ipython3",
   "version": "3.8.10"
  },
  "toc": {
   "base_numbering": 1,
   "nav_menu": {},
   "number_sections": true,
   "sideBar": true,
   "skip_h1_title": false,
   "title_cell": "Table of Contents",
   "title_sidebar": "Contents",
   "toc_cell": false,
   "toc_position": {},
   "toc_section_display": true,
   "toc_window_display": false
  },
  "varInspector": {
   "cols": {
    "lenName": 16,
    "lenType": 16,
    "lenVar": 40
   },
   "kernels_config": {
    "python": {
     "delete_cmd_postfix": "",
     "delete_cmd_prefix": "del ",
     "library": "var_list.py",
     "varRefreshCmd": "print(var_dic_list())"
    },
    "r": {
     "delete_cmd_postfix": ") ",
     "delete_cmd_prefix": "rm(",
     "library": "var_list.r",
     "varRefreshCmd": "cat(var_dic_list()) "
    }
   },
   "types_to_exclude": [
    "module",
    "function",
    "builtin_function_or_method",
    "instance",
    "_Feature"
   ],
   "window_display": false
  }
 },
 "nbformat": 4,
 "nbformat_minor": 5
}
