{
 "cells": [
  {
   "cell_type": "code",
   "execution_count": null,
   "id": "526a72fb",
   "metadata": {},
   "outputs": [],
   "source": [
    "from google.cloud.bigquery.client import Client\n",
    "import pandas as pd\n",
    "from sklearn.model_selection import train_test_split\n",
    "\n",
    "from src.config import ALL_COLUMNS, LABEL_COLUMN"
   ]
  },
  {
   "cell_type": "code",
   "execution_count": null,
   "id": "9a8de441",
   "metadata": {
    "scrolled": true
   },
   "outputs": [],
   "source": [
    "proyect_id = \"peya-data-analyt-factory-stg\"\n",
    "client = Client(project=proyect_id)"
   ]
  },
  {
   "cell_type": "code",
   "execution_count": null,
   "id": "b84de4c3",
   "metadata": {},
   "outputs": [],
   "source": [
    "query_path = \"../data/queries/flood_it_dataset.sql\"\n",
    "with open(query_path, \"r\") as file:\n",
    "    query = \"\".join(file.readlines())\n",
    "\n",
    "full_dataset = client.query(query).to_dataframe(create_bqstorage_client=False)"
   ]
  },
  {
   "cell_type": "code",
   "execution_count": null,
   "id": "80a15bf6",
   "metadata": {},
   "outputs": [],
   "source": [
    "output_path = \"../data/users_raw.csv\"\n",
    "full_dataset.to_csv(output_path, index=False)"
   ]
  },
  {
   "cell_type": "code",
   "execution_count": null,
   "id": "aa3f8350",
   "metadata": {},
   "outputs": [],
   "source": [
    "selector_train_test = (full_dataset[\"is_enable\"] == 1) & (full_dataset[\"bounced\"] == 0)\n",
    "selectot_not_yet = (full_dataset[\"is_enable\"] == 0) & (full_dataset[\"bounced\"] == 0)\n",
    "\n",
    "train, test = train_test_split(\n",
    "    full_dataset.loc[selector_train_test],\n",
    "    test_size=0.1,\n",
    "    random_state=42,\n",
    "    shuffle=True,\n",
    "    stratify=full_dataset.loc[selector_train_test, LABEL_COLUMN],\n",
    ")\n",
    "\n",
    "train_path = \"../data/users_train.csv\"\n",
    "test_path = \"../data/users_test.csv\"\n",
    "not_yet_path = \"../data/users_not_yet.csv\"\n",
    "train.to_csv(train_path, index=False)\n",
    "test.to_csv(test_path, index=False)\n",
    "full_dataset.loc[selectot_not_yet, :].to_csv(not_yet_path, index=False)"
   ]
  }
 ],
 "metadata": {
  "kernelspec": {
   "display_name": "Python 3",
   "language": "python",
   "name": "python3"
  },
  "language_info": {
   "codemirror_mode": {
    "name": "ipython",
    "version": 3
   },
   "file_extension": ".py",
   "mimetype": "text/x-python",
   "name": "python",
   "nbconvert_exporter": "python",
   "pygments_lexer": "ipython3",
   "version": "3.8.10"
  },
  "toc": {
   "base_numbering": 1,
   "nav_menu": {},
   "number_sections": true,
   "sideBar": true,
   "skip_h1_title": false,
   "title_cell": "Table of Contents",
   "title_sidebar": "Contents",
   "toc_cell": false,
   "toc_position": {},
   "toc_section_display": true,
   "toc_window_display": false
  },
  "varInspector": {
   "cols": {
    "lenName": 16,
    "lenType": 16,
    "lenVar": 40
   },
   "kernels_config": {
    "python": {
     "delete_cmd_postfix": "",
     "delete_cmd_prefix": "del ",
     "library": "var_list.py",
     "varRefreshCmd": "print(var_dic_list())"
    },
    "r": {
     "delete_cmd_postfix": ") ",
     "delete_cmd_prefix": "rm(",
     "library": "var_list.r",
     "varRefreshCmd": "cat(var_dic_list()) "
    }
   },
   "types_to_exclude": [
    "module",
    "function",
    "builtin_function_or_method",
    "instance",
    "_Feature"
   ],
   "window_display": false
  }
 },
 "nbformat": 4,
 "nbformat_minor": 5
}
