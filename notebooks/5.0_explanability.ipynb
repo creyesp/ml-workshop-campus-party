{
 "cells": [
  {
   "cell_type": "code",
   "execution_count": null,
   "id": "fc5d4846",
   "metadata": {},
   "outputs": [],
   "source": [
    "import joblib\n",
    "import pandas as pd\n",
    "import xgboost\n",
    "import shap\n",
    "\n",
    "LABEL_COLUMN = \"churned\"\n",
    "\n",
    "shap.initjs() "
   ]
  },
  {
   "cell_type": "markdown",
   "id": "9d5550c5",
   "metadata": {},
   "source": [
    "# Load dataset"
   ]
  },
  {
   "cell_type": "code",
   "execution_count": null,
   "id": "54ef8bc7",
   "metadata": {},
   "outputs": [],
   "source": [
    "data = pd.read_csv('../data/users_train.csv')\n",
    "x_test = data.drop(columns=LABEL_COLUMN)\n",
    "y_test = data[LABEL_COLUMN]"
   ]
  },
  {
   "cell_type": "markdown",
   "id": "48b7cba9",
   "metadata": {},
   "source": [
    "# Load best model"
   ]
  },
  {
   "cell_type": "code",
   "execution_count": null,
   "id": "855220fb",
   "metadata": {},
   "outputs": [],
   "source": [
    "pipeline = joblib.load('models/xgb_model_full.joblib')"
   ]
  },
  {
   "cell_type": "code",
   "execution_count": null,
   "id": "a10da195",
   "metadata": {},
   "outputs": [],
   "source": [
    "preprocesor = pipeline['preprocessor']\n",
    "model = pipeline['classifier']"
   ]
  },
  {
   "cell_type": "code",
   "execution_count": null,
   "id": "e178d7f8",
   "metadata": {},
   "outputs": [],
   "source": [
    "# Prepare dataset"
   ]
  },
  {
   "cell_type": "code",
   "execution_count": null,
   "id": "37616652",
   "metadata": {},
   "outputs": [],
   "source": [
    "observations = preprocesor.transform(x_test)"
   ]
  },
  {
   "cell_type": "code",
   "execution_count": null,
   "id": "52ada60f",
   "metadata": {},
   "outputs": [],
   "source": [
    "column_name = (\n",
    "    preprocesor.transformers_[0][2]\n",
    "    + list(preprocesor.transformers_[1][1]['one-hot'].get_feature_names(preprocesor.transformers[1][2]))\n",
    ")\n",
    "\n",
    "observations_df = pd.DataFrame(observations, columns=column_name)"
   ]
  },
  {
   "cell_type": "code",
   "execution_count": null,
   "id": "623692ac",
   "metadata": {},
   "outputs": [],
   "source": [
    "observations_df"
   ]
  },
  {
   "cell_type": "markdown",
   "id": "96ddd447",
   "metadata": {},
   "source": [
    "# Interpretability"
   ]
  },
  {
   "cell_type": "markdown",
   "id": "f0a15f87",
   "metadata": {},
   "source": [
    "## Feature importance desde el modelo "
   ]
  },
  {
   "cell_type": "code",
   "execution_count": null,
   "id": "c4f9938e",
   "metadata": {},
   "outputs": [],
   "source": [
    "(\n",
    "    pd.Series(model.feature_importances_, index=observations_df.columns)\n",
    "    .sort_values(ascending=False)\n",
    "    .iloc[:10]\n",
    "    .plot(kind=\"bar\")\n",
    ")"
   ]
  },
  {
   "cell_type": "markdown",
   "id": "cc81c755",
   "metadata": {},
   "source": [
    "## Shap Values"
   ]
  },
  {
   "cell_type": "markdown",
   "id": "5359054d",
   "metadata": {},
   "source": [
    "### TreeExplainer"
   ]
  },
  {
   "cell_type": "code",
   "execution_count": null,
   "id": "18287689",
   "metadata": {},
   "outputs": [],
   "source": [
    "explainer = shap.TreeExplainer(model)\n",
    "shap_values = explainer.shap_values(observations)"
   ]
  },
  {
   "cell_type": "code",
   "execution_count": null,
   "id": "377f847f",
   "metadata": {},
   "outputs": [],
   "source": [
    "shap.summary_plot(shap_values, observations_df, plot_type=\"bar\")"
   ]
  },
  {
   "cell_type": "markdown",
   "id": "14776f68",
   "metadata": {},
   "source": [
    "### Explainer"
   ]
  },
  {
   "cell_type": "code",
   "execution_count": null,
   "id": "118c4140",
   "metadata": {},
   "outputs": [],
   "source": [
    "explainer = shap.Explainer(model)\n",
    "shap_values = explainer(observations_df)"
   ]
  },
  {
   "cell_type": "code",
   "execution_count": null,
   "id": "f2b2991c",
   "metadata": {},
   "outputs": [],
   "source": [
    "shap_values"
   ]
  },
  {
   "cell_type": "markdown",
   "id": "f99f3a7e",
   "metadata": {},
   "source": [
    "#### visualize the first prediction's explanation"
   ]
  },
  {
   "cell_type": "code",
   "execution_count": null,
   "id": "74f8387f",
   "metadata": {},
   "outputs": [],
   "source": [
    "\n",
    "shap.plots.waterfall(shap_values[0])"
   ]
  },
  {
   "cell_type": "markdown",
   "id": "5f08d2a3",
   "metadata": {},
   "source": [
    "#### visualize all predictiosn"
   ]
  },
  {
   "cell_type": "code",
   "execution_count": null,
   "id": "99c552ab",
   "metadata": {},
   "outputs": [],
   "source": [
    "shap.plots.beeswarm(shap_values)"
   ]
  },
  {
   "cell_type": "code",
   "execution_count": null,
   "id": "2e760501",
   "metadata": {},
   "outputs": [],
   "source": [
    "shap.plots.force(shap_values[0])"
   ]
  },
  {
   "cell_type": "code",
   "execution_count": null,
   "id": "49582c48",
   "metadata": {},
   "outputs": [],
   "source": [
    "#shap.plots.force(explainer.expected_value, shap_values.values)"
   ]
  },
  {
   "cell_type": "code",
   "execution_count": null,
   "id": "3364add1",
   "metadata": {},
   "outputs": [],
   "source": []
  }
 ],
 "metadata": {
  "kernelspec": {
   "display_name": "Python 3",
   "language": "python",
   "name": "python3"
  },
  "language_info": {
   "codemirror_mode": {
    "name": "ipython",
    "version": 3
   },
   "file_extension": ".py",
   "mimetype": "text/x-python",
   "name": "python",
   "nbconvert_exporter": "python",
   "pygments_lexer": "ipython3",
   "version": "3.8.10"
  },
  "toc": {
   "base_numbering": 1,
   "nav_menu": {},
   "number_sections": true,
   "sideBar": true,
   "skip_h1_title": false,
   "title_cell": "Table of Contents",
   "title_sidebar": "Contents",
   "toc_cell": false,
   "toc_position": {},
   "toc_section_display": true,
   "toc_window_display": false
  },
  "varInspector": {
   "cols": {
    "lenName": 16,
    "lenType": 16,
    "lenVar": 40
   },
   "kernels_config": {
    "python": {
     "delete_cmd_postfix": "",
     "delete_cmd_prefix": "del ",
     "library": "var_list.py",
     "varRefreshCmd": "print(var_dic_list())"
    },
    "r": {
     "delete_cmd_postfix": ") ",
     "delete_cmd_prefix": "rm(",
     "library": "var_list.r",
     "varRefreshCmd": "cat(var_dic_list()) "
    }
   },
   "types_to_exclude": [
    "module",
    "function",
    "builtin_function_or_method",
    "instance",
    "_Feature"
   ],
   "window_display": false
  }
 },
 "nbformat": 4,
 "nbformat_minor": 5
}
