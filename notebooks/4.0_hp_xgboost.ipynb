{
 "cells": [
  {
   "cell_type": "markdown",
   "id": "56a6abd2",
   "metadata": {},
   "source": []
  },
  {
   "cell_type": "code",
   "execution_count": null,
   "id": "09ff5d2d",
   "metadata": {},
   "outputs": [],
   "source": [
    "import os\n",
    "\n",
    "import joblib\n",
    "from optuna import create_study\n",
    "from optuna import Trial\n",
    "from optuna.visualization import plot_optimization_history\n",
    "from optuna.visualization import plot_parallel_coordinate\n",
    "import pandas as pd\n",
    "from sklearn import metrics\n",
    "from sklearn import feature_extraction\n",
    "from sklearn import preprocessing\n",
    "from sklearn import set_config\n",
    "from sklearn.compose import ColumnTransformer\n",
    "from sklearn.impute import SimpleImputer\n",
    "from sklearn.model_selection import KFold\n",
    "from sklearn.pipeline import Pipeline\n",
    "from xgboost import XGBClassifier, plot_importance # <- extreme gradient boosting model\n",
    "\n",
    "from src.utils import plot_metric_curves\n"
   ]
  },
  {
   "cell_type": "markdown",
   "id": "08d23aaf",
   "metadata": {},
   "source": [
    "# Ajuste de Hiperparametros"
   ]
  },
  {
   "cell_type": "code",
   "execution_count": null,
   "id": "86ec2f25",
   "metadata": {},
   "outputs": [],
   "source": [
    "LABEL_COLUMN = \"churned\"\n",
    "CATEGORICAL_COLUMNS = [\n",
    "    \"country_name\",\n",
    "    \"device_os\",\n",
    "    \"device_lang\",\n",
    "]\n",
    "NUMERICAL_COLUMNS = [\n",
    "    \"cnt_user_engagement\",\n",
    "    \"cnt_level_start_quickplay\",\n",
    "    \"cnt_level_end_quickplay\",\n",
    "    \"cnt_level_complete_quickplay\",\n",
    "    \"cnt_level_reset_quickplay\",\n",
    "    \"cnt_post_score\",\n",
    "    \"cnt_spend_virtual_currency\",\n",
    "    \"cnt_ad_reward\",\n",
    "    \"cnt_challenge_a_friend\",\n",
    "    \"cnt_completed_5_levels\",\n",
    "    \"cnt_use_extra_steps\",\n",
    "]\n",
    "IGNORE_COLUMNS = [\n",
    "    \"user_first_engagement\",\n",
    "    \"user_pseudo_id\",\n",
    "    \"is_enable\",\n",
    "    \"bounced\",\n",
    "    \"device_lang\",\n",
    "]\n",
    "\n",
    "transformer_numeric = Pipeline(\n",
    "    steps=[\n",
    "        (\"imputer\", SimpleImputer(strategy=\"constant\", fill_value=0)),\n",
    "        (\"scaler\", preprocessing.StandardScaler()),\n",
    "    ]\n",
    ")\n",
    "transformer_categorical = Pipeline(\n",
    "    steps=[\n",
    "        (\"imputer\", SimpleImputer(strategy=\"most_frequent\")),\n",
    "        (\"one-hot\", preprocessing.OneHotEncoder(handle_unknown=\"ignore\")),\n",
    "    ]\n",
    ")\n",
    "transformer_pipeline = ColumnTransformer(\n",
    "    transformers=[\n",
    "        (\"numeric_features\", transformer_numeric, NUMERICAL_COLUMNS),\n",
    "        (\"categorical_features\", transformer_categorical, CATEGORICAL_COLUMNS),\n",
    "        (\"ignore_features\", \"drop\", IGNORE_COLUMNS),\n",
    "    ]\n",
    ")"
   ]
  },
  {
   "cell_type": "code",
   "execution_count": null,
   "id": "04fb1cd6",
   "metadata": {},
   "outputs": [],
   "source": [
    "def objective(trial):\n",
    "    train = pd.read_csv(\"../data/users_train.csv\")\n",
    "\n",
    "    x_train, y_train = train.drop(columns=[LABEL_COLUMN]), train[LABEL_COLUMN]\n",
    "    scale_pos_weight = 1 / y_train.mean()\n",
    "\n",
    "    folds = 10\n",
    "    shuffle = True\n",
    "    seed = 42\n",
    "    kf = KFold(n_splits=folds, shuffle=shuffle, random_state=seed)\n",
    "\n",
    "    param = {\n",
    "        \"scale_pos_weight\": scale_pos_weight,\n",
    "        \"use_label_encoder\": False,\n",
    "        \"eval_metric\": \"logloss\",\n",
    "        \"verbosity\": 0,\n",
    "        \"objective\": \"binary:logistic\",\n",
    "        \"tree_method\": \"exact\",  # use exact for small dataset.\n",
    "        \"booster\": trial.suggest_categorical(\"booster\", [\"gbtree\", \"gblinear\", \"dart\"]),\n",
    "        \"lambda\": trial.suggest_float(\"lambda\", 1e-8, 1.0, log=True),\n",
    "        \"alpha\": trial.suggest_float(\"alpha\", 1e-8, 1.0, log=True),\n",
    "        \"subsample\": trial.suggest_float(\"subsample\", 0.2, 1.0),\n",
    "        \"colsample_bytree\": trial.suggest_float(\"colsample_bytree\", 0.2, 1.0),\n",
    "    }\n",
    "\n",
    "    if param[\"booster\"] in [\"gbtree\", \"dart\"]:\n",
    "        param[\"max_depth\"] = trial.suggest_int(\"max_depth\", 3, 7, step=1)\n",
    "        param[\"min_child_weight\"] = trial.suggest_int(\"min_child_weight\", 2, 10)\n",
    "        param[\"eta\"] = trial.suggest_float(\"eta\", 1e-8, 1.0, log=True)\n",
    "        param[\"gamma\"] = trial.suggest_float(\"gamma\", 1e-8, 1.0, log=True)\n",
    "        param[\"grow_policy\"] = trial.suggest_categorical(\n",
    "            \"grow_policy\", [\"depthwise\", \"lossguide\"]\n",
    "        )\n",
    "\n",
    "    if param[\"booster\"] == \"dart\":\n",
    "        param[\"sample_type\"] = trial.suggest_categorical(\n",
    "            \"sample_type\", [\"uniform\", \"weighted\"]\n",
    "        )\n",
    "        param[\"normalize_type\"] = trial.suggest_categorical(\n",
    "            \"normalize_type\", [\"tree\", \"forest\"]\n",
    "        )\n",
    "        param[\"rate_drop\"] = trial.suggest_float(\"rate_drop\", 1e-8, 1.0, log=True)\n",
    "        param[\"skip_drop\"] = trial.suggest_float(\"skip_drop\", 1e-8, 1.0, log=True)\n",
    "\n",
    "    score = []\n",
    "    for train_idx, valid_idx in kf.split(x_train, y_train):\n",
    "        x_train_data = x_train.iloc[train_idx,:]\n",
    "        y_train_data = y_train[train_idx]\n",
    "        x_valid_data = x_train.iloc[valid_idx,:]\n",
    "        y_valid_data = y_train[valid_idx]\n",
    "        xgb_model = Pipeline(\n",
    "            steps=[\n",
    "                (\"preprocessor\", transformer_pipeline),\n",
    "                (\n",
    "                    \"classifier\",\n",
    "                    XGBClassifier(**param),\n",
    "                ),\n",
    "            ]\n",
    "        )\n",
    "        xgb_model.fit(x_train_data, y_train_data)\n",
    "\n",
    "        y_pred = xgb_model.predict(x_valid_data)\n",
    "        val_score = metrics.roc_auc_score(y_valid_data, y_pred)\n",
    "        \n",
    "        score.append(val_score)\n",
    "\n",
    "    return sum(score)/folds"
   ]
  },
  {
   "cell_type": "code",
   "execution_count": null,
   "id": "6f8876c7",
   "metadata": {},
   "outputs": [],
   "source": [
    "study = create_study(direction=\"maximize\")\n",
    "study.optimize(objective, n_trials=20, timeout=600)"
   ]
  },
  {
   "cell_type": "code",
   "execution_count": null,
   "id": "36db3415",
   "metadata": {},
   "outputs": [],
   "source": [
    "print(\"Number of finished trials: \", len(study.trials))\n",
    "print(\"Best trial:\")\n",
    "trial = study.best_trial\n",
    "\n",
    "print(\"  Value: {}\".format(trial.value))\n",
    "print(\"  Params: \")\n",
    "\n",
    "trial.params"
   ]
  },
  {
   "cell_type": "code",
   "execution_count": null,
   "id": "38e764ad",
   "metadata": {},
   "outputs": [],
   "source": [
    "plot_optimization_history(study)"
   ]
  },
  {
   "cell_type": "code",
   "execution_count": null,
   "id": "d257fb7a",
   "metadata": {},
   "outputs": [],
   "source": [
    "plot_parallel_coordinate(study)"
   ]
  },
  {
   "cell_type": "markdown",
   "id": "e656e57b",
   "metadata": {},
   "source": [
    "## El mejor modelo"
   ]
  },
  {
   "cell_type": "code",
   "execution_count": null,
   "id": "4f057860",
   "metadata": {},
   "outputs": [],
   "source": [
    "train = pd.read_csv('../data/users_train.csv')\n",
    "test = pd.read_csv('../data/users_test.csv')\n",
    "\n",
    "x_train = train.drop(columns=[LABEL_COLUMN])\n",
    "y_train = train[LABEL_COLUMN]\n",
    "x_test = test.drop(columns=[LABEL_COLUMN])\n",
    "y_test = test[LABEL_COLUMN]\n",
    "\n",
    "scale_pos_weight = 1/y_train.mean()"
   ]
  },
  {
   "cell_type": "code",
   "execution_count": null,
   "id": "670dc483",
   "metadata": {},
   "outputs": [],
   "source": [
    "best_parameters = study.best_trial.params\n",
    "best_parameters = study.trials[1].params\n",
    "xgb_model_full = Pipeline(\n",
    "    steps=[\n",
    "        (\"preprocessor\", transformer_pipeline),\n",
    "        (\n",
    "            \"classifier\",\n",
    "            XGBClassifier(\n",
    "                scale_pos_weight=scale_pos_weight,\n",
    "                use_label_encoder=False,\n",
    "                eval_metric='logloss',\n",
    "                **best_parameters,\n",
    "            ),\n",
    "        ),\n",
    "    ]\n",
    ")\n",
    "xgb_model_full.fit(x_train, y_train)"
   ]
  },
  {
   "cell_type": "code",
   "execution_count": null,
   "id": "247db705",
   "metadata": {},
   "outputs": [],
   "source": [
    "x = x_test\n",
    "y = y_test\n",
    "\n",
    "y_pred = xgb_model_full.predict(x)\n",
    "display(print(metrics.classification_report(y, y_pred)))\n",
    "ax = plot_metric_curves(xgb_model_full, x, y)"
   ]
  },
  {
   "cell_type": "code",
   "execution_count": null,
   "id": "b9f80822",
   "metadata": {},
   "outputs": [],
   "source": [
    "y_pred_prob = xgb_model_full.predict_proba(x)"
   ]
  },
  {
   "cell_type": "code",
   "execution_count": null,
   "id": "7f04c9fb",
   "metadata": {},
   "outputs": [],
   "source": [
    "pd.Series(y_pred_prob[:, 0]).hist(bins=100, range=(0,1))"
   ]
  }
 ],
 "metadata": {
  "kernelspec": {
   "display_name": "Python 3",
   "language": "python",
   "name": "python3"
  },
  "language_info": {
   "codemirror_mode": {
    "name": "ipython",
    "version": 3
   },
   "file_extension": ".py",
   "mimetype": "text/x-python",
   "name": "python",
   "nbconvert_exporter": "python",
   "pygments_lexer": "ipython3",
   "version": "3.8.10"
  },
  "toc": {
   "base_numbering": 1,
   "nav_menu": {},
   "number_sections": true,
   "sideBar": true,
   "skip_h1_title": false,
   "title_cell": "Table of Contents",
   "title_sidebar": "Contents",
   "toc_cell": false,
   "toc_position": {},
   "toc_section_display": true,
   "toc_window_display": false
  },
  "varInspector": {
   "cols": {
    "lenName": 16,
    "lenType": 16,
    "lenVar": 40
   },
   "kernels_config": {
    "python": {
     "delete_cmd_postfix": "",
     "delete_cmd_prefix": "del ",
     "library": "var_list.py",
     "varRefreshCmd": "print(var_dic_list())"
    },
    "r": {
     "delete_cmd_postfix": ") ",
     "delete_cmd_prefix": "rm(",
     "library": "var_list.r",
     "varRefreshCmd": "cat(var_dic_list()) "
    }
   },
   "types_to_exclude": [
    "module",
    "function",
    "builtin_function_or_method",
    "instance",
    "_Feature"
   ],
   "window_display": false
  }
 },
 "nbformat": 4,
 "nbformat_minor": 5
}
