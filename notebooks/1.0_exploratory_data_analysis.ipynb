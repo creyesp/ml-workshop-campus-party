{
 "cells": [
  {
   "cell_type": "markdown",
   "id": "105acd2a",
   "metadata": {},
   "source": [
    "# Exploratoria\n",
    "La idea en esta fase es revisar cómo son nuestros datos para entender más en detalle el problema, cuáles podrían ser buenas estrategias para el modelado y qué transformaciones podríamos realizar para obtener features que nos permitan obtener mejores resultados\n"
   ]
  },
  {
   "cell_type": "code",
   "execution_count": null,
   "id": "c6914777",
   "metadata": {},
   "outputs": [],
   "source": [
    "import matplotlib.pyplot as plt\n",
    "import pandas as pd\n",
    "from pandas_profiling import ProfileReport\n",
    "import seaborn as sns\n",
    "\n",
    "CATEGORICAL_COLUMNS = [\n",
    "    \"country_name\",\n",
    "    \"device_os\",\n",
    "    \"device_lang\",\n",
    "]\n",
    "NUMERICAL_COLUMNS = [\n",
    "    \"cnt_user_engagement\",\n",
    "    \"cnt_level_start_quickplay\",\n",
    "    \"cnt_level_end_quickplay\",\n",
    "    \"cnt_level_complete_quickplay\",\n",
    "    \"cnt_level_reset_quickplay\",\n",
    "    \"cnt_post_score\",\n",
    "    \"cnt_spend_virtual_currency\",\n",
    "    \"cnt_ad_reward\",\n",
    "    \"cnt_challenge_a_friend\",\n",
    "    \"cnt_completed_5_levels\",\n",
    "    \"cnt_use_extra_steps\",\n",
    "]\n",
    "IGNORE_COLUMNS = [\n",
    "    \"user_first_engagement\",\n",
    "    \"user_pseudo_id\",\n",
    "    \"is_enable\",\n",
    "    \"bounced\",\n",
    "    \"device_lang\",\n",
    "]\n",
    "LABEL_COLUMN = \"churned\""
   ]
  },
  {
   "cell_type": "code",
   "execution_count": null,
   "id": "056b72d3",
   "metadata": {},
   "outputs": [],
   "source": [
    "user_dataset_path = \"../data/users_train.csv\"\n",
    "user_dataset = pd.read_csv(\n",
    "    user_dataset_path,\n",
    "    index_col=0,\n",
    "    parse_dates=[\"user_first_engagement\"],\n",
    ")"
   ]
  },
  {
   "cell_type": "markdown",
   "id": "b1dad30b",
   "metadata": {},
   "source": [
    "# Data Validation"
   ]
  },
  {
   "cell_type": "code",
   "execution_count": null,
   "id": "844edf27",
   "metadata": {},
   "outputs": [],
   "source": [
    "user_dataset.dtypes"
   ]
  },
  {
   "cell_type": "code",
   "execution_count": null,
   "id": "a9b7660f",
   "metadata": {},
   "outputs": [],
   "source": [
    "user_dataset.isna().sum()"
   ]
  },
  {
   "cell_type": "markdown",
   "id": "27a3aa18",
   "metadata": {},
   "source": [
    "# Pandas Profiling"
   ]
  },
  {
   "cell_type": "code",
   "execution_count": null,
   "id": "f33b168b",
   "metadata": {},
   "outputs": [],
   "source": [
    "profile = ProfileReport(user_dataset, title=\"Pandas Profiling Report\", explorative=True)\n",
    "\n",
    "profile.to_widgets()"
   ]
  },
  {
   "cell_type": "markdown",
   "id": "3ba012c9",
   "metadata": {},
   "source": [
    "# EDA\n",
    "## Evolución temporal "
   ]
  },
  {
   "cell_type": "code",
   "execution_count": null,
   "id": "5f546825",
   "metadata": {},
   "outputs": [],
   "source": [
    "data_plot = (\n",
    "    user_dataset.groupby(LABEL_COLUMN)[LABEL_COLUMN]\n",
    "    .resample(\"D\")\n",
    "    .count()\n",
    "    .rename(\"count\")\n",
    "    .reset_index()\n",
    ")\n",
    "sns.relplot(\n",
    "    data=data_plot,\n",
    "    x=\"user_first_engagement\",\n",
    "    y=\"count\",\n",
    "    hue=LABEL_COLUMN,\n",
    "    kind=\"line\",\n",
    "    height=5,\n",
    "    aspect=2\n",
    ")"
   ]
  },
  {
   "cell_type": "markdown",
   "id": "0ab139c8",
   "metadata": {},
   "source": [
    "## Pair plot de variables nuemericas\n",
    "Como se relacionan entre ellas las variables numericas y como estas se relacionan con la variable que queremos predecir. Para ello podemos usar la grafica que seaborn no provee [pairplot](https://seaborn.pydata.org/generated/seaborn.pairplot.html#seaborn.pairplot)"
   ]
  },
  {
   "cell_type": "code",
   "execution_count": null,
   "id": "9f3348e1",
   "metadata": {},
   "outputs": [],
   "source": [
    "sns.pairplot(\n",
    "    data=user_dataset[NUMERICAL_COLUMNS + [LABEL_COLUMN]],\n",
    "    hue=LABEL_COLUMN,\n",
    ")"
   ]
  },
  {
   "cell_type": "markdown",
   "id": "2d4fa526",
   "metadata": {},
   "source": [
    "Seria interesante ver si hay diferencias en las distribuciones de las variables numericas con respecto a la variable a predecir. Para ello podemos usar un tipo de grafico llamado boxplot o boxenplot que nos permite visualizar de manera general como son las diferencias en las distribuciones"
   ]
  },
  {
   "cell_type": "code",
   "execution_count": null,
   "id": "319fffdc",
   "metadata": {},
   "outputs": [],
   "source": [
    "# ax = sns.boxplot(\n",
    "#     x=\"label\",\n",
    "#     y=\"columna1\",\n",
    "#     data=dataset,\n",
    "# )"
   ]
  },
  {
   "cell_type": "code",
   "execution_count": null,
   "id": "da8c5104",
   "metadata": {},
   "outputs": [],
   "source": [
    "ax = sns.boxplot(\n",
    "    x=LABEL_COLUMN,\n",
    "    y=NUMERICAL_COLUMNS[0],\n",
    "    data=user_dataset,\n",
    "    hue=LABEL_COLUMN,\n",
    ")\n",
    "ax.set(ylim=(0, 200))"
   ]
  },
  {
   "cell_type": "code",
   "execution_count": null,
   "id": "35fb7134",
   "metadata": {},
   "outputs": [],
   "source": [
    "ax = sns.boxplot(\n",
    "    x=LABEL_COLUMN,\n",
    "    y=NUMERICAL_COLUMNS[1],\n",
    "    data=user_dataset,\n",
    "    hue=LABEL_COLUMN,\n",
    ")\n",
    "ax.set(ylim=(0, 50))"
   ]
  },
  {
   "cell_type": "code",
   "execution_count": null,
   "id": "926e2946",
   "metadata": {},
   "outputs": [],
   "source": [
    "ax = sns.boxplot(\n",
    "    x=LABEL_COLUMN,\n",
    "    y=NUMERICAL_COLUMNS[2],\n",
    "    data=user_dataset,\n",
    "    hue=LABEL_COLUMN,\n",
    ")\n",
    "ax.set(ylim=(0, 20))"
   ]
  },
  {
   "cell_type": "code",
   "execution_count": null,
   "id": "fb246ed2",
   "metadata": {},
   "outputs": [],
   "source": [
    "ax = sns.boxplot(\n",
    "    x=LABEL_COLUMN,\n",
    "    y=NUMERICAL_COLUMNS[3],\n",
    "    data=user_dataset,\n",
    "    hue=LABEL_COLUMN,\n",
    ")\n",
    "ax.set(ylim=(0, 20))"
   ]
  },
  {
   "cell_type": "code",
   "execution_count": null,
   "id": "e0a1ad50",
   "metadata": {},
   "outputs": [],
   "source": [
    "ax = sns.boxplot(\n",
    "    x=LABEL_COLUMN,\n",
    "    y=NUMERICAL_COLUMNS[-2],\n",
    "    data=user_dataset,\n",
    "    hue=LABEL_COLUMN,\n",
    ")"
   ]
  },
  {
   "cell_type": "code",
   "execution_count": null,
   "id": "e3b4860b",
   "metadata": {},
   "outputs": [],
   "source": [
    "ax = sns.boxplot(\n",
    "    x=LABEL_COLUMN,\n",
    "    y=NUMERICAL_COLUMNS[-1],\n",
    "    data=user_dataset,\n",
    "    hue=LABEL_COLUMN,\n",
    ")\n",
    "ax.set(ylim=(0, 20))"
   ]
  },
  {
   "cell_type": "markdown",
   "id": "fca6502b",
   "metadata": {},
   "source": [
    "Las variables categoricas son homogeneas? o podemos encontrar deferentes categorias con el mismo significado pero en mayuscula y minusculas, caracteres especiales"
   ]
  },
  {
   "cell_type": "code",
   "execution_count": null,
   "id": "70adcc85",
   "metadata": {},
   "outputs": [],
   "source": [
    "user_dataset['country_name'].str.lower().nunique()"
   ]
  },
  {
   "cell_type": "code",
   "execution_count": null,
   "id": "ddbe50a7",
   "metadata": {},
   "outputs": [],
   "source": [
    "user_dataset['country_name'].nunique()"
   ]
  },
  {
   "cell_type": "code",
   "execution_count": null,
   "id": "106d4924",
   "metadata": {},
   "outputs": [],
   "source": [
    "user_dataset['device_lang'].nunique()"
   ]
  },
  {
   "cell_type": "code",
   "execution_count": null,
   "id": "8dbd67af",
   "metadata": {},
   "outputs": [],
   "source": [
    "user_dataset['device_lang'].str.lower().nunique()"
   ]
  },
  {
   "cell_type": "code",
   "execution_count": null,
   "id": "8a750fa7",
   "metadata": {},
   "outputs": [],
   "source": [
    "user_dataset['device_lang'].value_counts()"
   ]
  },
  {
   "cell_type": "code",
   "execution_count": null,
   "id": "41cf31cd",
   "metadata": {},
   "outputs": [],
   "source": [
    "user_dataset['device_lang'].apply(lambda x: x[:2]).value_counts()"
   ]
  },
  {
   "cell_type": "code",
   "execution_count": null,
   "id": "eb903e08",
   "metadata": {},
   "outputs": [],
   "source": []
  },
  {
   "cell_type": "markdown",
   "id": "caa664c4",
   "metadata": {},
   "source": [
    "Cuales son los principales paises y los principales idiomas? como se relacionan estas con la variable a predecir?"
   ]
  },
  {
   "cell_type": "code",
   "execution_count": null,
   "id": "8474644b",
   "metadata": {},
   "outputs": [],
   "source": [
    "for cat_col in CATEGORICAL_COLUMNS:\n",
    "    selector = user_dataset[cat_col].isin(user_dataset[cat_col].value_counts().iloc[:10].index.to_list())\n",
    "    sns.catplot(\n",
    "        x=cat_col,\n",
    "        hue=LABEL_COLUMN,\n",
    "        data=user_dataset.loc[selector,:].dropna(),\n",
    "        kind=\"count\",\n",
    "        height=5,\n",
    "        aspect=2,\n",
    "    )"
   ]
  }
 ],
 "metadata": {
  "kernelspec": {
   "display_name": "Python 3",
   "language": "python",
   "name": "python3"
  },
  "language_info": {
   "codemirror_mode": {
    "name": "ipython",
    "version": 3
   },
   "file_extension": ".py",
   "mimetype": "text/x-python",
   "name": "python",
   "nbconvert_exporter": "python",
   "pygments_lexer": "ipython3",
   "version": "3.8.10"
  },
  "toc": {
   "base_numbering": 1,
   "nav_menu": {},
   "number_sections": true,
   "sideBar": true,
   "skip_h1_title": false,
   "title_cell": "Table of Contents",
   "title_sidebar": "Contents",
   "toc_cell": false,
   "toc_position": {},
   "toc_section_display": true,
   "toc_window_display": false
  },
  "varInspector": {
   "cols": {
    "lenName": 16,
    "lenType": 16,
    "lenVar": 40
   },
   "kernels_config": {
    "python": {
     "delete_cmd_postfix": "",
     "delete_cmd_prefix": "del ",
     "library": "var_list.py",
     "varRefreshCmd": "print(var_dic_list())"
    },
    "r": {
     "delete_cmd_postfix": ") ",
     "delete_cmd_prefix": "rm(",
     "library": "var_list.r",
     "varRefreshCmd": "cat(var_dic_list()) "
    }
   },
   "types_to_exclude": [
    "module",
    "function",
    "builtin_function_or_method",
    "instance",
    "_Feature"
   ],
   "window_display": false
  }
 },
 "nbformat": 4,
 "nbformat_minor": 5
}
