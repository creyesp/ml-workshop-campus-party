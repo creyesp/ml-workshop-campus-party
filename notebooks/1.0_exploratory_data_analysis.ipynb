{
 "cells": [
  {
   "cell_type": "markdown",
   "id": "105acd2a",
   "metadata": {},
   "source": [
    "# Exploratoria\n",
    "La idea en esta fase es revisar cómo son nuestros datos para entender más en detalle el problema, cuáles podrían ser buenas estrategias para el modelado y qué transformaciones podríamos realizar para obtener features que nos permitan obtener mejores resultados\n"
   ]
  },
  {
   "cell_type": "code",
   "execution_count": 1,
   "id": "c6914777",
   "metadata": {},
   "outputs": [
    {
     "data": {
      "text/html": [
       "\n",
       "            <div>\n",
       "                <ins><a href=\"https://ydata.ai/register\">Upgrade to ydata-sdk</a></ins>\n",
       "                <p>\n",
       "                    Improve your data and profiling with ydata-sdk, featuring data quality scoring, redundancy detection, outlier identification, text validation, and synthetic data generation.\n",
       "                </p>\n",
       "            </div>\n",
       "            "
      ],
      "text/plain": [
       "<IPython.core.display.HTML object>"
      ]
     },
     "metadata": {},
     "output_type": "display_data"
    }
   ],
   "source": [
    "import matplotlib.pyplot as plt\n",
    "import pandas as pd\n",
    "from ydata_profiling import ProfileReport\n",
    "import seaborn as sns\n",
    "\n",
    "CATEGORICAL_COLUMNS = [\n",
    "    \"country_name\",\n",
    "    \"device_os\",\n",
    "    \"device_lang\",\n",
    "]\n",
    "NUMERICAL_COLUMNS = [\n",
    "    \"cnt_user_engagement\",\n",
    "    \"cnt_level_start_quickplay\",\n",
    "    \"cnt_level_end_quickplay\",\n",
    "    \"cnt_level_complete_quickplay\",\n",
    "    \"cnt_level_reset_quickplay\",\n",
    "    \"cnt_post_score\",\n",
    "    \"cnt_spend_virtual_currency\",\n",
    "    \"cnt_ad_reward\",\n",
    "    \"cnt_challenge_a_friend\",\n",
    "    \"cnt_completed_5_levels\",\n",
    "    \"cnt_use_extra_steps\",\n",
    "]\n",
    "IGNORE_COLUMNS = [\n",
    "    \"user_first_engagement\",\n",
    "    \"user_pseudo_id\",\n",
    "    \"is_enable\",\n",
    "    \"bounced\",\n",
    "    \"device_lang\",\n",
    "]\n",
    "LABEL_COLUMN = \"churned\""
   ]
  },
  {
   "cell_type": "code",
   "execution_count": 2,
   "id": "056b72d3",
   "metadata": {},
   "outputs": [],
   "source": [
    "user_dataset_path = \"../data/users_train.csv\"\n",
    "user_dataset = pd.read_csv(\n",
    "    user_dataset_path,\n",
    "    index_col=0,\n",
    "    parse_dates=[\"user_first_engagement\"],\n",
    ")"
   ]
  },
  {
   "cell_type": "markdown",
   "id": "b1dad30b",
   "metadata": {},
   "source": [
    "# Data Validation"
   ]
  },
  {
   "cell_type": "code",
   "execution_count": 3,
   "id": "844edf27",
   "metadata": {},
   "outputs": [
    {
     "data": {
      "application/vnd.microsoft.datawrangler.viewer.v0+json": {
       "columns": [
        {
         "name": "index",
         "rawType": "object",
         "type": "string"
        },
        {
         "name": "0",
         "rawType": "object",
         "type": "unknown"
        }
       ],
       "ref": "3e9d684a-b4ac-40f2-9241-13af6b61c466",
       "rows": [
        [
         "user_pseudo_id",
         "object"
        ],
        [
         "is_enable",
         "int64"
        ],
        [
         "bounced",
         "int64"
        ],
        [
         "country_name",
         "object"
        ],
        [
         "device_os",
         "object"
        ],
        [
         "device_lang",
         "object"
        ],
        [
         "cnt_user_engagement",
         "int64"
        ],
        [
         "cnt_level_start_quickplay",
         "int64"
        ],
        [
         "cnt_level_end_quickplay",
         "int64"
        ],
        [
         "cnt_level_complete_quickplay",
         "int64"
        ],
        [
         "cnt_level_reset_quickplay",
         "int64"
        ],
        [
         "cnt_post_score",
         "int64"
        ],
        [
         "cnt_spend_virtual_currency",
         "int64"
        ],
        [
         "cnt_ad_reward",
         "int64"
        ],
        [
         "cnt_challenge_a_friend",
         "int64"
        ],
        [
         "cnt_completed_5_levels",
         "int64"
        ],
        [
         "cnt_use_extra_steps",
         "int64"
        ],
        [
         "churned",
         "int64"
        ]
       ],
       "shape": {
        "columns": 1,
        "rows": 18
       }
      },
      "text/plain": [
       "user_pseudo_id                  object\n",
       "is_enable                        int64\n",
       "bounced                          int64\n",
       "country_name                    object\n",
       "device_os                       object\n",
       "device_lang                     object\n",
       "cnt_user_engagement              int64\n",
       "cnt_level_start_quickplay        int64\n",
       "cnt_level_end_quickplay          int64\n",
       "cnt_level_complete_quickplay     int64\n",
       "cnt_level_reset_quickplay        int64\n",
       "cnt_post_score                   int64\n",
       "cnt_spend_virtual_currency       int64\n",
       "cnt_ad_reward                    int64\n",
       "cnt_challenge_a_friend           int64\n",
       "cnt_completed_5_levels           int64\n",
       "cnt_use_extra_steps              int64\n",
       "churned                          int64\n",
       "dtype: object"
      ]
     },
     "execution_count": 3,
     "metadata": {},
     "output_type": "execute_result"
    }
   ],
   "source": [
    "user_dataset.dtypes"
   ]
  },
  {
   "cell_type": "code",
   "execution_count": 4,
   "id": "a9b7660f",
   "metadata": {},
   "outputs": [
    {
     "data": {
      "application/vnd.microsoft.datawrangler.viewer.v0+json": {
       "columns": [
        {
         "name": "index",
         "rawType": "object",
         "type": "string"
        },
        {
         "name": "0",
         "rawType": "int64",
         "type": "integer"
        }
       ],
       "ref": "bd7e2fa6-3d2e-4b15-874c-68bb5755b560",
       "rows": [
        [
         "user_pseudo_id",
         "0"
        ],
        [
         "is_enable",
         "0"
        ],
        [
         "bounced",
         "0"
        ],
        [
         "country_name",
         "3"
        ],
        [
         "device_os",
         "231"
        ],
        [
         "device_lang",
         "0"
        ],
        [
         "cnt_user_engagement",
         "0"
        ],
        [
         "cnt_level_start_quickplay",
         "0"
        ],
        [
         "cnt_level_end_quickplay",
         "0"
        ],
        [
         "cnt_level_complete_quickplay",
         "0"
        ],
        [
         "cnt_level_reset_quickplay",
         "0"
        ],
        [
         "cnt_post_score",
         "0"
        ],
        [
         "cnt_spend_virtual_currency",
         "0"
        ],
        [
         "cnt_ad_reward",
         "0"
        ],
        [
         "cnt_challenge_a_friend",
         "0"
        ],
        [
         "cnt_completed_5_levels",
         "0"
        ],
        [
         "cnt_use_extra_steps",
         "0"
        ],
        [
         "churned",
         "0"
        ]
       ],
       "shape": {
        "columns": 1,
        "rows": 18
       }
      },
      "text/plain": [
       "user_pseudo_id                    0\n",
       "is_enable                         0\n",
       "bounced                           0\n",
       "country_name                      3\n",
       "device_os                       231\n",
       "device_lang                       0\n",
       "cnt_user_engagement               0\n",
       "cnt_level_start_quickplay         0\n",
       "cnt_level_end_quickplay           0\n",
       "cnt_level_complete_quickplay      0\n",
       "cnt_level_reset_quickplay         0\n",
       "cnt_post_score                    0\n",
       "cnt_spend_virtual_currency        0\n",
       "cnt_ad_reward                     0\n",
       "cnt_challenge_a_friend            0\n",
       "cnt_completed_5_levels            0\n",
       "cnt_use_extra_steps               0\n",
       "churned                           0\n",
       "dtype: int64"
      ]
     },
     "execution_count": 4,
     "metadata": {},
     "output_type": "execute_result"
    }
   ],
   "source": [
    "user_dataset.isna().sum()"
   ]
  },
  {
   "cell_type": "code",
   "execution_count": 5,
   "id": "794a4ff3",
   "metadata": {},
   "outputs": [
    {
     "data": {
      "text/plain": [
       "Index(['user_pseudo_id', 'is_enable', 'bounced', 'country_name', 'device_os',\n",
       "       'device_lang', 'cnt_user_engagement', 'cnt_level_start_quickplay',\n",
       "       'cnt_level_end_quickplay', 'cnt_level_complete_quickplay',\n",
       "       'cnt_level_reset_quickplay', 'cnt_post_score',\n",
       "       'cnt_spend_virtual_currency', 'cnt_ad_reward', 'cnt_challenge_a_friend',\n",
       "       'cnt_completed_5_levels', 'cnt_use_extra_steps', 'churned'],\n",
       "      dtype='object')"
      ]
     },
     "execution_count": 5,
     "metadata": {},
     "output_type": "execute_result"
    }
   ],
   "source": [
    "user_dataset.columns"
   ]
  },
  {
   "cell_type": "markdown",
   "id": "27a3aa18",
   "metadata": {},
   "source": [
    "# Pandas Profiling"
   ]
  },
  {
   "cell_type": "code",
   "execution_count": null,
   "id": "f33b168b",
   "metadata": {},
   "outputs": [
    {
     "data": {
      "application/vnd.jupyter.widget-view+json": {
       "model_id": "38cb691e1ed0434dae5277f17675f1ea",
       "version_major": 2,
       "version_minor": 0
      },
      "text/plain": [
       "Summarize dataset:   0%|          | 0/5 [00:00<?, ?it/s]"
      ]
     },
     "metadata": {},
     "output_type": "display_data"
    }
   ],
   "source": [
    "profile = ProfileReport(user_dataset, title=\"Pandas Profiling Report\", explorative=True)\n",
    "\n",
    "profile.to_widgets()"
   ]
  },
  {
   "cell_type": "markdown",
   "id": "3ba012c9",
   "metadata": {},
   "source": [
    "# EDA\n",
    "## Evolución temporal "
   ]
  },
  {
   "cell_type": "code",
   "execution_count": null,
   "id": "5f546825",
   "metadata": {},
   "outputs": [],
   "source": [
    "data_plot = (\n",
    "    user_dataset.groupby(LABEL_COLUMN)[LABEL_COLUMN]\n",
    "    .resample(\"D\")\n",
    "    .count()\n",
    "    .rename(\"count\")\n",
    "    .reset_index()\n",
    ")\n",
    "sns.relplot(\n",
    "    data=data_plot,\n",
    "    x=\"user_first_engagement\",\n",
    "    y=\"count\",\n",
    "    hue=LABEL_COLUMN,\n",
    "    kind=\"line\",\n",
    "    height=5,\n",
    "    aspect=2\n",
    ")"
   ]
  },
  {
   "cell_type": "markdown",
   "id": "0ab139c8",
   "metadata": {},
   "source": [
    "## Pair plot de variables nuemericas\n",
    "Como se relacionan entre ellas las variables numericas y como estas se relacionan con la variable que queremos predecir. Para ello podemos usar la grafica que seaborn no provee [pairplot](https://seaborn.pydata.org/generated/seaborn.pairplot.html#seaborn.pairplot)"
   ]
  },
  {
   "cell_type": "code",
   "execution_count": null,
   "id": "9f3348e1",
   "metadata": {},
   "outputs": [],
   "source": [
    "sns.pairplot(\n",
    "    data=user_dataset[NUMERICAL_COLUMNS + [LABEL_COLUMN]],\n",
    "    hue=LABEL_COLUMN,\n",
    ")"
   ]
  },
  {
   "cell_type": "markdown",
   "id": "2d4fa526",
   "metadata": {},
   "source": [
    "Seria interesante ver si hay diferencias en las distribuciones de las variables numericas con respecto a la variable a predecir. Para ello podemos usar un tipo de grafico llamado boxplot o boxenplot que nos permite visualizar de manera general como son las diferencias en las distribuciones"
   ]
  },
  {
   "cell_type": "code",
   "execution_count": null,
   "id": "319fffdc",
   "metadata": {},
   "outputs": [],
   "source": [
    "# ax = sns.boxplot(\n",
    "#     x=\"label\",\n",
    "#     y=\"columna1\",\n",
    "#     data=dataset,\n",
    "# )"
   ]
  },
  {
   "cell_type": "code",
   "execution_count": null,
   "id": "da8c5104",
   "metadata": {},
   "outputs": [],
   "source": [
    "ax = sns.boxplot(\n",
    "    x=LABEL_COLUMN,\n",
    "    y=NUMERICAL_COLUMNS[0],\n",
    "    data=user_dataset,\n",
    "    hue=LABEL_COLUMN,\n",
    ")\n",
    "ax.set(ylim=(0, 200))"
   ]
  },
  {
   "cell_type": "code",
   "execution_count": null,
   "id": "35fb7134",
   "metadata": {},
   "outputs": [],
   "source": [
    "ax = sns.boxplot(\n",
    "    x=LABEL_COLUMN,\n",
    "    y=NUMERICAL_COLUMNS[1],\n",
    "    data=user_dataset,\n",
    "    hue=LABEL_COLUMN,\n",
    ")\n",
    "ax.set(ylim=(0, 50))"
   ]
  },
  {
   "cell_type": "code",
   "execution_count": null,
   "id": "926e2946",
   "metadata": {},
   "outputs": [],
   "source": [
    "ax = sns.boxplot(\n",
    "    x=LABEL_COLUMN,\n",
    "    y=NUMERICAL_COLUMNS[2],\n",
    "    data=user_dataset,\n",
    "    hue=LABEL_COLUMN,\n",
    ")\n",
    "ax.set(ylim=(0, 20))"
   ]
  },
  {
   "cell_type": "code",
   "execution_count": null,
   "id": "fb246ed2",
   "metadata": {},
   "outputs": [],
   "source": [
    "ax = sns.boxplot(\n",
    "    x=LABEL_COLUMN,\n",
    "    y=NUMERICAL_COLUMNS[3],\n",
    "    data=user_dataset,\n",
    "    hue=LABEL_COLUMN,\n",
    ")\n",
    "ax.set(ylim=(0, 20))"
   ]
  },
  {
   "cell_type": "code",
   "execution_count": null,
   "id": "e0a1ad50",
   "metadata": {},
   "outputs": [],
   "source": [
    "ax = sns.boxplot(\n",
    "    x=LABEL_COLUMN,\n",
    "    y=NUMERICAL_COLUMNS[-2],\n",
    "    data=user_dataset,\n",
    "    hue=LABEL_COLUMN,\n",
    ")"
   ]
  },
  {
   "cell_type": "code",
   "execution_count": null,
   "id": "e3b4860b",
   "metadata": {},
   "outputs": [],
   "source": [
    "ax = sns.boxplot(\n",
    "    x=LABEL_COLUMN,\n",
    "    y=NUMERICAL_COLUMNS[-1],\n",
    "    data=user_dataset,\n",
    "    hue=LABEL_COLUMN,\n",
    ")\n",
    "ax.set(ylim=(0, 20))"
   ]
  },
  {
   "cell_type": "markdown",
   "id": "fca6502b",
   "metadata": {},
   "source": [
    "Las variables categoricas son homogeneas? o podemos encontrar deferentes categorias con el mismo significado pero en mayuscula y minusculas, caracteres especiales"
   ]
  },
  {
   "cell_type": "code",
   "execution_count": null,
   "id": "70adcc85",
   "metadata": {},
   "outputs": [],
   "source": [
    "user_dataset['country_name'].str.lower().nunique()"
   ]
  },
  {
   "cell_type": "code",
   "execution_count": null,
   "id": "ddbe50a7",
   "metadata": {},
   "outputs": [],
   "source": [
    "user_dataset['country_name'].nunique()"
   ]
  },
  {
   "cell_type": "code",
   "execution_count": null,
   "id": "106d4924",
   "metadata": {},
   "outputs": [],
   "source": [
    "user_dataset['device_lang'].nunique()"
   ]
  },
  {
   "cell_type": "code",
   "execution_count": null,
   "id": "8dbd67af",
   "metadata": {},
   "outputs": [],
   "source": [
    "user_dataset['device_lang'].str.lower().nunique()"
   ]
  },
  {
   "cell_type": "code",
   "execution_count": null,
   "id": "8a750fa7",
   "metadata": {},
   "outputs": [],
   "source": [
    "user_dataset['device_lang'].value_counts()"
   ]
  },
  {
   "cell_type": "code",
   "execution_count": null,
   "id": "41cf31cd",
   "metadata": {},
   "outputs": [],
   "source": [
    "user_dataset['device_lang'].apply(lambda x: x[:2]).value_counts()"
   ]
  },
  {
   "cell_type": "code",
   "execution_count": null,
   "id": "eb903e08",
   "metadata": {},
   "outputs": [],
   "source": []
  },
  {
   "cell_type": "markdown",
   "id": "caa664c4",
   "metadata": {},
   "source": [
    "Cuales son los principales paises y los principales idiomas? como se relacionan estas con la variable a predecir?"
   ]
  },
  {
   "cell_type": "code",
   "execution_count": null,
   "id": "8474644b",
   "metadata": {},
   "outputs": [],
   "source": [
    "for cat_col in CATEGORICAL_COLUMNS:\n",
    "    selector = user_dataset[cat_col].isin(user_dataset[cat_col].value_counts().iloc[:10].index.to_list())\n",
    "    sns.catplot(\n",
    "        x=cat_col,\n",
    "        hue=LABEL_COLUMN,\n",
    "        data=user_dataset.loc[selector,:].dropna(),\n",
    "        kind=\"count\",\n",
    "        height=5,\n",
    "        aspect=2,\n",
    "    )"
   ]
  },
  {
   "cell_type": "code",
   "execution_count": null,
   "id": "06a74ad9",
   "metadata": {},
   "outputs": [],
   "source": []
  }
 ],
 "metadata": {
  "kernelspec": {
   "display_name": ".venv",
   "language": "python",
   "name": "python3"
  },
  "language_info": {
   "codemirror_mode": {
    "name": "ipython",
    "version": 3
   },
   "file_extension": ".py",
   "mimetype": "text/x-python",
   "name": "python",
   "nbconvert_exporter": "python",
   "pygments_lexer": "ipython3",
   "version": "3.12.10"
  },
  "toc": {
   "base_numbering": 1,
   "nav_menu": {},
   "number_sections": true,
   "sideBar": true,
   "skip_h1_title": false,
   "title_cell": "Table of Contents",
   "title_sidebar": "Contents",
   "toc_cell": false,
   "toc_position": {},
   "toc_section_display": true,
   "toc_window_display": false
  },
  "varInspector": {
   "cols": {
    "lenName": 16,
    "lenType": 16,
    "lenVar": 40
   },
   "kernels_config": {
    "python": {
     "delete_cmd_postfix": "",
     "delete_cmd_prefix": "del ",
     "library": "var_list.py",
     "varRefreshCmd": "print(var_dic_list())"
    },
    "r": {
     "delete_cmd_postfix": ") ",
     "delete_cmd_prefix": "rm(",
     "library": "var_list.r",
     "varRefreshCmd": "cat(var_dic_list()) "
    }
   },
   "types_to_exclude": [
    "module",
    "function",
    "builtin_function_or_method",
    "instance",
    "_Feature"
   ],
   "window_display": false
  }
 },
 "nbformat": 4,
 "nbformat_minor": 5
}
