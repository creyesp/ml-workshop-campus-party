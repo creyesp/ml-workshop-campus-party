{
 "cells": [
  {
   "cell_type": "markdown",
   "id": "3dcb73cb",
   "metadata": {},
   "source": [
    "# Processing data\n",
    "\n",
    "En general los **datos** que tenemos para entrenar nuestro modelo no son la entrada directa a este y requieren ser transformados en **features** para obtener los mejores resultados.\n",
    "\n",
    "$$data -> features -> modelo$$\n",
    "\n",
    "Para lograr esto tenemos algunas opciones:\n",
    "* hacer las transformaciones previas a entrenar el modelo y generar un dataset con las features\n",
    "* incorporar estas transformaciones en el modelo construyendo un pipeline\n",
    "\n",
    "En la primera opción podemos usar [pandas](https://pandas.pydata.org/) para procesar y transformar los datos generando el datset con todas las features y en la segunda opción podemos usar el modulo de [preprocessing de scikit-learn](https://scikit-learn.org/stable/modules/preprocessing.html) para aplicar estas transformaciones.\n",
    "\n",
    "La ventaja de tener las transformaciones como una etapa dentro del modelo es que podemos aplicar transformación particulares a cada uno de nuestros modelos usando siempre el mismo dataset como entrada, mejorar la reproducibilidad y la mantención cuando los modelos están en producción.\n",
    "\n",
    "\n",
    "La siguiente imagen es un esquema de cómo funcionan los transformer del módulo de preprocessing de scikit-learn\n",
    "<img src=\"../images/transformer.png\" alt=\"Scikit-learn Transformer\" width=800/>\n"
   ]
  },
  {
   "cell_type": "code",
   "execution_count": null,
   "id": "deb55e8a",
   "metadata": {},
   "outputs": [],
   "source": [
    "import os\n",
    "\n",
    "import matplotlib.pyplot as plt\n",
    "import pandas as pd\n",
    "from sklearn import feature_extraction\n",
    "from sklearn import preprocessing\n",
    "from sklearn import set_config\n",
    "from sklearn.compose import ColumnTransformer\n",
    "from sklearn.impute import SimpleImputer\n",
    "from sklearn.pipeline import Pipeline\n",
    "\n",
    "set_config(display='diagram')   "
   ]
  },
  {
   "cell_type": "code",
   "execution_count": null,
   "id": "c3e4b583",
   "metadata": {},
   "outputs": [],
   "source": [
    "train_path = '../data/users_train.csv'\n",
    "train_data = pd.read_csv(train_path)"
   ]
  },
  {
   "cell_type": "markdown",
   "id": "baae7917",
   "metadata": {},
   "source": [
    "# Pandas"
   ]
  },
  {
   "cell_type": "code",
   "execution_count": null,
   "id": "ddfc1129",
   "metadata": {},
   "outputs": [],
   "source": [
    "x_numeric = train_data[['cnt_user_engagement']]"
   ]
  },
  {
   "cell_type": "code",
   "execution_count": null,
   "id": "69896aac",
   "metadata": {},
   "outputs": [],
   "source": [
    "mean = x_numeric.mean()\n",
    "mean"
   ]
  },
  {
   "cell_type": "code",
   "execution_count": null,
   "id": "6a97aa56",
   "metadata": {},
   "outputs": [],
   "source": [
    "var = x_numeric.var()\n",
    "var"
   ]
  },
  {
   "cell_type": "code",
   "execution_count": null,
   "id": "786a8051",
   "metadata": {},
   "outputs": [],
   "source": [
    "x_norm = (x_numeric - mean)/var**0.5\n",
    "x_norm"
   ]
  },
  {
   "cell_type": "markdown",
   "id": "e9975b0d",
   "metadata": {},
   "source": [
    "# Scikit-learn\n",
    "## Transformaciones Numéricas\n",
    "**Lineales**\n",
    "* `preprocessing.StandardScaler()`: transforma datos numéricos para que tengan media 0 y desviación estándar 1. $f(x) = \\frac{x-\\bar x}{\\sigma}$\n",
    "* `preprocessing.MinMaxScaler()`: transforma datos numéricos para que el mínimo valor sea 0 y el máximo sea 1\n",
    "\n",
    "**No lineales**\n",
    "* `preprocessing.QuantileTransformer()`: discretiza en quantiles una variable numérica y luego normaliza para obtener una distribución normal\n"
   ]
  },
  {
   "cell_type": "code",
   "execution_count": null,
   "id": "8fe63af5",
   "metadata": {},
   "outputs": [],
   "source": [
    "scaler = preprocessing.StandardScaler()"
   ]
  },
  {
   "cell_type": "code",
   "execution_count": null,
   "id": "1839eb1c",
   "metadata": {},
   "outputs": [],
   "source": [
    "scaler.fit(x_numeric)"
   ]
  },
  {
   "cell_type": "code",
   "execution_count": null,
   "id": "6c3a3164",
   "metadata": {},
   "outputs": [],
   "source": [
    "x_norm = scaler.transform(x_numeric)\n",
    "x_norm"
   ]
  },
  {
   "cell_type": "code",
   "execution_count": null,
   "id": "ebd21856",
   "metadata": {},
   "outputs": [],
   "source": [
    "scaler.mean_, scaler.var_"
   ]
  },
  {
   "cell_type": "code",
   "execution_count": null,
   "id": "dff033bb",
   "metadata": {},
   "outputs": [],
   "source": [
    "f, ax = plt.subplots(2)\n",
    "hist = ax[0].hist(x_norm)\n",
    "hist = ax[1].hist(x_numeric)"
   ]
  },
  {
   "cell_type": "markdown",
   "id": "85897bdc",
   "metadata": {},
   "source": [
    ">Prueba otras transformacion numerica con los mismos datos y revisa como es la salida de estas transformaciones"
   ]
  },
  {
   "cell_type": "code",
   "execution_count": null,
   "id": "30a67ea4",
   "metadata": {},
   "outputs": [],
   "source": []
  },
  {
   "cell_type": "markdown",
   "id": "abfa3b20",
   "metadata": {},
   "source": [
    "## Transformación categóricas \n",
    "\n",
    "* `preprocessing.OrdinalEncoder()`: transforma cada una de las categorías en un valor numerico, ej: cl, uy, in -> 0,1,2\n",
    "* `preprocessing.OneHotEncoder()`: transforma cada una de las categorías en una columna con 0 y 1. ej: cl, uy, in -> [1,0,0], [0,1,0], [0,0,1]\n",
    "\n",
    "En ambos casos la transformación no aceptan valores nulos por lo que debemos imputar los valores nulos antes de hacer esta.\n"
   ]
  },
  {
   "cell_type": "markdown",
   "id": "61a75bda",
   "metadata": {},
   "source": [
    "### OrdinalEncoder"
   ]
  },
  {
   "cell_type": "code",
   "execution_count": null,
   "id": "92ea6030",
   "metadata": {},
   "outputs": [],
   "source": [
    "x_categoric = train_data[['country_name']].dropna()"
   ]
  },
  {
   "cell_type": "code",
   "execution_count": null,
   "id": "1ad97916",
   "metadata": {},
   "outputs": [],
   "source": [
    "ordinal_encoder = preprocessing.OrdinalEncoder()\n",
    "ordinal_encoder.fit(x_categoric)"
   ]
  },
  {
   "cell_type": "code",
   "execution_count": null,
   "id": "dd715a13",
   "metadata": {},
   "outputs": [],
   "source": [
    "ordinal_encoder.transform(x_categoric)"
   ]
  },
  {
   "cell_type": "markdown",
   "id": "0780e837",
   "metadata": {},
   "source": [
    "### One-Hot Encoder"
   ]
  },
  {
   "cell_type": "code",
   "execution_count": null,
   "id": "0c4b1178",
   "metadata": {},
   "outputs": [],
   "source": [
    "onehot_encoder = preprocessing.OneHotEncoder(handle_unknown='ignore', sparse=False)\n",
    "onehot_encoder.fit(x_categoric)"
   ]
  },
  {
   "cell_type": "code",
   "execution_count": null,
   "id": "dbac351e",
   "metadata": {},
   "outputs": [],
   "source": [
    "onehot_encoder.transform(x_categoric)"
   ]
  },
  {
   "cell_type": "code",
   "execution_count": null,
   "id": "97d3b815",
   "metadata": {},
   "outputs": [],
   "source": []
  },
  {
   "cell_type": "code",
   "execution_count": null,
   "id": "d2fba47b",
   "metadata": {},
   "outputs": [],
   "source": [
    "# si handle_unknown='error' cuando un valor este por fuera del vocabulario va a dar error\n",
    "# onehot_encoder.transform([['xxxx']])"
   ]
  },
  {
   "cell_type": "code",
   "execution_count": null,
   "id": "40929e2d",
   "metadata": {},
   "outputs": [],
   "source": [
    "# si handle_unknown='ignore' cuando un valor este por fuera del vocabulario la salida van a ser solo ceros\n",
    "# onehot_encoder.transform([['xxxx']])"
   ]
  },
  {
   "cell_type": "code",
   "execution_count": null,
   "id": "f8a8df90",
   "metadata": {},
   "outputs": [],
   "source": []
  },
  {
   "cell_type": "markdown",
   "id": "08b8ef13",
   "metadata": {},
   "source": [
    "## Transformaciones en texto\n",
    "* `feature_extraction.text.CountVectorizer`: es una transformacion similar a one-hot encoding pero con mas flexibilidad para procesar texto"
   ]
  },
  {
   "cell_type": "code",
   "execution_count": null,
   "id": "a97e3067",
   "metadata": {},
   "outputs": [],
   "source": [
    "x_vector = x_categoric.iloc[:, 0].dropna().to_numpy()"
   ]
  },
  {
   "cell_type": "code",
   "execution_count": null,
   "id": "3afbce44",
   "metadata": {},
   "outputs": [],
   "source": [
    "count_vectorize = feature_extraction.text.CountVectorizer(\n",
    "    lowercase=True,\n",
    "    tokenizer=lambda x:x.split('\\n'),\n",
    "    max_features=3,\n",
    "    binary=True,\n",
    ")"
   ]
  },
  {
   "cell_type": "code",
   "execution_count": null,
   "id": "250e8c88",
   "metadata": {},
   "outputs": [],
   "source": [
    "count_vectorize.fit(x_vector)\n"
   ]
  },
  {
   "cell_type": "code",
   "execution_count": null,
   "id": "4cbd50bc",
   "metadata": {},
   "outputs": [],
   "source": [
    "count_vectorize.transform(x_vector).todense()"
   ]
  },
  {
   "cell_type": "code",
   "execution_count": null,
   "id": "9b93ad99",
   "metadata": {},
   "outputs": [],
   "source": [
    "x_vector"
   ]
  },
  {
   "cell_type": "code",
   "execution_count": null,
   "id": "97c7ca40",
   "metadata": {},
   "outputs": [],
   "source": [
    "count_vectorize.vocabulary_"
   ]
  },
  {
   "cell_type": "code",
   "execution_count": null,
   "id": "7bec38eb",
   "metadata": {},
   "outputs": [],
   "source": []
  },
  {
   "cell_type": "markdown",
   "id": "735bd563",
   "metadata": {},
   "source": [
    "# Compose\n",
    "## Pipeline\n",
    "Scikit-learn nos permite construir un pipeline que no es más que una secuencia de pasos donde se definen transformaciones concatenadas que generan una salida única\n",
    "<img src=\"../images/pipeline.png\" alt=\"Scikit-learn Transformer\" width=800/>\n"
   ]
  },
  {
   "cell_type": "code",
   "execution_count": null,
   "id": "cc4abbd0",
   "metadata": {},
   "outputs": [],
   "source": [
    "transformer_numeric = Pipeline(\n",
    "    steps=[\n",
    "        (\"imputer\", SimpleImputer(strategy=\"constant\", fill_value=0)),\n",
    "        (\"scaler\", preprocessing.StandardScaler()),\n",
    "    ]\n",
    ")\n",
    "transformer_numeric"
   ]
  },
  {
   "cell_type": "code",
   "execution_count": null,
   "id": "5e56a8ec",
   "metadata": {},
   "outputs": [],
   "source": [
    "transformer_categorical = Pipeline(\n",
    "    steps=[\n",
    "        (\"imputer\", SimpleImputer(strategy=\"most_frequent\")),\n",
    "        (\"one-hot\", preprocessing.OneHotEncoder(handle_unknown='ignore', sparse=False)),\n",
    "    ]\n",
    ")\n",
    "transformer_categorical"
   ]
  },
  {
   "cell_type": "code",
   "execution_count": null,
   "id": "79dd27e1",
   "metadata": {},
   "outputs": [],
   "source": [
    "CATEGORICAL_COLUMNS = [\n",
    "    \"country_name\",\n",
    "    \"device_os\",\n",
    "    \"device_lang\",\n",
    "]\n",
    "NUMERICAL_COLUMNS = [\n",
    "    \"cnt_user_engagement\",\n",
    "    \"cnt_level_start_quickplay\",\n",
    "    \"cnt_level_end_quickplay\",\n",
    "    \"cnt_level_complete_quickplay\",\n",
    "    \"cnt_level_reset_quickplay\",\n",
    "    \"cnt_post_score\",\n",
    "    \"cnt_spend_virtual_currency\",\n",
    "    \"cnt_ad_reward\",\n",
    "    \"cnt_challenge_a_friend\",\n",
    "    \"cnt_completed_5_levels\",\n",
    "    \"cnt_use_extra_steps\",\n",
    "]\n",
    "IGNORE_COLUMNS = [\n",
    "    \"user_first_engagement\",\n",
    "    \"user_pseudo_id\",\n",
    "    \"is_enable\",\n",
    "    \"bounced\",\n",
    "    \"device_lang\",\n",
    "]"
   ]
  },
  {
   "cell_type": "code",
   "execution_count": null,
   "id": "d104a67d",
   "metadata": {},
   "outputs": [],
   "source": [
    "transformer_pipeline = ColumnTransformer(\n",
    "    transformers=[\n",
    "        (\"numeric_features\", transformer_numeric, NUMERICAL_COLUMNS),\n",
    "        (\"categorical_features\", transformer_categorical, CATEGORICAL_COLUMNS),\n",
    "        (\"ignore_features\", \"drop\", IGNORE_COLUMNS),\n",
    "    ]\n",
    ")\n",
    "transformer_pipeline"
   ]
  },
  {
   "cell_type": "code",
   "execution_count": null,
   "id": "c82d3399",
   "metadata": {},
   "outputs": [],
   "source": [
    "transformer_pipeline.fit(train_data)"
   ]
  },
  {
   "cell_type": "code",
   "execution_count": null,
   "id": "c51b31be",
   "metadata": {},
   "outputs": [],
   "source": [
    "transformer_pipeline.transform(train_data)"
   ]
  },
  {
   "cell_type": "code",
   "execution_count": null,
   "id": "bf84797d",
   "metadata": {},
   "outputs": [],
   "source": []
  },
  {
   "cell_type": "code",
   "execution_count": null,
   "id": "c3fd79a7",
   "metadata": {},
   "outputs": [],
   "source": [
    "model_path = 'models'\n",
    "if not os.path.exists(model_path):\n",
    "    os.makedirs(model_path)\n",
    "\n",
    "joblib.dump(transformer_pipeline, f'{model_path}/transformer_full.joblib')"
   ]
  },
  {
   "cell_type": "code",
   "execution_count": null,
   "id": "c3b8ee52",
   "metadata": {},
   "outputs": [],
   "source": []
  },
  {
   "cell_type": "markdown",
   "id": "17c071d3",
   "metadata": {},
   "source": [
    "## Pipeline más complejos"
   ]
  },
  {
   "cell_type": "code",
   "execution_count": null,
   "id": "85d8d038",
   "metadata": {},
   "outputs": [],
   "source": [
    "transformer_numeric = Pipeline(\n",
    "    steps=[\n",
    "        (\"imputer\", SimpleImputer(strategy=\"constant\", fill_value=0)),\n",
    "        (\"scaler\", preprocessing.StandardScaler()),\n",
    "    ]\n",
    ")\n",
    "transformer_numeric"
   ]
  },
  {
   "cell_type": "code",
   "execution_count": null,
   "id": "309c76a5",
   "metadata": {},
   "outputs": [],
   "source": [
    "transformer_categorical = Pipeline(\n",
    "    steps=[\n",
    "        (\"imputer\", SimpleImputer(strategy=\"most_frequent\")),\n",
    "        (\n",
    "            \"count_vectorize\",\n",
    "            ColumnTransformer(\n",
    "                transformers=[\n",
    "                    (\n",
    "                        \"feature_0\",\n",
    "                        feature_extraction.text.CountVectorizer(\n",
    "                            lowercase=False,\n",
    "                            tokenizer=lambda x: x.split(\"\\n\"),\n",
    "                            max_features=3,\n",
    "                            binary=True,\n",
    "                        ),\n",
    "                        0,\n",
    "                    ),\n",
    "                    (\n",
    "                        \"feature_1\",\n",
    "                        feature_extraction.text.CountVectorizer(\n",
    "                            lowercase=False,\n",
    "                            tokenizer=lambda x: x.split(\"\\n\"),\n",
    "                            max_features=5,\n",
    "                            binary=True,\n",
    "                        ),\n",
    "                        1,\n",
    "                    ),\n",
    "                    (\n",
    "                        \"feature_2\",\n",
    "                        feature_extraction.text.CountVectorizer(\n",
    "                            lowercase=False,\n",
    "                            tokenizer=lambda x: x.split(\"\\n\"),\n",
    "                            max_features=8,\n",
    "                            binary=True,\n",
    "                        ),\n",
    "                        2,\n",
    "                    ),\n",
    "                ]\n",
    "            ),\n",
    "        ),\n",
    "    ]\n",
    ")\n",
    "transformer_categorical"
   ]
  },
  {
   "cell_type": "code",
   "execution_count": null,
   "id": "70119655",
   "metadata": {},
   "outputs": [],
   "source": [
    "transformer_pipeline = ColumnTransformer(\n",
    "    transformers=[\n",
    "        (\"numeric_features\", transformer_numeric, NUMERICAL_COLUMNS),\n",
    "        (\"categorical_features\", transformer_categorical, CATEGORICAL_COLUMNS),\n",
    "        (\"ignore_features\", \"drop\", IGNORE_COLUMNS),\n",
    "    ]\n",
    ")\n",
    "transformer_pipeline"
   ]
  },
  {
   "cell_type": "code",
   "execution_count": null,
   "id": "8c200685",
   "metadata": {},
   "outputs": [],
   "source": [
    "transformer_pipeline.fit_transform(train_data).shape"
   ]
  },
  {
   "cell_type": "code",
   "execution_count": null,
   "id": "41467f1b",
   "metadata": {},
   "outputs": [],
   "source": []
  }
 ],
 "metadata": {
  "kernelspec": {
   "display_name": "Python 3",
   "language": "python",
   "name": "python3"
  },
  "language_info": {
   "codemirror_mode": {
    "name": "ipython",
    "version": 3
   },
   "file_extension": ".py",
   "mimetype": "text/x-python",
   "name": "python",
   "nbconvert_exporter": "python",
   "pygments_lexer": "ipython3",
   "version": "3.8.10"
  },
  "toc": {
   "base_numbering": 1,
   "nav_menu": {},
   "number_sections": true,
   "sideBar": true,
   "skip_h1_title": false,
   "title_cell": "Table of Contents",
   "title_sidebar": "Contents",
   "toc_cell": false,
   "toc_position": {},
   "toc_section_display": true,
   "toc_window_display": false
  },
  "varInspector": {
   "cols": {
    "lenName": 16,
    "lenType": 16,
    "lenVar": 40
   },
   "kernels_config": {
    "python": {
     "delete_cmd_postfix": "",
     "delete_cmd_prefix": "del ",
     "library": "var_list.py",
     "varRefreshCmd": "print(var_dic_list())"
    },
    "r": {
     "delete_cmd_postfix": ") ",
     "delete_cmd_prefix": "rm(",
     "library": "var_list.r",
     "varRefreshCmd": "cat(var_dic_list()) "
    }
   },
   "types_to_exclude": [
    "module",
    "function",
    "builtin_function_or_method",
    "instance",
    "_Feature"
   ],
   "window_display": false
  }
 },
 "nbformat": 4,
 "nbformat_minor": 5
}
